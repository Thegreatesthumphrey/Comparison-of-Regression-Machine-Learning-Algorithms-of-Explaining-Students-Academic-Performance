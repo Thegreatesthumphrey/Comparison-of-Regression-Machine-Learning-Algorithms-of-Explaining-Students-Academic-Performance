{
 "cells": [
  {
   "cell_type": "markdown",
   "metadata": {
    "collapsed": true
   },
   "source": [
    "# A Regression Analysis of Students' Academic Performance in Secondary Education"
   ]
  },
  {
   "cell_type": "markdown",
   "metadata": {},
   "source": [
    "### Background and Problem to be Solved"
   ]
  },
  {
   "cell_type": "markdown",
   "metadata": {},
   "source": [
    "What aspects of schooling and parenting are important? What are the key factors that affect school performance? Will alcohol intake directly affect a student’s academic performance? For many of us, adolescence is the point when we become independent person and make crucial decisions on our own. Opportunities for higher education and career development is heavily relied on the academia output. \n",
    " \n",
    "In this project, I would like to identify the factors among a student’s socioeconomic status, study attitude, school that impact the students’ school performance most, especially to check if alcohol use will affect students’ grades, with support of real-world data.\n",
    "I will also investigate machine learning techniques used for solving regression problems. By analyzing data of students under secondary education in Portugal, I will compare techniques among KNNs, SVR, Linear Regression and Trees, and evaluate their predicting power of a student’s final grade."
   ]
  },
  {
   "cell_type": "markdown",
   "metadata": {},
   "source": [
    "### Data"
   ]
  },
  {
   "cell_type": "markdown",
   "metadata": {},
   "source": [
    "The data is collected by Fabio Pagnotta and Hossain Mohammad Amran3,4 from University of Camerino. The data can be accessed through UCI Machine Learning Repository:\n",
    " \n",
    "https://archive.ics.uci.edu/ml/datasets/STUDENT+ALCOHOL+CONSUMPTION\n",
    " \n",
    "The data covers alcohol usage of a group of students under secondary education in Portugal along with their social, gender, study time, and school performance information. The dataset consists of two subdatasets with contributes for both Math (student-mat.csv) and Portuguese language (tudent-por.csv) classes. Each dataset has 32 variables with detailed explanation in “student.txt”. There are 395 students for Math class and 649 students for Portuguese, of which 382 students took both."
   ]
  },
  {
   "cell_type": "markdown",
   "metadata": {},
   "source": [
    " Attributes for both student-mat.csv (Math course) and student-por.csv (Portuguese language course) datasets:"
   ]
  },
  {
   "cell_type": "markdown",
   "metadata": {},
   "source": [
    "    1 school - student's school (binary: \"GP\" - Gabriel Pereira or \"MS\" - Mousinho da Silveira)\n",
    "    2 sex - student's sex (binary: \"F\" - female or \"M\" - male)\n",
    "    3 age - student's age (numeric: from 15 to 22)\n",
    "    4 address - student's home address type (binary: \"U\" - urban or \"R\" - rural)\n",
    "    5 famsize - family size (binary: \"LE3\" - less or equal to 3 or \"GT3\" - greater than 3)\n",
    "    6 Pstatus - parent's cohabitation status (binary: \"T\" - living together or \"A\" - apart)\n",
    "    7 Medu - mother's education (numeric: 0 - none,  1 - primary education (4th grade), 2 – 5th to 9th grade, 3 – secondary education or 4 – higher education)\n",
    "    8 Fedu - father's education (numeric: 0 - none,  1 - primary education (4th grade), 2 – 5th to 9th grade, 3 – secondary education or 4 – higher education)\n",
    "    9 Mjob - mother's job (nominal: \"teacher\", \"health\" care related, civil \"services\" (e.g. administrative or police), \"at_home\" or \"other\")\n",
    "    10 Fjob - father's job (nominal: \"teacher\", \"health\" care related, civil \"services\" (e.g. administrative or police), \"at_home\" or \"other\")\n",
    "    11 reason - reason to choose this school (nominal: close to \"home\", school \"reputation\", \"course\" preference or \"other\")\n",
    "    12 guardian - student's guardian (nominal: \"mother\", \"father\" or \"other\")\n",
    "    13 traveltime - home to school travel time (numeric: 1 - <15 min., 2 - 15 to 30 min., 3 - 30 min. to 1 hour, or 4 - >1 hour)\n",
    "    14 studytime - weekly study time (numeric: 1 - <2 hours, 2 - 2 to 5 hours, 3 - 5 to 10 hours, or 4 - >10 hours)\n",
    "    15 failures - number of past class failures (numeric: n if 1<=n<3, else 4)\n",
    "    16 schoolsup - extra educational support (binary: yes or no)\n",
    "    17 famsup - family educational support (binary: yes or no)\n",
    "    18 paid - extra paid classes within the course subject (Math or Portuguese) (binary: yes or no)\n",
    "    19 activities - extra-curricular activities (binary: yes or no)\n",
    "    20 nursery - attended nursery school (binary: yes or no)\n",
    "    21 higher - wants to take higher education (binary: yes or no)\n",
    "    22 internet - Internet access at home (binary: yes or no)\n",
    "    23 romantic - with a romantic relationship (binary: yes or no)\n",
    "    24 famrel - quality of family relationships (numeric: from 1 - very bad to 5 - excellent)\n",
    "    25 freetime - free time after school (numeric: from 1 - very low to 5 - very high)\n",
    "    26 goout - going out with friends (numeric: from 1 - very low to 5 - very high)\n",
    "    27 Dalc - workday alcohol consumption (numeric: from 1 - very low to 5 - very high)\n",
    "    28 Walc - weekend alcohol consumption (numeric: from 1 - very low to 5 - very high)\n",
    "    29 health - current health status (numeric: from 1 - very bad to 5 - very good)\n",
    "    30 absences - number of school absences (numeric: from 0 to 93)\n",
    "\n",
    "    These grades are related with the course subject, Math or Portuguese:\n",
    "    31 G1 - first period grade (numeric: from 0 to 20)\n",
    "    31 G2 - second period grade (numeric: from 0 to 20)\n",
    "    32 G3 - final grade (numeric: from 0 to 20, output target)"
   ]
  },
  {
   "cell_type": "markdown",
   "metadata": {},
   "source": [
    "### Data Wrangling"
   ]
  },
  {
   "cell_type": "markdown",
   "metadata": {},
   "source": [
    "#### Target variable"
   ]
  },
  {
   "cell_type": "markdown",
   "metadata": {},
   "source": [
    "I use G3, the final grade related with the course subject, Math or Portuguese, as the indicator of the students’ school performance.\n",
    "\n",
    "In order to check if math and Portuguese grades are comparable, I identified students who took both courses, and plotted average Portuguese score (of G1, G2, and G3) over average Math score. In this plot, students with higher math score also tend to have higher Portuguese score. \n",
    "\n",
    "![image1.png](img\\image1.png)\n",
    "\n",
    "\n",
    "By observing the positive correlation, an OLS regression analysis was followed. With R-squared of only 0.341, the model shows weak robustness. However with p-values of both constant and coefficient close to zero, the positive correlatin between average scores of the two courses is statistically significant.\n",
    "\n",
    "The OLS regression estimates give G3_P = G3_M*0.3931 + 8.1004.\n",
    "\n",
    "Target variable G is defined as following:\n",
    "- For students in Math class only, G = G3_M*0.3931 + 8.1004\n",
    "- For studnets in Portuguese class only, G = G3_P\n",
    "- For students in both classes, G = (G3_P + G3_M*0.3931 + 8.1004)/2"
   ]
  },
  {
   "cell_type": "markdown",
   "metadata": {},
   "source": [
    "#### Merge subdatasets"
   ]
  },
  {
   "cell_type": "markdown",
   "metadata": {},
   "source": [
    "To explore any patterns of factors may associated with students’ school performance, I combined the two subdatasets, 'student-mat.csv' and 'student-por.csv'. To avoid the case that same students may appeared twice in the merged datasets, I firstly identified a sub dataset of students that belong to both datasets. For students who took both courses, an estimated G3 will be calculated using G = (G3_P + G3_M*0.3931 + 8.1004)/2. \n",
    "\n",
    "Next, I concatenated three subdatasets generating an initial input dataset. \n",
    "- students that took Math only;\n",
    "- students that took Portuguese only; and\n",
    "- students that took both courses."
   ]
  },
  {
   "cell_type": "markdown",
   "metadata": {},
   "source": [
    "#### Predictor variables"
   ]
  },
  {
   "cell_type": "markdown",
   "metadata": {},
   "source": [
    "New variables created: \n",
    " \n",
    "    “Subject” - measures which course a student was taking. (“M” - Math, “P” - Portuguese, and “B”- both)\n",
    " \n",
    "    “Aalc” - measures daily alcohol consumption was generated using formula Aalc = (Dalc*5 + Walc*2)/7. (Dalc - workday alcohol consumption. Walc - weekend alcohol consumption)\n",
    "\n",
    "Any variables that irrelevant to the study were dropped: \n",
    "\n",
    "    “G1”, “G2”, \"G3\", “paid”, “Dalc”, and “Walc”. \n",
    " \n",
    "In the new preprocessed data “INPUTdf”, the sum of missing data for each column is zero, meaning there is no missing values. \n",
    " \n",
    "By looking into histograms of G3 and Aalc, the two major continuous variables in the dataset, there is also no outliers. "
   ]
  },
  {
   "cell_type": "markdown",
   "metadata": {},
   "source": [
    "### EDA and Summary Statistics"
   ]
  },
  {
   "cell_type": "markdown",
   "metadata": {
    "collapsed": true
   },
   "source": [
    "Estimated final grade, G, has a bell-shaped distribution curve that is centered around 11. By separating G with course subject, we will notice that only a few students were taking math only (Subject = M), while students taking Portuguese only (Subject = P) and taking both (Subject = B) have similar counts. Except that some students with Subject equals “P” got zeros, students with different Subject values show similar distribution pattern of G with similar range. Thus values in G is comprable across different values of Subject.\n",
    "\n",
    "![image2.png](img\\image2.png)\n",
    "![image3.png](img\\image3.png)"
   ]
  },
  {
   "cell_type": "markdown",
   "metadata": {},
   "source": [
    "<img src=\"../image1.png\" />"
   ]
  },
  {
   "cell_type": "markdown",
   "metadata": {},
   "source": [
    "Average daily alcohol consumption level, Aalc, was generated to measure a student’s alcohol intake level. The histogram shows most students on daily average took a very low volume of alcohol, and the number of students decrease while Aalc moves up.\n",
    "\n",
    "![image4.png](/img/image4.png)"
   ]
  },
  {
   "cell_type": "markdown",
   "metadata": {},
   "source": [
    "By plotting G over Aalc, it shows a negative correlation, meaning either the alcohol consumption has negative effects on school performance, or students who are not doing well in school tend to drink more.\n",
    "\n",
    "![image5.png](img\\image5.png)"
   ]
  },
  {
   "cell_type": "markdown",
   "metadata": {},
   "source": [
    "To explore if any feature may correlate with G, I obtained swarm plots using seaborn. This style of plots is often called a”beeswarm”, meaning a categorical statterplot with non-overlapping points. This kind of plots shows relationship between two variables, and in the meanwhile gives a better representation of the distribution of values. Among my swarm plots, features that reveal correlation to target variable, G, are “failures” and “higher”, while most other features do not show any obvious relationship with G.\n",
    "\n",
    "Students with less failures in the past are more likely to have higher G.\n",
    "\n",
    "![imag6e.png](img/image6.png)"
   ]
  },
  {
   "cell_type": "markdown",
   "metadata": {},
   "source": [
    "Students who are willing to get higher grades will have a higher G. Of course! Actually I am surprised that so many students do not show movitation to get higher grades.\n",
    "\n",
    "![image7.png](img/image7.png)"
   ]
  },
  {
   "cell_type": "markdown",
   "metadata": {},
   "source": [
    "### Data Preprocessing\n",
    "The target variable (y) is 3. I include all rest variables as  predictors (X). \n",
    " \n",
    "For binary variables from the original datasets, I replaced “yes”/”no” values with 1/0. The converted variables are listed in below.\n",
    "school - student's school (1 - Gabriel Pereira or 0 - Mousinho da Silveira)\n",
    "\n",
    "    sex - student's sex (1 - female or 0 - male).\n",
    "    address - student's home address type (1 - urban or 0 - rural).\n",
    "    famsize - family size (1 - less or equal to 3 or 0 - greater than 3).\n",
    "    Pstatus - parent's cohabitation status (1- living together or 0 - apart).\n",
    "    schoolsup - extra educational support (1- yes or 0 - no).\n",
    "    famsup - family educational support (1- yes or 0 - no).\n",
    "    activities - extra-curricular activities (1- yes or 0 - no).\n",
    "    nursery - attended nursery school (1- yes or 0 - no).\n",
    "    higher - wants to take higher education (1- yes or 0 - no).\n",
    "    internet - Internet access at home (1- yes or 0 - no).\n",
    "    romantic - with a romantic relationship (1- yes or 0 - no).\n",
    " \n",
    "Next, I dummy coded any nominal categorical variables in X. This will improve model performance by eliminating any relationships form the statistical stories of nominal variables. \n",
    "Nominal variables are listed as the following. \n",
    " \n",
    "    Subject - The course a student was taking. (“M” - Math, “P” - Portuguese, and “B”- both).\n",
    "    Mjob - mother's job (\"teacher\", \"health\" care related, civil \"services\" (e.g. administrative or police), \"at_home\" or \"other\").\n",
    "    Fjob - father's job ( \"teacher\", \"health\" care related, civil \"services\" (e.g. administrative or police), \"at_home\" or \"other\").\n",
    "    reason - reason to choose this school (close to \"home\", school \"reputation\", \"course\" preference or \"other\").\n",
    "    guardian - student's guardian ( \"mother\", \"father\" or \"other\").\n",
    "    \n",
    "In the modeling process, I uniformly randomly splitted the data into 70% of training data set and 30% of test data set. The training set will be used to build a predicting model, and the test data set will be used to test model accuracy. The goal is to build a model that is able to generalize from training set to test set as accurately as possible.\n",
    "\n",
    "At this point, the data is ready for decision tree, random forest, and gradient boosting. \n",
    "\n",
    "SVM, KNN, and linear models are very sensitive to the scaling of the data. There are several methods to transform the data that yield more standard ranges. In this project, I will use the MinMaxScaler that shifts the data such that all features are exactly between 0 and 1.\n",
    "\n",
    "In particular, I scaled only the non-dummy variables in training dataset, and combined the scaled sub data set back to the dummy variables in the training data set. The same steps have been followed to the test dataset. So the datasets are ready for initial modeling. "
   ]
  },
  {
   "cell_type": "markdown",
   "metadata": {},
   "source": [
    "### Result"
   ]
  },
  {
   "cell_type": "markdown",
   "metadata": {},
   "source": [
    "Results from tuning each model.\n",
    "\n",
    "|      | ML Technique     | Training Score | Test Score |Parameters                       |\n",
    "|------|----------------  |----------------|----------------------------------------------|\n",
    "|   1  | Random Forest\t  | 0.603\t       |0.235\t    |max_depth=5, n_nestimators=1000  |\n",
    "|   2  \t|Gradient Boosting Machines\t|0.538|0.231|max_depth=3, n_nestimators=10,learning_rate=0.4|\n",
    "| 3 | Decision Tree\t|0.213\t|0.195\t|max_depth=2|\n",
    "| 4 |Ridge Regression\t|0.247\t|0.176|\talpha=10|\n",
    "|5\t|SVR\t|0.671\t|0.174\t|kernel =rbf, gamma=0.1, C=10|\n",
    "|6|\tLasso Regression|\t0.263|\t0.155|\talpha=0.01|\n",
    "|7|\tKNN|\t0.219\t|0.129|\tn_neighbors=24|"
   ]
  },
  {
   "cell_type": "markdown",
   "metadata": {},
   "source": [
    "Ensemble of decision trees, i.e. random forest and gradient boosting regression trees, give the best estimate. The beauty of these tree-based algorithm is that they work well on a mixture of binary and continuous features without scaling. "
   ]
  },
  {
   "cell_type": "markdown",
   "metadata": {},
   "source": [
    "Feature importances computed from the random forest regressor giving highest test score. \"failures\" and \"absences\" are the most important features.\n",
    "\n",
    "![image8.png](img\\image8.png)"
   ]
  },
  {
   "cell_type": "markdown",
   "metadata": {},
   "source": [
    "Feature importances computed from the gradient boosting regressor giving highest test score. \"absences\", \"failures\", and \"Medu\" are identified as the most important features.\n",
    "![image9.png](img\\image9.png)"
   ]
  },
  {
   "cell_type": "markdown",
   "metadata": {},
   "source": [
    "### Discussion"
   ]
  },
  {
   "cell_type": "markdown",
   "metadata": {},
   "source": [
    "These models overall have weak predicting power, showing the highest test score of only 0.235. \n",
    "\n",
    "There is weak correlation between selected features and G. This was also reflected in the exploratory data analysis section. The 2D scatterplots showing a slightly weak trend indicating lack of predictability of the data itself. \n",
    "\n",
    "The predictor variables may be cross correlated.\n",
    "\n",
    "Target variable G has bias in estimation."
   ]
  },
  {
   "cell_type": "markdown",
   "metadata": {},
   "source": [
    "### Reference"
   ]
  },
  {
   "cell_type": "markdown",
   "metadata": {},
   "source": [
    "Hingson, R.W.; Zha, W.; and Weitzman, E.R. Magnitude of and trends in alcohol-related mortality and morbidity among U.S. college students ages 18–24, 1998–2005. Journal of Studies on Alcohol and Drugs (Suppl. 16):12–20, 2009. PMID: 19538908 http://www.ncbi.nlm.nih.gov/pmc/articles/PMC2701090/\n",
    "\n",
    "http://www.cehd.umn.edu/fsos/projects/alcohol/consequences.asp\n",
    "\n",
    "P. Cortez and A. Silva. Using Data Mining to Predict Secondary School Student Performance. In A. Brito and J. Teixeira Eds., Proceedings of 5th FUture BUsiness TEChnology Conference (FUBUTEC 2008) pp. 5-12, Porto, Portugal, April, 2008, EUROSIS, ISBN 978-9077381-39-7.\n",
    "\n",
    "F. Pagnotta, H.M. Amran. Using Data Mining To Predict Secondary School Student Alcohol Consumption. , Department of Computer Science,University of Camerino.\n"
   ]
  },
  {
   "cell_type": "markdown",
   "metadata": {},
   "source": [
    "# Code"
   ]
  },
  {
   "cell_type": "markdown",
   "metadata": {},
   "source": [
    "Import modules."
   ]
  },
  {
   "cell_type": "code",
   "execution_count": 2,
   "metadata": {},
   "outputs": [
    {
     "name": "stderr",
     "output_type": "stream",
     "text": [
      "/Users/jinghao/anaconda/lib/python3.6/site-packages/sklearn/cross_validation.py:44: DeprecationWarning: This module was deprecated in version 0.18 in favor of the model_selection module into which all the refactored classes and functions are moved. Also note that the interface of the new CV iterators are different from that of this module. This module will be removed in 0.20.\n",
      "  \"This module will be removed in 0.20.\", DeprecationWarning)\n",
      "/Users/jinghao/anaconda/lib/python3.6/site-packages/statsmodels/compat/pandas.py:56: FutureWarning: The pandas.core.datetools module is deprecated and will be removed in a future version. Please use the pandas.tseries module instead.\n",
      "  from pandas.core import datetools\n"
     ]
    }
   ],
   "source": [
    "%matplotlib inline\n",
    "import matplotlib.pyplot as plt\n",
    "import seaborn as sns\n",
    "import pandas as pd\n",
    "import numpy as np\n",
    "from sklearn.model_selection import train_test_split\n",
    "from sklearn import svm\n",
    "from sklearn import cross_validation\n",
    "from sklearn import datasets\n",
    "import statsmodels.api as sm\n",
    "from sklearn.preprocessing import MinMaxScaler\n",
    "from sklearn.preprocessing import StandardScaler\n",
    "from sklearn.preprocessing import RobustScaler \n",
    "from sklearn.preprocessing import Normalizer\n",
    "from sklearn.model_selection import cross_val_score"
   ]
  },
  {
   "cell_type": "markdown",
   "metadata": {},
   "source": [
    "Load \"student-mat.csv\" as Mdf and \"student-por.csv\" as Pdf."
   ]
  },
  {
   "cell_type": "code",
   "execution_count": 3,
   "metadata": {
    "collapsed": true
   },
   "outputs": [],
   "source": [
    "Mdf = pd.read_csv('student-mat.csv',sep=';')\n",
    "Pdf = pd.read_csv('student-por.csv',sep=';')"
   ]
  },
  {
   "cell_type": "markdown",
   "metadata": {},
   "source": [
    "Check dimension of each data set."
   ]
  },
  {
   "cell_type": "code",
   "execution_count": 4,
   "metadata": {},
   "outputs": [
    {
     "data": {
      "text/plain": [
       "(395, 33)"
      ]
     },
     "execution_count": 4,
     "metadata": {},
     "output_type": "execute_result"
    }
   ],
   "source": [
    "Mdf.shape"
   ]
  },
  {
   "cell_type": "code",
   "execution_count": 5,
   "metadata": {},
   "outputs": [
    {
     "data": {
      "text/plain": [
       "(649, 33)"
      ]
     },
     "execution_count": 5,
     "metadata": {},
     "output_type": "execute_result"
    }
   ],
   "source": [
    "Pdf.shape"
   ]
  },
  {
   "cell_type": "markdown",
   "metadata": {},
   "source": [
    "Add column \"Subject\" that describes which course the student has taken."
   ]
  },
  {
   "cell_type": "code",
   "execution_count": 6,
   "metadata": {
    "collapsed": true
   },
   "outputs": [],
   "source": [
    "Mdf['Subject'] = 'M'\n",
    "Pdf['Subject'] = 'P'"
   ]
  },
  {
   "cell_type": "markdown",
   "metadata": {},
   "source": [
    "Identify students who took both Math and Portuguese classes."
   ]
  },
  {
   "cell_type": "code",
   "execution_count": 7,
   "metadata": {
    "scrolled": true
   },
   "outputs": [
    {
     "data": {
      "text/html": [
       "<div>\n",
       "<style>\n",
       "    .dataframe thead tr:only-child th {\n",
       "        text-align: right;\n",
       "    }\n",
       "\n",
       "    .dataframe thead th {\n",
       "        text-align: left;\n",
       "    }\n",
       "\n",
       "    .dataframe tbody tr th {\n",
       "        vertical-align: top;\n",
       "    }\n",
       "</style>\n",
       "<table border=\"1\" class=\"dataframe\">\n",
       "  <thead>\n",
       "    <tr style=\"text-align: right;\">\n",
       "      <th></th>\n",
       "      <th>school</th>\n",
       "      <th>sex</th>\n",
       "      <th>age</th>\n",
       "      <th>address</th>\n",
       "      <th>famsize</th>\n",
       "      <th>Pstatus</th>\n",
       "      <th>Medu</th>\n",
       "      <th>Fedu</th>\n",
       "      <th>Mjob</th>\n",
       "      <th>Fjob</th>\n",
       "      <th>...</th>\n",
       "      <th>freetime_P</th>\n",
       "      <th>goout_P</th>\n",
       "      <th>Dalc_P</th>\n",
       "      <th>Walc_P</th>\n",
       "      <th>health_P</th>\n",
       "      <th>absences_P</th>\n",
       "      <th>G1_P</th>\n",
       "      <th>G2_P</th>\n",
       "      <th>G3_P</th>\n",
       "      <th>Subject_P</th>\n",
       "    </tr>\n",
       "  </thead>\n",
       "  <tbody>\n",
       "    <tr>\n",
       "      <th>0</th>\n",
       "      <td>GP</td>\n",
       "      <td>F</td>\n",
       "      <td>18</td>\n",
       "      <td>U</td>\n",
       "      <td>GT3</td>\n",
       "      <td>A</td>\n",
       "      <td>4</td>\n",
       "      <td>4</td>\n",
       "      <td>at_home</td>\n",
       "      <td>teacher</td>\n",
       "      <td>...</td>\n",
       "      <td>3</td>\n",
       "      <td>4</td>\n",
       "      <td>1</td>\n",
       "      <td>1</td>\n",
       "      <td>3</td>\n",
       "      <td>4</td>\n",
       "      <td>0</td>\n",
       "      <td>11</td>\n",
       "      <td>11</td>\n",
       "      <td>P</td>\n",
       "    </tr>\n",
       "    <tr>\n",
       "      <th>1</th>\n",
       "      <td>GP</td>\n",
       "      <td>F</td>\n",
       "      <td>17</td>\n",
       "      <td>U</td>\n",
       "      <td>GT3</td>\n",
       "      <td>T</td>\n",
       "      <td>1</td>\n",
       "      <td>1</td>\n",
       "      <td>at_home</td>\n",
       "      <td>other</td>\n",
       "      <td>...</td>\n",
       "      <td>3</td>\n",
       "      <td>3</td>\n",
       "      <td>1</td>\n",
       "      <td>1</td>\n",
       "      <td>3</td>\n",
       "      <td>2</td>\n",
       "      <td>9</td>\n",
       "      <td>11</td>\n",
       "      <td>11</td>\n",
       "      <td>P</td>\n",
       "    </tr>\n",
       "    <tr>\n",
       "      <th>2</th>\n",
       "      <td>GP</td>\n",
       "      <td>F</td>\n",
       "      <td>15</td>\n",
       "      <td>U</td>\n",
       "      <td>LE3</td>\n",
       "      <td>T</td>\n",
       "      <td>1</td>\n",
       "      <td>1</td>\n",
       "      <td>at_home</td>\n",
       "      <td>other</td>\n",
       "      <td>...</td>\n",
       "      <td>3</td>\n",
       "      <td>2</td>\n",
       "      <td>2</td>\n",
       "      <td>3</td>\n",
       "      <td>3</td>\n",
       "      <td>6</td>\n",
       "      <td>12</td>\n",
       "      <td>13</td>\n",
       "      <td>12</td>\n",
       "      <td>P</td>\n",
       "    </tr>\n",
       "    <tr>\n",
       "      <th>3</th>\n",
       "      <td>GP</td>\n",
       "      <td>F</td>\n",
       "      <td>15</td>\n",
       "      <td>U</td>\n",
       "      <td>GT3</td>\n",
       "      <td>T</td>\n",
       "      <td>4</td>\n",
       "      <td>2</td>\n",
       "      <td>health</td>\n",
       "      <td>services</td>\n",
       "      <td>...</td>\n",
       "      <td>2</td>\n",
       "      <td>2</td>\n",
       "      <td>1</td>\n",
       "      <td>1</td>\n",
       "      <td>5</td>\n",
       "      <td>0</td>\n",
       "      <td>14</td>\n",
       "      <td>14</td>\n",
       "      <td>14</td>\n",
       "      <td>P</td>\n",
       "    </tr>\n",
       "    <tr>\n",
       "      <th>4</th>\n",
       "      <td>GP</td>\n",
       "      <td>F</td>\n",
       "      <td>16</td>\n",
       "      <td>U</td>\n",
       "      <td>GT3</td>\n",
       "      <td>T</td>\n",
       "      <td>3</td>\n",
       "      <td>3</td>\n",
       "      <td>other</td>\n",
       "      <td>other</td>\n",
       "      <td>...</td>\n",
       "      <td>3</td>\n",
       "      <td>2</td>\n",
       "      <td>1</td>\n",
       "      <td>2</td>\n",
       "      <td>5</td>\n",
       "      <td>0</td>\n",
       "      <td>11</td>\n",
       "      <td>13</td>\n",
       "      <td>13</td>\n",
       "      <td>P</td>\n",
       "    </tr>\n",
       "  </tbody>\n",
       "</table>\n",
       "<p>5 rows × 55 columns</p>\n",
       "</div>"
      ],
      "text/plain": [
       "  school sex  age address famsize Pstatus  Medu  Fedu     Mjob      Fjob  \\\n",
       "0     GP   F   18       U     GT3       A     4     4  at_home   teacher   \n",
       "1     GP   F   17       U     GT3       T     1     1  at_home     other   \n",
       "2     GP   F   15       U     LE3       T     1     1  at_home     other   \n",
       "3     GP   F   15       U     GT3       T     4     2   health  services   \n",
       "4     GP   F   16       U     GT3       T     3     3    other     other   \n",
       "\n",
       "     ...    freetime_P goout_P  Dalc_P  Walc_P  health_P absences_P G1_P G2_P  \\\n",
       "0    ...             3       4       1       1         3          4    0   11   \n",
       "1    ...             3       3       1       1         3          2    9   11   \n",
       "2    ...             3       2       2       3         3          6   12   13   \n",
       "3    ...             2       2       1       1         5          0   14   14   \n",
       "4    ...             3       2       1       2         5          0   11   13   \n",
       "\n",
       "  G3_P Subject_P  \n",
       "0   11         P  \n",
       "1   11         P  \n",
       "2   12         P  \n",
       "3   14         P  \n",
       "4   13         P  \n",
       "\n",
       "[5 rows x 55 columns]"
      ]
     },
     "execution_count": 7,
     "metadata": {},
     "output_type": "execute_result"
    }
   ],
   "source": [
    "df = pd.merge(Mdf,Pdf,on=[\"school\",\"sex\",\"age\",\"address\",\"famsize\",\"Pstatus\",\"Medu\",\"Fedu\",\"Mjob\",\"Fjob\",\"reason\",\"nursery\",\"internet\"], suffixes=('_M','_P'))\n",
    "df.head()"
   ]
  },
  {
   "cell_type": "markdown",
   "metadata": {},
   "source": [
    "Update \"Subject\" with \"B\", meaning students took both courses."
   ]
  },
  {
   "cell_type": "code",
   "execution_count": 8,
   "metadata": {
    "collapsed": true
   },
   "outputs": [],
   "source": [
    "df['Subject'] = 'B'"
   ]
  },
  {
   "cell_type": "markdown",
   "metadata": {},
   "source": [
    "To check if grades from two classes are comparable, I plot average Portuguese score (of G1, G2, and G3) over average math score for each student who took two classes."
   ]
  },
  {
   "cell_type": "code",
   "execution_count": 100,
   "metadata": {},
   "outputs": [
    {
     "data": {
      "text/plain": [
       "[<matplotlib.text.Text at 0x1200b06a0>, <matplotlib.text.Text at 0x12018cef0>]"
      ]
     },
     "execution_count": 100,
     "metadata": {},
     "output_type": "execute_result"
    },
    {
     "data": {
      "image/png": "[encoded data removed]",
      "text/plain": [
       "<matplotlib.figure.Figure at 0x120183d68>"
      ]
     },
     "metadata": {},
     "output_type": "display_data"
    }
   ],
   "source": [
    "x = (df.G1_M+df.G2_M+df.G3_M)/3\n",
    "y = (df.G1_P+df.G2_P+df.G3_P)/3\n",
    "ax = sns.regplot (x,y)\n",
    "ax.set(xlabel='Average Math Score', ylabel='Average Portuguese Score')"
   ]
  },
  {
   "cell_type": "markdown",
   "metadata": {},
   "source": [
    "OLS regression of average Portugese score over average math score."
   ]
  },
  {
   "cell_type": "code",
   "execution_count": 10,
   "metadata": {
    "scrolled": false
   },
   "outputs": [
    {
     "name": "stdout",
     "output_type": "stream",
     "text": [
      "                            OLS Regression Results                            \n",
      "==============================================================================\n",
      "Dep. Variable:                      y   R-squared:                       0.341\n",
      "Model:                            OLS   Adj. R-squared:                  0.340\n",
      "Method:                 Least Squares   F-statistic:                     196.9\n",
      "Date:                Tue, 29 Aug 2017   Prob (F-statistic):           2.46e-36\n",
      "Time:                        12:03:14   Log-Likelihood:                -817.08\n",
      "No. Observations:                 382   AIC:                             1638.\n",
      "Df Residuals:                     380   BIC:                             1646.\n",
      "Df Model:                           1                                         \n",
      "Covariance Type:            nonrobust                                         \n",
      "==============================================================================\n",
      "                 coef    std err          t      P>|t|      [0.025      0.975]\n",
      "------------------------------------------------------------------------------\n",
      "const          8.1004      0.317     25.590      0.000       7.478       8.723\n",
      "x1             0.3931      0.028     14.033      0.000       0.338       0.448\n",
      "==============================================================================\n",
      "Omnibus:                       12.118   Durbin-Watson:                   1.771\n",
      "Prob(Omnibus):                  0.002   Jarque-Bera (JB):               13.711\n",
      "Skew:                          -0.344   Prob(JB):                      0.00105\n",
      "Kurtosis:                       3.623   Cond. No.                         34.2\n",
      "==============================================================================\n",
      "\n",
      "Warnings:\n",
      "[1] Standard Errors assume that the covariance matrix of the errors is correctly specified.\n"
     ]
    }
   ],
   "source": [
    "import statsmodels.formula.api as sm\n",
    "import statsmodels.tools\n",
    "X = np.array(x)\n",
    "Y = np.array(y)\n",
    "model = sm.OLS(y, statsmodels.tools.add_constant(X))\n",
    "results = model.fit()\n",
    "print(results.summary())"
   ]
  },
  {
   "cell_type": "markdown",
   "metadata": {},
   "source": [
    "Identify target variable G in df, of which the students took two courses."
   ]
  },
  {
   "cell_type": "code",
   "execution_count": 11,
   "metadata": {
    "collapsed": true
   },
   "outputs": [],
   "source": [
    "df.loc[:,'G'] = 0.5 * ((df.G3_M * 0.3831 + 8.1004) + df.G3_M)"
   ]
  },
  {
   "cell_type": "code",
   "execution_count": 12,
   "metadata": {},
   "outputs": [
    {
     "data": {
      "text/plain": [
       "Index(['school', 'sex', 'age', 'address', 'famsize', 'Pstatus', 'Medu', 'Fedu',\n",
       "       'Mjob', 'Fjob', 'reason', 'guardian_M', 'traveltime_M', 'studytime_M',\n",
       "       'failures_M', 'schoolsup_M', 'famsup_M', 'paid_M', 'activities_M',\n",
       "       'nursery', 'higher_M', 'internet', 'romantic_M', 'famrel_M',\n",
       "       'freetime_M', 'goout_M', 'Dalc_M', 'Walc_M', 'health_M', 'absences_M',\n",
       "       'G1_M', 'G2_M', 'G3_M', 'Subject_M', 'guardian_P', 'traveltime_P',\n",
       "       'studytime_P', 'failures_P', 'schoolsup_P', 'famsup_P', 'paid_P',\n",
       "       'activities_P', 'higher_P', 'romantic_P', 'famrel_P', 'freetime_P',\n",
       "       'goout_P', 'Dalc_P', 'Walc_P', 'health_P', 'absences_P', 'G1_P', 'G2_P',\n",
       "       'G3_P', 'Subject_P', 'Subject', 'G'],\n",
       "      dtype='object')"
      ]
     },
     "execution_count": 12,
     "metadata": {},
     "output_type": "execute_result"
    }
   ],
   "source": [
    "df.columns"
   ]
  },
  {
   "cell_type": "markdown",
   "metadata": {},
   "source": [
    "Merge the updated dataset df back to Mdf, and generate a dataset consists of students who took math only, and who took two courses."
   ]
  },
  {
   "cell_type": "code",
   "execution_count": 13,
   "metadata": {
    "collapsed": true
   },
   "outputs": [],
   "source": [
    "#Mdf2 has the portion of df that only comes from Mdf.\n",
    "Mdf2 = df.drop(['guardian_P', 'traveltime_P',\n",
    "       'studytime_P', 'failures_P', 'schoolsup_P', 'famsup_P', 'paid_P',\n",
    "       'activities_P', 'higher_P', 'romantic_P', 'famrel_P', 'freetime_P',\n",
    "       'goout_P', 'Dalc_P', 'Walc_P', 'health_P', 'absences_P', 'G1_P', 'G2_P',\n",
    "       'G3_P', 'Subject_P','Subject_M'], axis=1)\n",
    "#rename columns of Mdf2 the same as Mdf so that we can combine them.\n",
    "Mdf2.columns = (['school', 'sex', 'age', 'address', 'famsize', 'Pstatus', 'Medu', 'Fedu',\n",
    "       'Mjob', 'Fjob', 'reason', 'guardian', 'traveltime', 'studytime',\n",
    "       'failures', 'schoolsup', 'famsup', 'paid', 'activities',\n",
    "       'nursery', 'higher', 'internet', 'romantic', 'famrel',\n",
    "       'freetime', 'goout', 'Dalc', 'Walc', 'health', 'absences',\n",
    "       'G1', 'G2', 'G3', 'Subject', 'G'])\n",
    "#combine Mdf2 and Mdf, and drop the duplicates\n",
    "Mdf_new = pd.concat([Mdf, Mdf2])\n",
    "Mdf_new = Mdf_new.drop_duplicates(['Dalc', 'Fedu', 'Fjob', 'G1', 'G2', 'G3', 'Medu', 'Mjob', 'Pstatus', 'Walc', 'absences', 'activities', 'address', 'age',\n",
    "       'failures', 'famrel', 'famsize', 'famsup', 'freetime', 'goout',\n",
    "       'guardian', 'health', 'higher', 'internet', 'nursery', 'paid',\n",
    "       'reason', 'romantic', 'school', 'schoolsup', 'sex', 'studytime',\n",
    "       'traveltime'], keep='last')"
   ]
  },
  {
   "cell_type": "markdown",
   "metadata": {},
   "source": [
    "Update G in Mdf_new. For students only taking Math, G = G3_M*0.3931 + 8.1004."
   ]
  },
  {
   "cell_type": "code",
   "execution_count": 14,
   "metadata": {
    "collapsed": true,
    "scrolled": true
   },
   "outputs": [],
   "source": [
    "Mdf_new.G = Mdf_new.G.fillna(Mdf_new['G3'] * 0.3931 + 8.1004)"
   ]
  },
  {
   "cell_type": "code",
   "execution_count": 15,
   "metadata": {
    "scrolled": true
   },
   "outputs": [
    {
     "data": {
      "text/html": [
       "<div>\n",
       "<style>\n",
       "    .dataframe thead tr:only-child th {\n",
       "        text-align: right;\n",
       "    }\n",
       "\n",
       "    .dataframe thead th {\n",
       "        text-align: left;\n",
       "    }\n",
       "\n",
       "    .dataframe tbody tr th {\n",
       "        vertical-align: top;\n",
       "    }\n",
       "</style>\n",
       "<table border=\"1\" class=\"dataframe\">\n",
       "  <thead>\n",
       "    <tr style=\"text-align: right;\">\n",
       "      <th></th>\n",
       "      <th>Dalc</th>\n",
       "      <th>Fedu</th>\n",
       "      <th>G</th>\n",
       "      <th>G1</th>\n",
       "      <th>G2</th>\n",
       "      <th>G3</th>\n",
       "      <th>Medu</th>\n",
       "      <th>Walc</th>\n",
       "      <th>absences</th>\n",
       "      <th>age</th>\n",
       "      <th>failures</th>\n",
       "      <th>famrel</th>\n",
       "      <th>freetime</th>\n",
       "      <th>goout</th>\n",
       "      <th>health</th>\n",
       "      <th>studytime</th>\n",
       "      <th>traveltime</th>\n",
       "    </tr>\n",
       "  </thead>\n",
       "  <tbody>\n",
       "    <tr>\n",
       "      <th>count</th>\n",
       "      <td>395.000000</td>\n",
       "      <td>395.000000</td>\n",
       "      <td>395.000000</td>\n",
       "      <td>395.000000</td>\n",
       "      <td>395.000000</td>\n",
       "      <td>395.000000</td>\n",
       "      <td>395.000000</td>\n",
       "      <td>395.000000</td>\n",
       "      <td>395.000000</td>\n",
       "      <td>395.000000</td>\n",
       "      <td>395.000000</td>\n",
       "      <td>395.000000</td>\n",
       "      <td>395.000000</td>\n",
       "      <td>395.000000</td>\n",
       "      <td>395.000000</td>\n",
       "      <td>395.000000</td>\n",
       "      <td>395.000000</td>\n",
       "    </tr>\n",
       "    <tr>\n",
       "      <th>mean</th>\n",
       "      <td>1.481013</td>\n",
       "      <td>2.521519</td>\n",
       "      <td>11.326318</td>\n",
       "      <td>10.908861</td>\n",
       "      <td>10.713924</td>\n",
       "      <td>10.415190</td>\n",
       "      <td>2.749367</td>\n",
       "      <td>2.291139</td>\n",
       "      <td>5.708861</td>\n",
       "      <td>16.696203</td>\n",
       "      <td>0.334177</td>\n",
       "      <td>3.944304</td>\n",
       "      <td>3.235443</td>\n",
       "      <td>3.108861</td>\n",
       "      <td>3.554430</td>\n",
       "      <td>2.035443</td>\n",
       "      <td>1.448101</td>\n",
       "    </tr>\n",
       "    <tr>\n",
       "      <th>std</th>\n",
       "      <td>0.890741</td>\n",
       "      <td>1.088201</td>\n",
       "      <td>3.114539</td>\n",
       "      <td>3.319195</td>\n",
       "      <td>3.761505</td>\n",
       "      <td>4.581443</td>\n",
       "      <td>1.094735</td>\n",
       "      <td>1.287897</td>\n",
       "      <td>8.003096</td>\n",
       "      <td>1.276043</td>\n",
       "      <td>0.743651</td>\n",
       "      <td>0.896659</td>\n",
       "      <td>0.998862</td>\n",
       "      <td>1.113278</td>\n",
       "      <td>1.390303</td>\n",
       "      <td>0.839240</td>\n",
       "      <td>0.697505</td>\n",
       "    </tr>\n",
       "    <tr>\n",
       "      <th>min</th>\n",
       "      <td>1.000000</td>\n",
       "      <td>0.000000</td>\n",
       "      <td>4.050200</td>\n",
       "      <td>3.000000</td>\n",
       "      <td>0.000000</td>\n",
       "      <td>0.000000</td>\n",
       "      <td>0.000000</td>\n",
       "      <td>1.000000</td>\n",
       "      <td>0.000000</td>\n",
       "      <td>15.000000</td>\n",
       "      <td>0.000000</td>\n",
       "      <td>1.000000</td>\n",
       "      <td>1.000000</td>\n",
       "      <td>1.000000</td>\n",
       "      <td>1.000000</td>\n",
       "      <td>1.000000</td>\n",
       "      <td>1.000000</td>\n",
       "    </tr>\n",
       "    <tr>\n",
       "      <th>25%</th>\n",
       "      <td>1.000000</td>\n",
       "      <td>2.000000</td>\n",
       "      <td>9.928375</td>\n",
       "      <td>8.000000</td>\n",
       "      <td>9.000000</td>\n",
       "      <td>8.000000</td>\n",
       "      <td>2.000000</td>\n",
       "      <td>1.000000</td>\n",
       "      <td>0.000000</td>\n",
       "      <td>16.000000</td>\n",
       "      <td>0.000000</td>\n",
       "      <td>4.000000</td>\n",
       "      <td>3.000000</td>\n",
       "      <td>2.000000</td>\n",
       "      <td>3.000000</td>\n",
       "      <td>1.000000</td>\n",
       "      <td>1.000000</td>\n",
       "    </tr>\n",
       "    <tr>\n",
       "      <th>50%</th>\n",
       "      <td>1.000000</td>\n",
       "      <td>2.000000</td>\n",
       "      <td>11.657250</td>\n",
       "      <td>11.000000</td>\n",
       "      <td>11.000000</td>\n",
       "      <td>11.000000</td>\n",
       "      <td>3.000000</td>\n",
       "      <td>2.000000</td>\n",
       "      <td>4.000000</td>\n",
       "      <td>17.000000</td>\n",
       "      <td>0.000000</td>\n",
       "      <td>4.000000</td>\n",
       "      <td>3.000000</td>\n",
       "      <td>3.000000</td>\n",
       "      <td>4.000000</td>\n",
       "      <td>2.000000</td>\n",
       "      <td>1.000000</td>\n",
       "    </tr>\n",
       "    <tr>\n",
       "      <th>75%</th>\n",
       "      <td>2.000000</td>\n",
       "      <td>3.000000</td>\n",
       "      <td>13.731900</td>\n",
       "      <td>13.000000</td>\n",
       "      <td>13.000000</td>\n",
       "      <td>14.000000</td>\n",
       "      <td>4.000000</td>\n",
       "      <td>3.000000</td>\n",
       "      <td>8.000000</td>\n",
       "      <td>18.000000</td>\n",
       "      <td>0.000000</td>\n",
       "      <td>5.000000</td>\n",
       "      <td>4.000000</td>\n",
       "      <td>4.000000</td>\n",
       "      <td>5.000000</td>\n",
       "      <td>2.000000</td>\n",
       "      <td>2.000000</td>\n",
       "    </tr>\n",
       "    <tr>\n",
       "      <th>max</th>\n",
       "      <td>5.000000</td>\n",
       "      <td>4.000000</td>\n",
       "      <td>17.881200</td>\n",
       "      <td>19.000000</td>\n",
       "      <td>19.000000</td>\n",
       "      <td>20.000000</td>\n",
       "      <td>4.000000</td>\n",
       "      <td>5.000000</td>\n",
       "      <td>75.000000</td>\n",
       "      <td>22.000000</td>\n",
       "      <td>3.000000</td>\n",
       "      <td>5.000000</td>\n",
       "      <td>5.000000</td>\n",
       "      <td>5.000000</td>\n",
       "      <td>5.000000</td>\n",
       "      <td>4.000000</td>\n",
       "      <td>4.000000</td>\n",
       "    </tr>\n",
       "  </tbody>\n",
       "</table>\n",
       "</div>"
      ],
      "text/plain": [
       "             Dalc        Fedu           G          G1          G2          G3  \\\n",
       "count  395.000000  395.000000  395.000000  395.000000  395.000000  395.000000   \n",
       "mean     1.481013    2.521519   11.326318   10.908861   10.713924   10.415190   \n",
       "std      0.890741    1.088201    3.114539    3.319195    3.761505    4.581443   \n",
       "min      1.000000    0.000000    4.050200    3.000000    0.000000    0.000000   \n",
       "25%      1.000000    2.000000    9.928375    8.000000    9.000000    8.000000   \n",
       "50%      1.000000    2.000000   11.657250   11.000000   11.000000   11.000000   \n",
       "75%      2.000000    3.000000   13.731900   13.000000   13.000000   14.000000   \n",
       "max      5.000000    4.000000   17.881200   19.000000   19.000000   20.000000   \n",
       "\n",
       "             Medu        Walc    absences         age    failures      famrel  \\\n",
       "count  395.000000  395.000000  395.000000  395.000000  395.000000  395.000000   \n",
       "mean     2.749367    2.291139    5.708861   16.696203    0.334177    3.944304   \n",
       "std      1.094735    1.287897    8.003096    1.276043    0.743651    0.896659   \n",
       "min      0.000000    1.000000    0.000000   15.000000    0.000000    1.000000   \n",
       "25%      2.000000    1.000000    0.000000   16.000000    0.000000    4.000000   \n",
       "50%      3.000000    2.000000    4.000000   17.000000    0.000000    4.000000   \n",
       "75%      4.000000    3.000000    8.000000   18.000000    0.000000    5.000000   \n",
       "max      4.000000    5.000000   75.000000   22.000000    3.000000    5.000000   \n",
       "\n",
       "         freetime       goout      health   studytime  traveltime  \n",
       "count  395.000000  395.000000  395.000000  395.000000  395.000000  \n",
       "mean     3.235443    3.108861    3.554430    2.035443    1.448101  \n",
       "std      0.998862    1.113278    1.390303    0.839240    0.697505  \n",
       "min      1.000000    1.000000    1.000000    1.000000    1.000000  \n",
       "25%      3.000000    2.000000    3.000000    1.000000    1.000000  \n",
       "50%      3.000000    3.000000    4.000000    2.000000    1.000000  \n",
       "75%      4.000000    4.000000    5.000000    2.000000    2.000000  \n",
       "max      5.000000    5.000000    5.000000    4.000000    4.000000  "
      ]
     },
     "execution_count": 15,
     "metadata": {},
     "output_type": "execute_result"
    }
   ],
   "source": [
    "Mdf_new.describe()"
   ]
  },
  {
   "cell_type": "code",
   "execution_count": 16,
   "metadata": {
    "collapsed": true
   },
   "outputs": [],
   "source": [
    "Pdf2 = df.drop(['guardian_M', 'traveltime_M', 'studytime_M',\n",
    "       'failures_M', 'schoolsup_M', 'famsup_M', 'paid_M', 'activities_M',\n",
    "       'higher_M', 'romantic_M', 'famrel_M',\n",
    "       'freetime_M', 'goout_M', 'Dalc_M', 'Walc_M', 'health_M', 'absences_M',\n",
    "       'G1_M', 'G2_M', 'G3_M', 'Subject_M', 'Subject_P'], axis=1)\n",
    "Pdf2.columns = (['school', 'sex', 'age', 'address', 'famsize', 'Pstatus', 'Medu', 'Fedu',\n",
    "       'Mjob', 'Fjob', 'reason', 'nursery', 'internet', 'guardian',\n",
    "       'traveltime', 'studytime', 'failures', 'schoolsup', 'famsup',\n",
    "       'paid', 'activities', 'higher', 'romantic', 'famrel',\n",
    "       'freetime', 'goout', 'Dalc', 'Walc', 'health', 'absences',\n",
    "       'G1', 'G2', 'G3', 'Subject', 'G'])"
   ]
  },
  {
   "cell_type": "code",
   "execution_count": 17,
   "metadata": {
    "collapsed": true
   },
   "outputs": [],
   "source": [
    "Pdf_new = pd.concat([Pdf, Pdf2]).drop_duplicates([\"school\",\"sex\",\"age\",\"address\",\"famsize\",\"Pstatus\",\"Medu\",\"Fedu\",\"Mjob\",\"Fjob\",\"reason\",\"nursery\",\"internet\"], keep=False)"
   ]
  },
  {
   "cell_type": "code",
   "execution_count": 18,
   "metadata": {
    "scrolled": true
   },
   "outputs": [
    {
     "data": {
      "text/plain": [
       "P    268\n",
       "Name: Subject, dtype: int64"
      ]
     },
     "execution_count": 18,
     "metadata": {},
     "output_type": "execute_result"
    }
   ],
   "source": [
    "Pdf_new.Subject.value_counts()"
   ]
  },
  {
   "cell_type": "code",
   "execution_count": 19,
   "metadata": {
    "collapsed": true
   },
   "outputs": [],
   "source": [
    "Pdf_new['G'] = Pdf_new.G.fillna(Pdf_new.G3)"
   ]
  },
  {
   "cell_type": "code",
   "execution_count": 20,
   "metadata": {},
   "outputs": [
    {
     "data": {
      "text/html": [
       "<div>\n",
       "<style>\n",
       "    .dataframe thead tr:only-child th {\n",
       "        text-align: right;\n",
       "    }\n",
       "\n",
       "    .dataframe thead th {\n",
       "        text-align: left;\n",
       "    }\n",
       "\n",
       "    .dataframe tbody tr th {\n",
       "        vertical-align: top;\n",
       "    }\n",
       "</style>\n",
       "<table border=\"1\" class=\"dataframe\">\n",
       "  <thead>\n",
       "    <tr style=\"text-align: right;\">\n",
       "      <th></th>\n",
       "      <th>Dalc</th>\n",
       "      <th>Fedu</th>\n",
       "      <th>G</th>\n",
       "      <th>G1</th>\n",
       "      <th>G2</th>\n",
       "      <th>G3</th>\n",
       "      <th>Medu</th>\n",
       "      <th>Walc</th>\n",
       "      <th>absences</th>\n",
       "      <th>age</th>\n",
       "      <th>failures</th>\n",
       "      <th>famrel</th>\n",
       "      <th>freetime</th>\n",
       "      <th>goout</th>\n",
       "      <th>health</th>\n",
       "      <th>studytime</th>\n",
       "      <th>traveltime</th>\n",
       "    </tr>\n",
       "  </thead>\n",
       "  <tbody>\n",
       "    <tr>\n",
       "      <th>count</th>\n",
       "      <td>268.000000</td>\n",
       "      <td>268.000000</td>\n",
       "      <td>268.000000</td>\n",
       "      <td>268.000000</td>\n",
       "      <td>268.000000</td>\n",
       "      <td>268.000000</td>\n",
       "      <td>268.000000</td>\n",
       "      <td>268.000000</td>\n",
       "      <td>268.000000</td>\n",
       "      <td>268.000000</td>\n",
       "      <td>268.000000</td>\n",
       "      <td>268.000000</td>\n",
       "      <td>268.000000</td>\n",
       "      <td>268.000000</td>\n",
       "      <td>268.000000</td>\n",
       "      <td>268.000000</td>\n",
       "      <td>268.000000</td>\n",
       "    </tr>\n",
       "    <tr>\n",
       "      <th>mean</th>\n",
       "      <td>1.544776</td>\n",
       "      <td>1.973881</td>\n",
       "      <td>11.059701</td>\n",
       "      <td>10.421642</td>\n",
       "      <td>10.645522</td>\n",
       "      <td>11.059701</td>\n",
       "      <td>2.126866</td>\n",
       "      <td>2.268657</td>\n",
       "      <td>3.772388</td>\n",
       "      <td>16.996269</td>\n",
       "      <td>0.339552</td>\n",
       "      <td>3.936567</td>\n",
       "      <td>3.104478</td>\n",
       "      <td>3.264925</td>\n",
       "      <td>3.500000</td>\n",
       "      <td>1.757463</td>\n",
       "      <td>1.731343</td>\n",
       "    </tr>\n",
       "    <tr>\n",
       "      <th>std</th>\n",
       "      <td>0.976240</td>\n",
       "      <td>1.029194</td>\n",
       "      <td>3.427715</td>\n",
       "      <td>2.699254</td>\n",
       "      <td>3.231009</td>\n",
       "      <td>3.427715</td>\n",
       "      <td>1.080447</td>\n",
       "      <td>1.293395</td>\n",
       "      <td>4.439825</td>\n",
       "      <td>1.234638</td>\n",
       "      <td>0.692660</td>\n",
       "      <td>0.990444</td>\n",
       "      <td>1.143414</td>\n",
       "      <td>1.227327</td>\n",
       "      <td>1.500312</td>\n",
       "      <td>0.781900</td>\n",
       "      <td>0.775700</td>\n",
       "    </tr>\n",
       "    <tr>\n",
       "      <th>min</th>\n",
       "      <td>1.000000</td>\n",
       "      <td>0.000000</td>\n",
       "      <td>0.000000</td>\n",
       "      <td>4.000000</td>\n",
       "      <td>0.000000</td>\n",
       "      <td>0.000000</td>\n",
       "      <td>0.000000</td>\n",
       "      <td>1.000000</td>\n",
       "      <td>0.000000</td>\n",
       "      <td>15.000000</td>\n",
       "      <td>0.000000</td>\n",
       "      <td>1.000000</td>\n",
       "      <td>1.000000</td>\n",
       "      <td>1.000000</td>\n",
       "      <td>1.000000</td>\n",
       "      <td>1.000000</td>\n",
       "      <td>1.000000</td>\n",
       "    </tr>\n",
       "    <tr>\n",
       "      <th>25%</th>\n",
       "      <td>1.000000</td>\n",
       "      <td>1.000000</td>\n",
       "      <td>9.750000</td>\n",
       "      <td>9.000000</td>\n",
       "      <td>9.000000</td>\n",
       "      <td>9.750000</td>\n",
       "      <td>1.000000</td>\n",
       "      <td>1.000000</td>\n",
       "      <td>0.000000</td>\n",
       "      <td>16.000000</td>\n",
       "      <td>0.000000</td>\n",
       "      <td>4.000000</td>\n",
       "      <td>2.000000</td>\n",
       "      <td>2.000000</td>\n",
       "      <td>2.000000</td>\n",
       "      <td>1.000000</td>\n",
       "      <td>1.000000</td>\n",
       "    </tr>\n",
       "    <tr>\n",
       "      <th>50%</th>\n",
       "      <td>1.000000</td>\n",
       "      <td>2.000000</td>\n",
       "      <td>11.000000</td>\n",
       "      <td>10.000000</td>\n",
       "      <td>10.000000</td>\n",
       "      <td>11.000000</td>\n",
       "      <td>2.000000</td>\n",
       "      <td>2.000000</td>\n",
       "      <td>2.000000</td>\n",
       "      <td>17.000000</td>\n",
       "      <td>0.000000</td>\n",
       "      <td>4.000000</td>\n",
       "      <td>3.000000</td>\n",
       "      <td>3.000000</td>\n",
       "      <td>4.000000</td>\n",
       "      <td>2.000000</td>\n",
       "      <td>2.000000</td>\n",
       "    </tr>\n",
       "    <tr>\n",
       "      <th>75%</th>\n",
       "      <td>2.000000</td>\n",
       "      <td>2.250000</td>\n",
       "      <td>13.000000</td>\n",
       "      <td>12.000000</td>\n",
       "      <td>13.000000</td>\n",
       "      <td>13.000000</td>\n",
       "      <td>3.000000</td>\n",
       "      <td>3.000000</td>\n",
       "      <td>6.000000</td>\n",
       "      <td>18.000000</td>\n",
       "      <td>0.000000</td>\n",
       "      <td>5.000000</td>\n",
       "      <td>4.000000</td>\n",
       "      <td>4.000000</td>\n",
       "      <td>5.000000</td>\n",
       "      <td>2.000000</td>\n",
       "      <td>2.000000</td>\n",
       "    </tr>\n",
       "    <tr>\n",
       "      <th>max</th>\n",
       "      <td>5.000000</td>\n",
       "      <td>4.000000</td>\n",
       "      <td>18.000000</td>\n",
       "      <td>18.000000</td>\n",
       "      <td>18.000000</td>\n",
       "      <td>18.000000</td>\n",
       "      <td>4.000000</td>\n",
       "      <td>5.000000</td>\n",
       "      <td>26.000000</td>\n",
       "      <td>21.000000</td>\n",
       "      <td>3.000000</td>\n",
       "      <td>5.000000</td>\n",
       "      <td>5.000000</td>\n",
       "      <td>5.000000</td>\n",
       "      <td>5.000000</td>\n",
       "      <td>4.000000</td>\n",
       "      <td>4.000000</td>\n",
       "    </tr>\n",
       "  </tbody>\n",
       "</table>\n",
       "</div>"
      ],
      "text/plain": [
       "             Dalc        Fedu           G          G1          G2          G3  \\\n",
       "count  268.000000  268.000000  268.000000  268.000000  268.000000  268.000000   \n",
       "mean     1.544776    1.973881   11.059701   10.421642   10.645522   11.059701   \n",
       "std      0.976240    1.029194    3.427715    2.699254    3.231009    3.427715   \n",
       "min      1.000000    0.000000    0.000000    4.000000    0.000000    0.000000   \n",
       "25%      1.000000    1.000000    9.750000    9.000000    9.000000    9.750000   \n",
       "50%      1.000000    2.000000   11.000000   10.000000   10.000000   11.000000   \n",
       "75%      2.000000    2.250000   13.000000   12.000000   13.000000   13.000000   \n",
       "max      5.000000    4.000000   18.000000   18.000000   18.000000   18.000000   \n",
       "\n",
       "             Medu        Walc    absences         age    failures      famrel  \\\n",
       "count  268.000000  268.000000  268.000000  268.000000  268.000000  268.000000   \n",
       "mean     2.126866    2.268657    3.772388   16.996269    0.339552    3.936567   \n",
       "std      1.080447    1.293395    4.439825    1.234638    0.692660    0.990444   \n",
       "min      0.000000    1.000000    0.000000   15.000000    0.000000    1.000000   \n",
       "25%      1.000000    1.000000    0.000000   16.000000    0.000000    4.000000   \n",
       "50%      2.000000    2.000000    2.000000   17.000000    0.000000    4.000000   \n",
       "75%      3.000000    3.000000    6.000000   18.000000    0.000000    5.000000   \n",
       "max      4.000000    5.000000   26.000000   21.000000    3.000000    5.000000   \n",
       "\n",
       "         freetime       goout      health   studytime  traveltime  \n",
       "count  268.000000  268.000000  268.000000  268.000000  268.000000  \n",
       "mean     3.104478    3.264925    3.500000    1.757463    1.731343  \n",
       "std      1.143414    1.227327    1.500312    0.781900    0.775700  \n",
       "min      1.000000    1.000000    1.000000    1.000000    1.000000  \n",
       "25%      2.000000    2.000000    2.000000    1.000000    1.000000  \n",
       "50%      3.000000    3.000000    4.000000    2.000000    2.000000  \n",
       "75%      4.000000    4.000000    5.000000    2.000000    2.000000  \n",
       "max      5.000000    5.000000    5.000000    4.000000    4.000000  "
      ]
     },
     "execution_count": 20,
     "metadata": {},
     "output_type": "execute_result"
    }
   ],
   "source": [
    "Pdf_new.describe()"
   ]
  },
  {
   "cell_type": "markdown",
   "metadata": {},
   "source": [
    "Concatenate Mdf_new and Pdf_new as INPUTdf.\n",
    "\n",
    "INPUTdf has unique student info per record/row."
   ]
  },
  {
   "cell_type": "code",
   "execution_count": 21,
   "metadata": {
    "scrolled": true
   },
   "outputs": [
    {
     "data": {
      "text/html": [
       "<div>\n",
       "<style>\n",
       "    .dataframe thead tr:only-child th {\n",
       "        text-align: right;\n",
       "    }\n",
       "\n",
       "    .dataframe thead th {\n",
       "        text-align: left;\n",
       "    }\n",
       "\n",
       "    .dataframe tbody tr th {\n",
       "        vertical-align: top;\n",
       "    }\n",
       "</style>\n",
       "<table border=\"1\" class=\"dataframe\">\n",
       "  <thead>\n",
       "    <tr style=\"text-align: right;\">\n",
       "      <th></th>\n",
       "      <th>Dalc</th>\n",
       "      <th>Fedu</th>\n",
       "      <th>Fjob</th>\n",
       "      <th>G</th>\n",
       "      <th>G1</th>\n",
       "      <th>G2</th>\n",
       "      <th>G3</th>\n",
       "      <th>Medu</th>\n",
       "      <th>Mjob</th>\n",
       "      <th>Pstatus</th>\n",
       "      <th>...</th>\n",
       "      <th>internet</th>\n",
       "      <th>nursery</th>\n",
       "      <th>paid</th>\n",
       "      <th>reason</th>\n",
       "      <th>romantic</th>\n",
       "      <th>school</th>\n",
       "      <th>schoolsup</th>\n",
       "      <th>sex</th>\n",
       "      <th>studytime</th>\n",
       "      <th>traveltime</th>\n",
       "    </tr>\n",
       "  </thead>\n",
       "  <tbody>\n",
       "    <tr>\n",
       "      <th>128</th>\n",
       "      <td>1</td>\n",
       "      <td>2</td>\n",
       "      <td>other</td>\n",
       "      <td>8.1004</td>\n",
       "      <td>7</td>\n",
       "      <td>4</td>\n",
       "      <td>0</td>\n",
       "      <td>2</td>\n",
       "      <td>services</td>\n",
       "      <td>T</td>\n",
       "      <td>...</td>\n",
       "      <td>yes</td>\n",
       "      <td>yes</td>\n",
       "      <td>no</td>\n",
       "      <td>reputation</td>\n",
       "      <td>no</td>\n",
       "      <td>GP</td>\n",
       "      <td>no</td>\n",
       "      <td>M</td>\n",
       "      <td>1</td>\n",
       "      <td>1</td>\n",
       "    </tr>\n",
       "    <tr>\n",
       "      <th>161</th>\n",
       "      <td>1</td>\n",
       "      <td>2</td>\n",
       "      <td>other</td>\n",
       "      <td>10.8521</td>\n",
       "      <td>5</td>\n",
       "      <td>9</td>\n",
       "      <td>7</td>\n",
       "      <td>3</td>\n",
       "      <td>other</td>\n",
       "      <td>T</td>\n",
       "      <td>...</td>\n",
       "      <td>yes</td>\n",
       "      <td>yes</td>\n",
       "      <td>no</td>\n",
       "      <td>course</td>\n",
       "      <td>yes</td>\n",
       "      <td>GP</td>\n",
       "      <td>yes</td>\n",
       "      <td>M</td>\n",
       "      <td>2</td>\n",
       "      <td>2</td>\n",
       "    </tr>\n",
       "    <tr>\n",
       "      <th>162</th>\n",
       "      <td>2</td>\n",
       "      <td>2</td>\n",
       "      <td>other</td>\n",
       "      <td>8.1004</td>\n",
       "      <td>7</td>\n",
       "      <td>0</td>\n",
       "      <td>0</td>\n",
       "      <td>1</td>\n",
       "      <td>other</td>\n",
       "      <td>T</td>\n",
       "      <td>...</td>\n",
       "      <td>no</td>\n",
       "      <td>yes</td>\n",
       "      <td>no</td>\n",
       "      <td>course</td>\n",
       "      <td>no</td>\n",
       "      <td>GP</td>\n",
       "      <td>no</td>\n",
       "      <td>M</td>\n",
       "      <td>1</td>\n",
       "      <td>2</td>\n",
       "    </tr>\n",
       "    <tr>\n",
       "      <th>163</th>\n",
       "      <td>1</td>\n",
       "      <td>3</td>\n",
       "      <td>services</td>\n",
       "      <td>12.0314</td>\n",
       "      <td>10</td>\n",
       "      <td>10</td>\n",
       "      <td>10</td>\n",
       "      <td>1</td>\n",
       "      <td>at_home</td>\n",
       "      <td>T</td>\n",
       "      <td>...</td>\n",
       "      <td>yes</td>\n",
       "      <td>yes</td>\n",
       "      <td>no</td>\n",
       "      <td>course</td>\n",
       "      <td>no</td>\n",
       "      <td>GP</td>\n",
       "      <td>no</td>\n",
       "      <td>M</td>\n",
       "      <td>1</td>\n",
       "      <td>1</td>\n",
       "    </tr>\n",
       "    <tr>\n",
       "      <th>165</th>\n",
       "      <td>1</td>\n",
       "      <td>2</td>\n",
       "      <td>services</td>\n",
       "      <td>12.8176</td>\n",
       "      <td>12</td>\n",
       "      <td>11</td>\n",
       "      <td>12</td>\n",
       "      <td>3</td>\n",
       "      <td>services</td>\n",
       "      <td>T</td>\n",
       "      <td>...</td>\n",
       "      <td>no</td>\n",
       "      <td>no</td>\n",
       "      <td>no</td>\n",
       "      <td>course</td>\n",
       "      <td>no</td>\n",
       "      <td>GP</td>\n",
       "      <td>no</td>\n",
       "      <td>M</td>\n",
       "      <td>1</td>\n",
       "      <td>2</td>\n",
       "    </tr>\n",
       "  </tbody>\n",
       "</table>\n",
       "<p>5 rows × 35 columns</p>\n",
       "</div>"
      ],
      "text/plain": [
       "     Dalc  Fedu      Fjob        G  G1  G2  G3  Medu      Mjob Pstatus  \\\n",
       "128     1     2     other   8.1004   7   4   0     2  services       T   \n",
       "161     1     2     other  10.8521   5   9   7     3     other       T   \n",
       "162     2     2     other   8.1004   7   0   0     1     other       T   \n",
       "163     1     3  services  12.0314  10  10  10     1   at_home       T   \n",
       "165     1     2  services  12.8176  12  11  12     3  services       T   \n",
       "\n",
       "       ...     internet  nursery  paid      reason romantic  school  \\\n",
       "128    ...          yes      yes    no  reputation       no      GP   \n",
       "161    ...          yes      yes    no      course      yes      GP   \n",
       "162    ...           no      yes    no      course       no      GP   \n",
       "163    ...          yes      yes    no      course       no      GP   \n",
       "165    ...           no       no    no      course       no      GP   \n",
       "\n",
       "     schoolsup  sex studytime traveltime  \n",
       "128         no    M         1          1  \n",
       "161        yes    M         2          2  \n",
       "162         no    M         1          2  \n",
       "163         no    M         1          1  \n",
       "165         no    M         1          2  \n",
       "\n",
       "[5 rows x 35 columns]"
      ]
     },
     "execution_count": 21,
     "metadata": {},
     "output_type": "execute_result"
    }
   ],
   "source": [
    "INPUTdf = pd.concat([Mdf_new,Pdf_new])\n",
    "INPUTdf.head()"
   ]
  },
  {
   "cell_type": "markdown",
   "metadata": {},
   "source": [
    "Predicting variables."
   ]
  },
  {
   "cell_type": "code",
   "execution_count": 22,
   "metadata": {
    "collapsed": true
   },
   "outputs": [],
   "source": [
    "#Create a variable \"Aalc\" - average alcohol daily consumption.\n",
    "INPUTdf.loc[:, 'Aalc'] = (INPUTdf['Dalc']*5 + INPUTdf['Walc']*2)/7"
   ]
  },
  {
   "cell_type": "code",
   "execution_count": 23,
   "metadata": {
    "collapsed": true
   },
   "outputs": [],
   "source": [
    "#Drop variables not interested\n",
    "INPUTdf = INPUTdf.drop(['G1', 'G2', 'G3', 'paid', 'Dalc', 'Walc'], axis=1)"
   ]
  },
  {
   "cell_type": "markdown",
   "metadata": {},
   "source": [
    "Check if any missing values in the dataset."
   ]
  },
  {
   "cell_type": "code",
   "execution_count": 24,
   "metadata": {
    "scrolled": false
   },
   "outputs": [
    {
     "data": {
      "text/plain": [
       "Fedu          0\n",
       "Fjob          0\n",
       "G             0\n",
       "Medu          0\n",
       "Mjob          0\n",
       "Pstatus       0\n",
       "Subject       0\n",
       "absences      0\n",
       "activities    0\n",
       "address       0\n",
       "age           0\n",
       "failures      0\n",
       "famrel        0\n",
       "famsize       0\n",
       "famsup        0\n",
       "freetime      0\n",
       "goout         0\n",
       "guardian      0\n",
       "health        0\n",
       "higher        0\n",
       "internet      0\n",
       "nursery       0\n",
       "reason        0\n",
       "romantic      0\n",
       "school        0\n",
       "schoolsup     0\n",
       "sex           0\n",
       "studytime     0\n",
       "traveltime    0\n",
       "Aalc          0\n",
       "dtype: int64"
      ]
     },
     "execution_count": 24,
     "metadata": {},
     "output_type": "execute_result"
    }
   ],
   "source": [
    "INPUTdf.isnull().sum()"
   ]
  },
  {
   "cell_type": "markdown",
   "metadata": {},
   "source": [
    "Exploratory Data Analysis."
   ]
  },
  {
   "cell_type": "code",
   "execution_count": 25,
   "metadata": {
    "scrolled": false
   },
   "outputs": [
    {
     "data": {
      "text/html": [
       "<div>\n",
       "<style>\n",
       "    .dataframe thead tr:only-child th {\n",
       "        text-align: right;\n",
       "    }\n",
       "\n",
       "    .dataframe thead th {\n",
       "        text-align: left;\n",
       "    }\n",
       "\n",
       "    .dataframe tbody tr th {\n",
       "        vertical-align: top;\n",
       "    }\n",
       "</style>\n",
       "<table border=\"1\" class=\"dataframe\">\n",
       "  <thead>\n",
       "    <tr style=\"text-align: right;\">\n",
       "      <th></th>\n",
       "      <th>Fedu</th>\n",
       "      <th>G</th>\n",
       "      <th>Medu</th>\n",
       "      <th>absences</th>\n",
       "      <th>age</th>\n",
       "      <th>failures</th>\n",
       "      <th>famrel</th>\n",
       "      <th>freetime</th>\n",
       "      <th>goout</th>\n",
       "      <th>health</th>\n",
       "      <th>studytime</th>\n",
       "      <th>traveltime</th>\n",
       "      <th>Aalc</th>\n",
       "    </tr>\n",
       "  </thead>\n",
       "  <tbody>\n",
       "    <tr>\n",
       "      <th>count</th>\n",
       "      <td>663.000000</td>\n",
       "      <td>663.000000</td>\n",
       "      <td>663.000000</td>\n",
       "      <td>663.000000</td>\n",
       "      <td>663.000000</td>\n",
       "      <td>663.000000</td>\n",
       "      <td>663.000000</td>\n",
       "      <td>663.000000</td>\n",
       "      <td>663.000000</td>\n",
       "      <td>663.000000</td>\n",
       "      <td>663.000000</td>\n",
       "      <td>663.000000</td>\n",
       "      <td>663.000000</td>\n",
       "    </tr>\n",
       "    <tr>\n",
       "      <th>mean</th>\n",
       "      <td>2.300151</td>\n",
       "      <td>11.218546</td>\n",
       "      <td>2.497738</td>\n",
       "      <td>4.926094</td>\n",
       "      <td>16.817496</td>\n",
       "      <td>0.336350</td>\n",
       "      <td>3.941176</td>\n",
       "      <td>3.182504</td>\n",
       "      <td>3.171946</td>\n",
       "      <td>3.532428</td>\n",
       "      <td>1.923077</td>\n",
       "      <td>1.562594</td>\n",
       "      <td>1.728291</td>\n",
       "    </tr>\n",
       "    <tr>\n",
       "      <th>std</th>\n",
       "      <td>1.097422</td>\n",
       "      <td>3.244874</td>\n",
       "      <td>1.130293</td>\n",
       "      <td>6.853823</td>\n",
       "      <td>1.267129</td>\n",
       "      <td>0.722945</td>\n",
       "      <td>0.934975</td>\n",
       "      <td>1.060779</td>\n",
       "      <td>1.162349</td>\n",
       "      <td>1.434919</td>\n",
       "      <td>0.827288</td>\n",
       "      <td>0.742691</td>\n",
       "      <td>0.934679</td>\n",
       "    </tr>\n",
       "    <tr>\n",
       "      <th>min</th>\n",
       "      <td>0.000000</td>\n",
       "      <td>0.000000</td>\n",
       "      <td>0.000000</td>\n",
       "      <td>0.000000</td>\n",
       "      <td>15.000000</td>\n",
       "      <td>0.000000</td>\n",
       "      <td>1.000000</td>\n",
       "      <td>1.000000</td>\n",
       "      <td>1.000000</td>\n",
       "      <td>1.000000</td>\n",
       "      <td>1.000000</td>\n",
       "      <td>1.000000</td>\n",
       "      <td>1.000000</td>\n",
       "    </tr>\n",
       "    <tr>\n",
       "      <th>25%</th>\n",
       "      <td>1.000000</td>\n",
       "      <td>9.791300</td>\n",
       "      <td>2.000000</td>\n",
       "      <td>0.000000</td>\n",
       "      <td>16.000000</td>\n",
       "      <td>0.000000</td>\n",
       "      <td>4.000000</td>\n",
       "      <td>3.000000</td>\n",
       "      <td>2.000000</td>\n",
       "      <td>2.000000</td>\n",
       "      <td>1.000000</td>\n",
       "      <td>1.000000</td>\n",
       "      <td>1.000000</td>\n",
       "    </tr>\n",
       "    <tr>\n",
       "      <th>50%</th>\n",
       "      <td>2.000000</td>\n",
       "      <td>11.000000</td>\n",
       "      <td>2.000000</td>\n",
       "      <td>3.000000</td>\n",
       "      <td>17.000000</td>\n",
       "      <td>0.000000</td>\n",
       "      <td>4.000000</td>\n",
       "      <td>3.000000</td>\n",
       "      <td>3.000000</td>\n",
       "      <td>4.000000</td>\n",
       "      <td>2.000000</td>\n",
       "      <td>1.000000</td>\n",
       "      <td>1.285714</td>\n",
       "    </tr>\n",
       "    <tr>\n",
       "      <th>75%</th>\n",
       "      <td>3.000000</td>\n",
       "      <td>13.210700</td>\n",
       "      <td>4.000000</td>\n",
       "      <td>8.000000</td>\n",
       "      <td>18.000000</td>\n",
       "      <td>0.000000</td>\n",
       "      <td>5.000000</td>\n",
       "      <td>4.000000</td>\n",
       "      <td>4.000000</td>\n",
       "      <td>5.000000</td>\n",
       "      <td>2.000000</td>\n",
       "      <td>2.000000</td>\n",
       "      <td>2.214286</td>\n",
       "    </tr>\n",
       "    <tr>\n",
       "      <th>max</th>\n",
       "      <td>4.000000</td>\n",
       "      <td>18.000000</td>\n",
       "      <td>4.000000</td>\n",
       "      <td>75.000000</td>\n",
       "      <td>22.000000</td>\n",
       "      <td>3.000000</td>\n",
       "      <td>5.000000</td>\n",
       "      <td>5.000000</td>\n",
       "      <td>5.000000</td>\n",
       "      <td>5.000000</td>\n",
       "      <td>4.000000</td>\n",
       "      <td>4.000000</td>\n",
       "      <td>5.000000</td>\n",
       "    </tr>\n",
       "  </tbody>\n",
       "</table>\n",
       "</div>"
      ],
      "text/plain": [
       "             Fedu           G        Medu    absences         age    failures  \\\n",
       "count  663.000000  663.000000  663.000000  663.000000  663.000000  663.000000   \n",
       "mean     2.300151   11.218546    2.497738    4.926094   16.817496    0.336350   \n",
       "std      1.097422    3.244874    1.130293    6.853823    1.267129    0.722945   \n",
       "min      0.000000    0.000000    0.000000    0.000000   15.000000    0.000000   \n",
       "25%      1.000000    9.791300    2.000000    0.000000   16.000000    0.000000   \n",
       "50%      2.000000   11.000000    2.000000    3.000000   17.000000    0.000000   \n",
       "75%      3.000000   13.210700    4.000000    8.000000   18.000000    0.000000   \n",
       "max      4.000000   18.000000    4.000000   75.000000   22.000000    3.000000   \n",
       "\n",
       "           famrel    freetime       goout      health   studytime  traveltime  \\\n",
       "count  663.000000  663.000000  663.000000  663.000000  663.000000  663.000000   \n",
       "mean     3.941176    3.182504    3.171946    3.532428    1.923077    1.562594   \n",
       "std      0.934975    1.060779    1.162349    1.434919    0.827288    0.742691   \n",
       "min      1.000000    1.000000    1.000000    1.000000    1.000000    1.000000   \n",
       "25%      4.000000    3.000000    2.000000    2.000000    1.000000    1.000000   \n",
       "50%      4.000000    3.000000    3.000000    4.000000    2.000000    1.000000   \n",
       "75%      5.000000    4.000000    4.000000    5.000000    2.000000    2.000000   \n",
       "max      5.000000    5.000000    5.000000    5.000000    4.000000    4.000000   \n",
       "\n",
       "             Aalc  \n",
       "count  663.000000  \n",
       "mean     1.728291  \n",
       "std      0.934679  \n",
       "min      1.000000  \n",
       "25%      1.000000  \n",
       "50%      1.285714  \n",
       "75%      2.214286  \n",
       "max      5.000000  "
      ]
     },
     "execution_count": 25,
     "metadata": {},
     "output_type": "execute_result"
    }
   ],
   "source": [
    "INPUTdf.describe()"
   ]
  },
  {
   "cell_type": "code",
   "execution_count": 26,
   "metadata": {
    "scrolled": false
   },
   "outputs": [
    {
     "data": {
      "text/plain": [
       "Index(['Fedu', 'Fjob', 'G', 'Medu', 'Mjob', 'Pstatus', 'Subject', 'absences',\n",
       "       'activities', 'address', 'age', 'failures', 'famrel', 'famsize',\n",
       "       'famsup', 'freetime', 'goout', 'guardian', 'health', 'higher',\n",
       "       'internet', 'nursery', 'reason', 'romantic', 'school', 'schoolsup',\n",
       "       'sex', 'studytime', 'traveltime', 'Aalc'],\n",
       "      dtype='object')"
      ]
     },
     "execution_count": 26,
     "metadata": {},
     "output_type": "execute_result"
    }
   ],
   "source": [
    "INPUTdf.columns"
   ]
  },
  {
   "cell_type": "markdown",
   "metadata": {},
   "source": [
    "Distribution of estimated final grade, G."
   ]
  },
  {
   "cell_type": "code",
   "execution_count": 27,
   "metadata": {},
   "outputs": [
    {
     "data": {
      "text/plain": [
       "<matplotlib.axes._subplots.AxesSubplot at 0x1181536a0>"
      ]
     },
     "execution_count": 27,
     "metadata": {},
     "output_type": "execute_result"
    },
    {
     "data": {
      "image/png": "[encoded data removed]",
      "text/plain": [
       "<matplotlib.figure.Figure at 0x118198080>"
      ]
     },
     "metadata": {},
     "output_type": "display_data"
    }
   ],
   "source": [
    "sns.distplot(INPUTdf.G)"
   ]
  },
  {
   "cell_type": "markdown",
   "metadata": {},
   "source": [
    "Distribution of estimated final grade (G) based on which course a student is taking (Subject)."
   ]
  },
  {
   "cell_type": "code",
   "execution_count": 28,
   "metadata": {},
   "outputs": [
    {
     "data": {
      "text/plain": [
       "<seaborn.axisgrid.FacetGrid at 0x118198748>"
      ]
     },
     "execution_count": 28,
     "metadata": {},
     "output_type": "execute_result"
    },
    {
     "data": {
      "image/png": "[encoded data removed]",
      "text/plain": [
       "<matplotlib.figure.Figure at 0x118198208>"
      ]
     },
     "metadata": {},
     "output_type": "display_data"
    }
   ],
   "source": [
    "g = sns.FacetGrid(INPUTdf, col='Subject')\n",
    "g.map(plt.hist, 'G')"
   ]
  },
  {
   "cell_type": "markdown",
   "metadata": {
    "collapsed": true
   },
   "source": [
    "Daily alcohol consumption level, Aalc vs estimated final grade, G."
   ]
  },
  {
   "cell_type": "code",
   "execution_count": 29,
   "metadata": {
    "scrolled": true
   },
   "outputs": [
    {
     "data": {
      "text/plain": [
       "<matplotlib.axes._subplots.AxesSubplot at 0x11bc266d8>"
      ]
     },
     "execution_count": 29,
     "metadata": {},
     "output_type": "execute_result"
    },
    {
     "data": {
      "image/png": "[encoded data removed]",
      "text/plain": [
       "<matplotlib.figure.Figure at 0x11bc925c0>"
      ]
     },
     "metadata": {},
     "output_type": "display_data"
    }
   ],
   "source": [
    "sns.distplot(INPUTdf.Aalc)"
   ]
  },
  {
   "cell_type": "code",
   "execution_count": 30,
   "metadata": {},
   "outputs": [
    {
     "data": {
      "text/plain": [
       "<matplotlib.axes._subplots.AxesSubplot at 0x11bf52e48>"
      ]
     },
     "execution_count": 30,
     "metadata": {},
     "output_type": "execute_result"
    },
    {
     "data": {
      "image/png": "[encoded data removed]",
      "text/plain": [
       "<matplotlib.figure.Figure at 0x11be1bda0>"
      ]
     },
     "metadata": {},
     "output_type": "display_data"
    }
   ],
   "source": [
    "sns.regplot(x=\"Aalc\", y=\"G\", data=INPUTdf, x_bins=4)"
   ]
  },
  {
   "cell_type": "markdown",
   "metadata": {},
   "source": [
    "Estimated score (G) distribution based on number of past failures."
   ]
  },
  {
   "cell_type": "code",
   "execution_count": 31,
   "metadata": {
    "scrolled": true
   },
   "outputs": [
    {
     "data": {
      "text/plain": [
       "<matplotlib.axes._subplots.AxesSubplot at 0x11bf56828>"
      ]
     },
     "execution_count": 31,
     "metadata": {},
     "output_type": "execute_result"
    },
    {
     "data": {
      "image/png": "[encoded data removed]",
      "text/plain": [
       "<matplotlib.figure.Figure at 0x11821e828>"
      ]
     },
     "metadata": {},
     "output_type": "display_data"
    }
   ],
   "source": [
    "sns.swarmplot(x=\"failures\", y=\"G\", data=INPUTdf)"
   ]
  },
  {
   "cell_type": "code",
   "execution_count": 32,
   "metadata": {
    "scrolled": true
   },
   "outputs": [
    {
     "data": {
      "text/plain": [
       "<matplotlib.axes._subplots.AxesSubplot at 0x11c1ba710>"
      ]
     },
     "execution_count": 32,
     "metadata": {},
     "output_type": "execute_result"
    },
    {
     "data": {
      "image/png": "[encoded data removed]",
      "text/plain": [
       "<matplotlib.figure.Figure at 0x11c222f98>"
      ]
     },
     "metadata": {},
     "output_type": "display_data"
    }
   ],
   "source": [
    "sns.swarmplot(x=\"higher\", y=\"G\", data=INPUTdf)"
   ]
  },
  {
   "cell_type": "code",
   "execution_count": 33,
   "metadata": {
    "scrolled": false
   },
   "outputs": [
    {
     "data": {
      "text/plain": [
       "<matplotlib.axes._subplots.AxesSubplot at 0x11c0b1828>"
      ]
     },
     "execution_count": 33,
     "metadata": {},
     "output_type": "execute_result"
    },
    {
     "data": {
      "image/png": "[encoded data removed]",
      "text/plain": [
       "<matplotlib.figure.Figure at 0x11ba451d0>"
      ]
     },
     "metadata": {},
     "output_type": "display_data"
    }
   ],
   "source": [
    "sns.swarmplot(x=\"Medu\", y=\"G\", data=INPUTdf)"
   ]
  },
  {
   "cell_type": "code",
   "execution_count": 34,
   "metadata": {},
   "outputs": [
    {
     "data": {
      "text/plain": [
       "<matplotlib.axes._subplots.AxesSubplot at 0x11bf83ac8>"
      ]
     },
     "execution_count": 34,
     "metadata": {},
     "output_type": "execute_result"
    },
    {
     "data": {
      "image/png": "[encoded data removed]",
      "text/plain": [
       "<matplotlib.figure.Figure at 0x11c373e10>"
      ]
     },
     "metadata": {},
     "output_type": "display_data"
    }
   ],
   "source": [
    "sns.swarmplot(x=\"Fedu\", y=\"G\", data=INPUTdf)"
   ]
  },
  {
   "cell_type": "code",
   "execution_count": 35,
   "metadata": {},
   "outputs": [
    {
     "data": {
      "text/plain": [
       "<matplotlib.axes._subplots.AxesSubplot at 0x11bf5d780>"
      ]
     },
     "execution_count": 35,
     "metadata": {},
     "output_type": "execute_result"
    },
    {
     "data": {
      "image/png": "[encoded data removed]",
      "text/plain": [
       "<matplotlib.figure.Figure at 0x11c3314a8>"
      ]
     },
     "metadata": {},
     "output_type": "display_data"
    }
   ],
   "source": [
    "sns.swarmplot(x=\"Fjob\", y=\"G\", data=INPUTdf)"
   ]
  },
  {
   "cell_type": "code",
   "execution_count": 36,
   "metadata": {
    "scrolled": true
   },
   "outputs": [
    {
     "data": {
      "text/plain": [
       "<matplotlib.axes._subplots.AxesSubplot at 0x11c228f98>"
      ]
     },
     "execution_count": 36,
     "metadata": {},
     "output_type": "execute_result"
    },
    {
     "data": {
      "image/png": "[encoded data removed]",
      "text/plain": [
       "<matplotlib.figure.Figure at 0x11c6fef28>"
      ]
     },
     "metadata": {},
     "output_type": "display_data"
    }
   ],
   "source": [
    "sns.swarmplot(x='guardian', y='G', data=INPUTdf)"
   ]
  },
  {
   "cell_type": "code",
   "execution_count": 37,
   "metadata": {},
   "outputs": [
    {
     "data": {
      "text/plain": [
       "<matplotlib.axes._subplots.AxesSubplot at 0x11c6d8ac8>"
      ]
     },
     "execution_count": 37,
     "metadata": {},
     "output_type": "execute_result"
    },
    {
     "data": {
      "image/png": "[encoded data removed]",
      "text/plain": [
       "<matplotlib.figure.Figure at 0x11c0acc88>"
      ]
     },
     "metadata": {},
     "output_type": "display_data"
    }
   ],
   "source": [
    "sns.swarmplot(x='address', y='G', data=INPUTdf)"
   ]
  },
  {
   "cell_type": "code",
   "execution_count": 38,
   "metadata": {},
   "outputs": [
    {
     "data": {
      "text/plain": [
       "<matplotlib.axes._subplots.AxesSubplot at 0x11c87c748>"
      ]
     },
     "execution_count": 38,
     "metadata": {},
     "output_type": "execute_result"
    },
    {
     "data": {
      "image/png": "[encoded data removed]",
      "text/plain": [
       "<matplotlib.figure.Figure at 0x11c58ed30>"
      ]
     },
     "metadata": {},
     "output_type": "display_data"
    }
   ],
   "source": [
    "sns.swarmplot(x='activities', y='G', data=INPUTdf)"
   ]
  },
  {
   "cell_type": "markdown",
   "metadata": {
    "collapsed": true
   },
   "source": [
    "### Data Preparation for Modeling"
   ]
  },
  {
   "cell_type": "markdown",
   "metadata": {},
   "source": [
    "Identify target variable y and predictor variables X."
   ]
  },
  {
   "cell_type": "code",
   "execution_count": 39,
   "metadata": {
    "collapsed": true
   },
   "outputs": [],
   "source": [
    "y = INPUTdf['G']\n",
    "X = INPUTdf[['Fedu','Fjob', 'Medu', 'Mjob', 'Pstatus', 'Subject', 'absences',\n",
    "       'activities', 'address', 'age', 'failures', 'famrel', 'famsize',\n",
    "       'famsup', 'freetime', 'goout', 'guardian', 'health', 'higher',\n",
    "       'internet', 'nursery', 'reason', 'romantic', 'school', 'schoolsup',\n",
    "       'sex', 'studytime', 'traveltime', 'Aalc']]"
   ]
  },
  {
   "cell_type": "markdown",
   "metadata": {},
   "source": [
    "Convert dummy variables values into 0/1."
   ]
  },
  {
   "cell_type": "code",
   "execution_count": 40,
   "metadata": {
    "scrolled": true
   },
   "outputs": [
    {
     "name": "stderr",
     "output_type": "stream",
     "text": [
      "/Users/jinghao/anaconda/lib/python3.6/site-packages/pandas/core/generic.py:2999: SettingWithCopyWarning: \n",
      "A value is trying to be set on a copy of a slice from a DataFrame.\n",
      "Try using .loc[row_indexer,col_indexer] = value instead\n",
      "\n",
      "See the caveats in the documentation: http://pandas.pydata.org/pandas-docs/stable/indexing.html#indexing-view-versus-copy\n",
      "  self[name] = value\n"
     ]
    }
   ],
   "source": [
    "X.school = X['school'].replace(['GP', 'MS'], [1,0])\n",
    "X.sex = X['sex'].replace(['F','M'],[1,0])\n",
    "X.address = X['address'].replace(['U','R'], [1,0])\n",
    "X.famsize = X['famsize'].replace(['LE3','GT3'], [1,0])\n",
    "X.Pstatus = X['Pstatus'].replace(['T','A'], [1,0])\n",
    "X.schoolsup = X['schoolsup'].replace(['yes','no'],[1,0])\n",
    "X.famsup = X['famsup'].replace(['yes','no'],[1,0])\n",
    "X.activities = X['activities'].replace(['yes','no'],[1,0])\n",
    "X.nursery = X['nursery'].replace(['yes','no'],[1,0])\n",
    "X.higher = X['higher'].replace(['yes','no'],[1,0])\n",
    "X.internet = X['internet'].replace(['yes','no'],[1,0])\n",
    "X.romantic = X['romantic'].replace(['yes','no'],[1,0])"
   ]
  },
  {
   "cell_type": "markdown",
   "metadata": {},
   "source": [
    "Dummy code any nominal variables in X."
   ]
  },
  {
   "cell_type": "code",
   "execution_count": 41,
   "metadata": {
    "scrolled": true
   },
   "outputs": [
    {
     "data": {
      "text/html": [
       "<div>\n",
       "<style>\n",
       "    .dataframe thead tr:only-child th {\n",
       "        text-align: right;\n",
       "    }\n",
       "\n",
       "    .dataframe thead th {\n",
       "        text-align: left;\n",
       "    }\n",
       "\n",
       "    .dataframe tbody tr th {\n",
       "        vertical-align: top;\n",
       "    }\n",
       "</style>\n",
       "<table border=\"1\" class=\"dataframe\">\n",
       "  <thead>\n",
       "    <tr style=\"text-align: right;\">\n",
       "      <th></th>\n",
       "      <th>Fedu</th>\n",
       "      <th>Medu</th>\n",
       "      <th>Pstatus</th>\n",
       "      <th>absences</th>\n",
       "      <th>activities</th>\n",
       "      <th>address</th>\n",
       "      <th>age</th>\n",
       "      <th>failures</th>\n",
       "      <th>famrel</th>\n",
       "      <th>famsize</th>\n",
       "      <th>...</th>\n",
       "      <th>Mjob_other</th>\n",
       "      <th>Mjob_services</th>\n",
       "      <th>Mjob_teacher</th>\n",
       "      <th>Subject_M</th>\n",
       "      <th>Subject_P</th>\n",
       "      <th>reason_home</th>\n",
       "      <th>reason_other</th>\n",
       "      <th>reason_reputation</th>\n",
       "      <th>guardian_mother</th>\n",
       "      <th>guardian_other</th>\n",
       "    </tr>\n",
       "  </thead>\n",
       "  <tbody>\n",
       "    <tr>\n",
       "      <th>128</th>\n",
       "      <td>2</td>\n",
       "      <td>2</td>\n",
       "      <td>1</td>\n",
       "      <td>0</td>\n",
       "      <td>1</td>\n",
       "      <td>0</td>\n",
       "      <td>18</td>\n",
       "      <td>2</td>\n",
       "      <td>3</td>\n",
       "      <td>0</td>\n",
       "      <td>...</td>\n",
       "      <td>0</td>\n",
       "      <td>1</td>\n",
       "      <td>0</td>\n",
       "      <td>1</td>\n",
       "      <td>0</td>\n",
       "      <td>0</td>\n",
       "      <td>0</td>\n",
       "      <td>1</td>\n",
       "      <td>1</td>\n",
       "      <td>0</td>\n",
       "    </tr>\n",
       "    <tr>\n",
       "      <th>161</th>\n",
       "      <td>2</td>\n",
       "      <td>3</td>\n",
       "      <td>1</td>\n",
       "      <td>6</td>\n",
       "      <td>0</td>\n",
       "      <td>0</td>\n",
       "      <td>15</td>\n",
       "      <td>2</td>\n",
       "      <td>4</td>\n",
       "      <td>0</td>\n",
       "      <td>...</td>\n",
       "      <td>1</td>\n",
       "      <td>0</td>\n",
       "      <td>0</td>\n",
       "      <td>1</td>\n",
       "      <td>0</td>\n",
       "      <td>0</td>\n",
       "      <td>0</td>\n",
       "      <td>0</td>\n",
       "      <td>1</td>\n",
       "      <td>0</td>\n",
       "    </tr>\n",
       "    <tr>\n",
       "      <th>162</th>\n",
       "      <td>2</td>\n",
       "      <td>1</td>\n",
       "      <td>1</td>\n",
       "      <td>0</td>\n",
       "      <td>1</td>\n",
       "      <td>1</td>\n",
       "      <td>16</td>\n",
       "      <td>1</td>\n",
       "      <td>4</td>\n",
       "      <td>1</td>\n",
       "      <td>...</td>\n",
       "      <td>1</td>\n",
       "      <td>0</td>\n",
       "      <td>0</td>\n",
       "      <td>1</td>\n",
       "      <td>0</td>\n",
       "      <td>0</td>\n",
       "      <td>0</td>\n",
       "      <td>0</td>\n",
       "      <td>1</td>\n",
       "      <td>0</td>\n",
       "    </tr>\n",
       "    <tr>\n",
       "      <th>163</th>\n",
       "      <td>3</td>\n",
       "      <td>1</td>\n",
       "      <td>1</td>\n",
       "      <td>2</td>\n",
       "      <td>0</td>\n",
       "      <td>1</td>\n",
       "      <td>17</td>\n",
       "      <td>0</td>\n",
       "      <td>5</td>\n",
       "      <td>0</td>\n",
       "      <td>...</td>\n",
       "      <td>0</td>\n",
       "      <td>0</td>\n",
       "      <td>0</td>\n",
       "      <td>1</td>\n",
       "      <td>0</td>\n",
       "      <td>0</td>\n",
       "      <td>0</td>\n",
       "      <td>0</td>\n",
       "      <td>0</td>\n",
       "      <td>0</td>\n",
       "    </tr>\n",
       "    <tr>\n",
       "      <th>165</th>\n",
       "      <td>2</td>\n",
       "      <td>3</td>\n",
       "      <td>1</td>\n",
       "      <td>16</td>\n",
       "      <td>1</td>\n",
       "      <td>1</td>\n",
       "      <td>16</td>\n",
       "      <td>1</td>\n",
       "      <td>4</td>\n",
       "      <td>0</td>\n",
       "      <td>...</td>\n",
       "      <td>0</td>\n",
       "      <td>1</td>\n",
       "      <td>0</td>\n",
       "      <td>1</td>\n",
       "      <td>0</td>\n",
       "      <td>0</td>\n",
       "      <td>0</td>\n",
       "      <td>0</td>\n",
       "      <td>1</td>\n",
       "      <td>0</td>\n",
       "    </tr>\n",
       "  </tbody>\n",
       "</table>\n",
       "<p>5 rows × 39 columns</p>\n",
       "</div>"
      ],
      "text/plain": [
       "     Fedu  Medu  Pstatus  absences  activities  address  age  failures  \\\n",
       "128     2     2        1         0           1        0   18         2   \n",
       "161     2     3        1         6           0        0   15         2   \n",
       "162     2     1        1         0           1        1   16         1   \n",
       "163     3     1        1         2           0        1   17         0   \n",
       "165     2     3        1        16           1        1   16         1   \n",
       "\n",
       "     famrel  famsize       ...        Mjob_other  Mjob_services  Mjob_teacher  \\\n",
       "128       3        0       ...                 0              1             0   \n",
       "161       4        0       ...                 1              0             0   \n",
       "162       4        1       ...                 1              0             0   \n",
       "163       5        0       ...                 0              0             0   \n",
       "165       4        0       ...                 0              1             0   \n",
       "\n",
       "     Subject_M  Subject_P  reason_home  reason_other  reason_reputation  \\\n",
       "128          1          0            0             0                  1   \n",
       "161          1          0            0             0                  0   \n",
       "162          1          0            0             0                  0   \n",
       "163          1          0            0             0                  0   \n",
       "165          1          0            0             0                  0   \n",
       "\n",
       "     guardian_mother  guardian_other  \n",
       "128                1               0  \n",
       "161                1               0  \n",
       "162                1               0  \n",
       "163                0               0  \n",
       "165                1               0  \n",
       "\n",
       "[5 rows x 39 columns]"
      ]
     },
     "execution_count": 41,
     "metadata": {},
     "output_type": "execute_result"
    }
   ],
   "source": [
    "#Identify norminal variables\n",
    "norminal_vars = ['Fjob', 'Mjob', 'Subject', 'reason','guardian']\n",
    "#Convert norminal variables to dummy variables\n",
    "X = pd.get_dummies(X, columns= norminal_vars, drop_first=True)\n",
    "# Show the dummy coded dataframe\n",
    "X.head()"
   ]
  },
  {
   "cell_type": "markdown",
   "metadata": {},
   "source": [
    "Split data into training and test data sets."
   ]
  },
  {
   "cell_type": "code",
   "execution_count": 42,
   "metadata": {
    "collapsed": true
   },
   "outputs": [],
   "source": [
    "X_train, X_test, y_train, y_test = train_test_split(X, y, test_size = 0.3, random_state=42)"
   ]
  },
  {
   "cell_type": "markdown",
   "metadata": {},
   "source": [
    "#### Decision Tree"
   ]
  },
  {
   "cell_type": "code",
   "execution_count": 99,
   "metadata": {
    "scrolled": false
   },
   "outputs": [
    {
     "data": {
      "text/html": [
       "<div>\n",
       "<style>\n",
       "    .dataframe thead tr:only-child th {\n",
       "        text-align: right;\n",
       "    }\n",
       "\n",
       "    .dataframe thead th {\n",
       "        text-align: left;\n",
       "    }\n",
       "\n",
       "    .dataframe tbody tr th {\n",
       "        vertical-align: top;\n",
       "    }\n",
       "</style>\n",
       "<table border=\"1\" class=\"dataframe\">\n",
       "  <thead>\n",
       "    <tr style=\"text-align: right;\">\n",
       "      <th></th>\n",
       "      <th>max_depth</th>\n",
       "      <th>train_score</th>\n",
       "      <th>test_score</th>\n",
       "    </tr>\n",
       "  </thead>\n",
       "  <tbody>\n",
       "    <tr>\n",
       "      <th>1</th>\n",
       "      <td>2.0</td>\n",
       "      <td>0.212728</td>\n",
       "      <td>0.195423</td>\n",
       "    </tr>\n",
       "    <tr>\n",
       "      <th>2</th>\n",
       "      <td>3.0</td>\n",
       "      <td>0.282242</td>\n",
       "      <td>0.158937</td>\n",
       "    </tr>\n",
       "    <tr>\n",
       "      <th>0</th>\n",
       "      <td>1.0</td>\n",
       "      <td>0.135562</td>\n",
       "      <td>0.135798</td>\n",
       "    </tr>\n",
       "    <tr>\n",
       "      <th>3</th>\n",
       "      <td>4.0</td>\n",
       "      <td>0.342385</td>\n",
       "      <td>0.095390</td>\n",
       "    </tr>\n",
       "    <tr>\n",
       "      <th>4</th>\n",
       "      <td>5.0</td>\n",
       "      <td>0.454282</td>\n",
       "      <td>-0.046606</td>\n",
       "    </tr>\n",
       "    <tr>\n",
       "      <th>5</th>\n",
       "      <td>6.0</td>\n",
       "      <td>0.567066</td>\n",
       "      <td>-0.156469</td>\n",
       "    </tr>\n",
       "    <tr>\n",
       "      <th>6</th>\n",
       "      <td>7.0</td>\n",
       "      <td>0.653406</td>\n",
       "      <td>-0.263482</td>\n",
       "    </tr>\n",
       "    <tr>\n",
       "      <th>7</th>\n",
       "      <td>8.0</td>\n",
       "      <td>0.742237</td>\n",
       "      <td>-0.386917</td>\n",
       "    </tr>\n",
       "    <tr>\n",
       "      <th>93</th>\n",
       "      <td>94.0</td>\n",
       "      <td>1.000000</td>\n",
       "      <td>-0.454035</td>\n",
       "    </tr>\n",
       "    <tr>\n",
       "      <th>77</th>\n",
       "      <td>78.0</td>\n",
       "      <td>1.000000</td>\n",
       "      <td>-0.454413</td>\n",
       "    </tr>\n",
       "  </tbody>\n",
       "</table>\n",
       "</div>"
      ],
      "text/plain": [
       "    max_depth  train_score  test_score\n",
       "1         2.0     0.212728    0.195423\n",
       "2         3.0     0.282242    0.158937\n",
       "0         1.0     0.135562    0.135798\n",
       "3         4.0     0.342385    0.095390\n",
       "4         5.0     0.454282   -0.046606\n",
       "5         6.0     0.567066   -0.156469\n",
       "6         7.0     0.653406   -0.263482\n",
       "7         8.0     0.742237   -0.386917\n",
       "93       94.0     1.000000   -0.454035\n",
       "77       78.0     1.000000   -0.454413"
      ]
     },
     "execution_count": 99,
     "metadata": {},
     "output_type": "execute_result"
    }
   ],
   "source": [
    "from sklearn.tree import DecisionTreeRegressor\n",
    "max_depths = range(1,100)\n",
    "score = pd.DataFrame(columns=['max_depth','train_score','test_score'])\n",
    "for i in max_depths:\n",
    "    tree = DecisionTreeRegressor(max_depth = i).fit(X_train, y_train)\n",
    "    train_score = tree.score(X_train, y_train)\n",
    "    test_score = tree.score(X_test, y_test)\n",
    "    row = pd.Series({'max_depth': i, 'train_score': train_score, 'test_score': test_score})\n",
    "    score = score.append(row, ignore_index=True)\n",
    "score.sort_values(by='test_score', ascending=False, inplace=True)\n",
    "score.head(10)"
   ]
  },
  {
   "cell_type": "code",
   "execution_count": 44,
   "metadata": {
    "scrolled": false
   },
   "outputs": [
    {
     "data": {
      "image/png": "[encoded data removed]",
      "text/plain": [
       "<matplotlib.figure.Figure at 0x11cab2ac8>"
      ]
     },
     "metadata": {},
     "output_type": "display_data"
    }
   ],
   "source": [
    "tree = DecisionTreeRegressor(max_depth=3).fit(X_train, y_train)\n",
    "def plot_feature_importances(model):\n",
    "    n_features = X.shape[1]\n",
    "    plt.barh(range(n_features), model.feature_importances_, align='center')\n",
    "    plt.yticks(np.arange(n_features), X.columns)\n",
    "    plt.xlabel(\"Feature importance\")\n",
    "    plt.ylabel(\"Feature\")\n",
    "    plt.ylim(-1, n_features)\n",
    "\n",
    "plot_feature_importances(tree)"
   ]
  },
  {
   "cell_type": "markdown",
   "metadata": {},
   "source": [
    "#### Random Forest"
   ]
  },
  {
   "cell_type": "code",
   "execution_count": 49,
   "metadata": {},
   "outputs": [
    {
     "data": {
      "text/html": [
       "<div>\n",
       "<style>\n",
       "    .dataframe thead tr:only-child th {\n",
       "        text-align: right;\n",
       "    }\n",
       "\n",
       "    .dataframe thead th {\n",
       "        text-align: left;\n",
       "    }\n",
       "\n",
       "    .dataframe tbody tr th {\n",
       "        vertical-align: top;\n",
       "    }\n",
       "</style>\n",
       "<table border=\"1\" class=\"dataframe\">\n",
       "  <thead>\n",
       "    <tr style=\"text-align: right;\">\n",
       "      <th></th>\n",
       "      <th>max_depth</th>\n",
       "      <th>train_score</th>\n",
       "      <th>test_score</th>\n",
       "    </tr>\n",
       "  </thead>\n",
       "  <tbody>\n",
       "    <tr>\n",
       "      <th>5</th>\n",
       "      <td>6.0</td>\n",
       "      <td>0.603140</td>\n",
       "      <td>0.235495</td>\n",
       "    </tr>\n",
       "    <tr>\n",
       "      <th>7</th>\n",
       "      <td>8.0</td>\n",
       "      <td>0.742210</td>\n",
       "      <td>0.233255</td>\n",
       "    </tr>\n",
       "    <tr>\n",
       "      <th>6</th>\n",
       "      <td>7.0</td>\n",
       "      <td>0.678958</td>\n",
       "      <td>0.232953</td>\n",
       "    </tr>\n",
       "    <tr>\n",
       "      <th>15</th>\n",
       "      <td>16.0</td>\n",
       "      <td>0.889820</td>\n",
       "      <td>0.232396</td>\n",
       "    </tr>\n",
       "    <tr>\n",
       "      <th>13</th>\n",
       "      <td>14.0</td>\n",
       "      <td>0.885453</td>\n",
       "      <td>0.232122</td>\n",
       "    </tr>\n",
       "  </tbody>\n",
       "</table>\n",
       "</div>"
      ],
      "text/plain": [
       "    max_depth  train_score  test_score\n",
       "5         6.0     0.603140    0.235495\n",
       "7         8.0     0.742210    0.233255\n",
       "6         7.0     0.678958    0.232953\n",
       "15       16.0     0.889820    0.232396\n",
       "13       14.0     0.885453    0.232122"
      ]
     },
     "execution_count": 49,
     "metadata": {},
     "output_type": "execute_result"
    }
   ],
   "source": [
    "from sklearn.ensemble import RandomForestRegressor\n",
    "max_depth = range(1,20)\n",
    "n_estimators = 1000\n",
    "score = pd.DataFrame(columns=['max_depth', 'train_score','test_score'])\n",
    "for i in max_depth:\n",
    "    forest = RandomForestRegressor(random_state=0, max_depth=i, n_estimators= n_estimators).fit(X_train, y_train)\n",
    "    train_score = forest.score(X_train, y_train)\n",
    "    test_score = forest.score(X_test, y_test)\n",
    "    row = pd.Series({'max_depth': i, 'train_score': train_score, 'test_score': test_score})        \n",
    "    score = score.append(row, ignore_index=True)\n",
    "score.sort_values(by='test_score', inplace=True, ascending=False)\n",
    "score.head()"
   ]
  },
  {
   "cell_type": "code",
   "execution_count": 97,
   "metadata": {
    "scrolled": true
   },
   "outputs": [
    {
     "data": {
      "image/png": "[encoded data removed]",
      "text/plain": [
       "<matplotlib.figure.Figure at 0x120108048>"
      ]
     },
     "metadata": {},
     "output_type": "display_data"
    }
   ],
   "source": [
    "plot_feature_importances(RandomForestRegressor(random_state=0, max_depth=6, n_estimators=1000).fit(X_train, y_train))"
   ]
  },
  {
   "cell_type": "markdown",
   "metadata": {},
   "source": [
    "#### Gradient Boosting Machines"
   ]
  },
  {
   "cell_type": "code",
   "execution_count": 54,
   "metadata": {},
   "outputs": [
    {
     "data": {
      "text/html": [
       "<div>\n",
       "<style>\n",
       "    .dataframe thead tr:only-child th {\n",
       "        text-align: right;\n",
       "    }\n",
       "\n",
       "    .dataframe thead th {\n",
       "        text-align: left;\n",
       "    }\n",
       "\n",
       "    .dataframe tbody tr th {\n",
       "        vertical-align: top;\n",
       "    }\n",
       "</style>\n",
       "<table border=\"1\" class=\"dataframe\">\n",
       "  <thead>\n",
       "    <tr style=\"text-align: right;\">\n",
       "      <th></th>\n",
       "      <th>max_depth</th>\n",
       "      <th>learning_rate</th>\n",
       "      <th>n_estimator</th>\n",
       "      <th>train_score</th>\n",
       "      <th>test_score</th>\n",
       "    </tr>\n",
       "  </thead>\n",
       "  <tbody>\n",
       "    <tr>\n",
       "      <th>51</th>\n",
       "      <td>3.0</td>\n",
       "      <td>0.4</td>\n",
       "      <td>10.0</td>\n",
       "      <td>0.538107</td>\n",
       "      <td>0.231755</td>\n",
       "    </tr>\n",
       "    <tr>\n",
       "      <th>36</th>\n",
       "      <td>2.0</td>\n",
       "      <td>0.7</td>\n",
       "      <td>10.0</td>\n",
       "      <td>0.405809</td>\n",
       "      <td>0.229164</td>\n",
       "    </tr>\n",
       "    <tr>\n",
       "      <th>22</th>\n",
       "      <td>2.0</td>\n",
       "      <td>0.1</td>\n",
       "      <td>100.0</td>\n",
       "      <td>0.464373</td>\n",
       "      <td>0.219053</td>\n",
       "    </tr>\n",
       "    <tr>\n",
       "      <th>13</th>\n",
       "      <td>1.0</td>\n",
       "      <td>0.5</td>\n",
       "      <td>100.0</td>\n",
       "      <td>0.352138</td>\n",
       "      <td>0.217874</td>\n",
       "    </tr>\n",
       "    <tr>\n",
       "      <th>10</th>\n",
       "      <td>1.0</td>\n",
       "      <td>0.4</td>\n",
       "      <td>100.0</td>\n",
       "      <td>0.339257</td>\n",
       "      <td>0.217608</td>\n",
       "    </tr>\n",
       "  </tbody>\n",
       "</table>\n",
       "</div>"
      ],
      "text/plain": [
       "    max_depth  learning_rate  n_estimator  train_score  test_score\n",
       "51        3.0            0.4         10.0     0.538107    0.231755\n",
       "36        2.0            0.7         10.0     0.405809    0.229164\n",
       "22        2.0            0.1        100.0     0.464373    0.219053\n",
       "13        1.0            0.5        100.0     0.352138    0.217874\n",
       "10        1.0            0.4        100.0     0.339257    0.217608"
      ]
     },
     "execution_count": 54,
     "metadata": {},
     "output_type": "execute_result"
    }
   ],
   "source": [
    "from sklearn.ensemble import GradientBoostingRegressor\n",
    "max_depth = range(1,6)\n",
    "learning_rate = [0.1, 0.2, 0.3, 0.4, 0.5, 0.7, 0.9]\n",
    "n_estimators = [10, 100, 1000]\n",
    "score = pd.DataFrame(columns=['max_depth', 'learning_rate', 'n_estimator', 'train_score','test_score'])\n",
    "for i in max_depth:\n",
    "    for j in learning_rate:\n",
    "        for k in n_estimators:\n",
    "            gbrt = GradientBoostingRegressor(max_depth=i, learning_rate=j, n_estimators=k).fit(X_train, y_train)\n",
    "            train_score = gbrt.score(X_train, y_train)\n",
    "            test_score = gbrt.score(X_test, y_test)\n",
    "            row = pd.Series({'max_depth': i, 'learning_rate':j, 'n_estimator':k, 'train_score': train_score, 'test_score': test_score})        \n",
    "            score = score.append(row, ignore_index=True)\n",
    "score.sort_values(by='test_score', inplace=True, ascending=False)\n",
    "score.head()"
   ]
  },
  {
   "cell_type": "code",
   "execution_count": 101,
   "metadata": {},
   "outputs": [
    {
     "data": {
      "image/png": "[encoded data removed]",
      "text/plain": [
       "<matplotlib.figure.Figure at 0x1201f7f28>"
      ]
     },
     "metadata": {},
     "output_type": "display_data"
    }
   ],
   "source": [
    "plot_feature_importances(GradientBoostingRegressor(max_depth=3, n_estimators=10, learning_rate=0.4).fit(X_train, y_train))"
   ]
  },
  {
   "cell_type": "markdown",
   "metadata": {
    "collapsed": true
   },
   "source": [
    "Preprocessing for SVR."
   ]
  },
  {
   "cell_type": "code",
   "execution_count": 55,
   "metadata": {
    "collapsed": true
   },
   "outputs": [],
   "source": [
    "#Split X_train and X_test into sub dataframes consists of dummy columns only and non-dummy columns only\n",
    "X_train_nondummies = X_train[['Fedu', 'Medu', 'absences',  'age',\n",
    "       'failures', 'famrel', 'freetime', 'goout',\n",
    "       'health', 'studytime', 'traveltime', 'Aalc']]\n",
    "X_train_dummies = X_train[['Pstatus','activities', 'address','famsize', 'famsup','higher', 'internet', 'nursery', 'romantic', 'school',\n",
    "       'schoolsup', 'sex', 'Fjob_health',\n",
    "       'Fjob_other', 'Fjob_services', 'Fjob_teacher', 'Mjob_health',\n",
    "       'Mjob_other', 'Mjob_services', 'Mjob_teacher', 'Subject_M', 'Subject_P',\n",
    "       'reason_home', 'reason_other', 'reason_reputation', 'guardian_mother',\n",
    "       'guardian_other']]\n",
    "X_test_nondummies = X_test[['Fedu', 'Medu', 'absences',  'age',\n",
    "       'failures', 'famrel', 'freetime', 'goout',\n",
    "       'health', 'studytime', 'traveltime', 'Aalc']]\n",
    "X_test_dummies = X_test[['Pstatus','activities', 'address','famsize', 'famsup','higher', 'internet', 'nursery', 'romantic', 'school',\n",
    "       'schoolsup', 'sex', 'Fjob_health',\n",
    "       'Fjob_other', 'Fjob_services', 'Fjob_teacher', 'Mjob_health',\n",
    "       'Mjob_other', 'Mjob_services', 'Mjob_teacher', 'Subject_M', 'Subject_P',\n",
    "       'reason_home', 'reason_other', 'reason_reputation', 'guardian_mother',\n",
    "       'guardian_other']]\n",
    "\n",
    "scaler = MinMaxScaler()\n",
    "scaler.fit(X_train_nondummies)\n",
    "\n",
    "X_train_nondummies_scaled = scaler.transform(X_train_nondummies)\n",
    "X_train_scaled = np.concatenate((X_train_nondummies_scaled, X_train_dummies.values), axis=1)\n",
    "\n",
    "X_test_nondummies_scaled = scaler.transform(X_test_nondummies) \n",
    "X_test_scaled= np.concatenate((X_test_nondummies_scaled, X_test_dummies.values), axis=1)"
   ]
  },
  {
   "cell_type": "markdown",
   "metadata": {},
   "source": [
    "#### SVR"
   ]
  },
  {
   "cell_type": "code",
   "execution_count": 56,
   "metadata": {},
   "outputs": [
    {
     "data": {
      "text/html": [
       "<div>\n",
       "<style>\n",
       "    .dataframe thead tr:only-child th {\n",
       "        text-align: right;\n",
       "    }\n",
       "\n",
       "    .dataframe thead th {\n",
       "        text-align: left;\n",
       "    }\n",
       "\n",
       "    .dataframe tbody tr th {\n",
       "        vertical-align: top;\n",
       "    }\n",
       "</style>\n",
       "<table border=\"1\" class=\"dataframe\">\n",
       "  <thead>\n",
       "    <tr style=\"text-align: right;\">\n",
       "      <th></th>\n",
       "      <th>gamma</th>\n",
       "      <th>C</th>\n",
       "      <th>train_score</th>\n",
       "      <th>test_score</th>\n",
       "    </tr>\n",
       "  </thead>\n",
       "  <tbody>\n",
       "    <tr>\n",
       "      <th>9</th>\n",
       "      <td>0.100</td>\n",
       "      <td>10.0</td>\n",
       "      <td>0.671253</td>\n",
       "      <td>0.174026</td>\n",
       "    </tr>\n",
       "    <tr>\n",
       "      <th>8</th>\n",
       "      <td>0.100</td>\n",
       "      <td>1.0</td>\n",
       "      <td>0.251056</td>\n",
       "      <td>0.149322</td>\n",
       "    </tr>\n",
       "    <tr>\n",
       "      <th>3</th>\n",
       "      <td>0.001</td>\n",
       "      <td>10.0</td>\n",
       "      <td>0.096125</td>\n",
       "      <td>0.092093</td>\n",
       "    </tr>\n",
       "    <tr>\n",
       "      <th>7</th>\n",
       "      <td>0.100</td>\n",
       "      <td>0.1</td>\n",
       "      <td>0.064428</td>\n",
       "      <td>0.050648</td>\n",
       "    </tr>\n",
       "    <tr>\n",
       "      <th>15</th>\n",
       "      <td>1.000</td>\n",
       "      <td>10.0</td>\n",
       "      <td>0.997558</td>\n",
       "      <td>0.027247</td>\n",
       "    </tr>\n",
       "  </tbody>\n",
       "</table>\n",
       "</div>"
      ],
      "text/plain": [
       "    gamma     C  train_score  test_score\n",
       "9   0.100  10.0     0.671253    0.174026\n",
       "8   0.100   1.0     0.251056    0.149322\n",
       "3   0.001  10.0     0.096125    0.092093\n",
       "7   0.100   0.1     0.064428    0.050648\n",
       "15  1.000  10.0     0.997558    0.027247"
      ]
     },
     "execution_count": 56,
     "metadata": {},
     "output_type": "execute_result"
    }
   ],
   "source": [
    "from sklearn.svm import SVR\n",
    "score = pd.DataFrame(columns=['gamma','C','train_score','test_score'])\n",
    "for gamma in [1e-3,1e-1,1e0,1e1,1e10,1e50]:\n",
    "    for C in [1e-3,1e-1,1e0,1e1,1e10,1e50]:\n",
    "        svr = SVR(kernel='rbf', gamma=gamma, C=C)\n",
    "        svr.fit(X_train_scaled, y_train)\n",
    "        train_score = svr.score(X_train_scaled, y_train)\n",
    "        test_score = svr.score(X_test_scaled, y_test)\n",
    "        row = pd.Series({'gamma':gamma, 'C':C, 'train_score':train_score,'test_score':test_score})\n",
    "        score = score.append(row, ignore_index=True)\n",
    "score.sort_values(by='test_score', ascending=False, inplace=True)\n",
    "score.head()"
   ]
  },
  {
   "cell_type": "markdown",
   "metadata": {
    "collapsed": true
   },
   "source": [
    "#### KNN"
   ]
  },
  {
   "cell_type": "code",
   "execution_count": 57,
   "metadata": {
    "scrolled": true
   },
   "outputs": [
    {
     "data": {
      "text/html": [
       "<div>\n",
       "<style>\n",
       "    .dataframe thead tr:only-child th {\n",
       "        text-align: right;\n",
       "    }\n",
       "\n",
       "    .dataframe thead th {\n",
       "        text-align: left;\n",
       "    }\n",
       "\n",
       "    .dataframe tbody tr th {\n",
       "        vertical-align: top;\n",
       "    }\n",
       "</style>\n",
       "<table border=\"1\" class=\"dataframe\">\n",
       "  <thead>\n",
       "    <tr style=\"text-align: right;\">\n",
       "      <th></th>\n",
       "      <th>n_neighbors</th>\n",
       "      <th>train_score</th>\n",
       "      <th>test_score</th>\n",
       "    </tr>\n",
       "  </thead>\n",
       "  <tbody>\n",
       "    <tr>\n",
       "      <th>23</th>\n",
       "      <td>24.0</td>\n",
       "      <td>0.118118</td>\n",
       "      <td>0.131833</td>\n",
       "    </tr>\n",
       "    <tr>\n",
       "      <th>25</th>\n",
       "      <td>26.0</td>\n",
       "      <td>0.110656</td>\n",
       "      <td>0.130940</td>\n",
       "    </tr>\n",
       "    <tr>\n",
       "      <th>7</th>\n",
       "      <td>8.0</td>\n",
       "      <td>0.218603</td>\n",
       "      <td>0.129483</td>\n",
       "    </tr>\n",
       "    <tr>\n",
       "      <th>11</th>\n",
       "      <td>12.0</td>\n",
       "      <td>0.169795</td>\n",
       "      <td>0.128853</td>\n",
       "    </tr>\n",
       "    <tr>\n",
       "      <th>24</th>\n",
       "      <td>25.0</td>\n",
       "      <td>0.112961</td>\n",
       "      <td>0.128395</td>\n",
       "    </tr>\n",
       "  </tbody>\n",
       "</table>\n",
       "</div>"
      ],
      "text/plain": [
       "    n_neighbors  train_score  test_score\n",
       "23         24.0     0.118118    0.131833\n",
       "25         26.0     0.110656    0.130940\n",
       "7           8.0     0.218603    0.129483\n",
       "11         12.0     0.169795    0.128853\n",
       "24         25.0     0.112961    0.128395"
      ]
     },
     "execution_count": 57,
     "metadata": {},
     "output_type": "execute_result"
    }
   ],
   "source": [
    "from sklearn.neighbors import KNeighborsRegressor\n",
    "neighbors_settings = range(1, 100)\n",
    "score = pd.DataFrame(columns=['n_neighbors','train_score','test_score'])\n",
    "for n_neighbor in neighbors_settings:\n",
    "    reg = KNeighborsRegressor (n_neighbors=n_neighbor)\n",
    "    reg.fit(X_train_scaled, y_train)\n",
    "    train_score = reg.score(X_train_scaled, y_train)\n",
    "    test_score = reg.score(X_test_scaled, y_test)\n",
    "    row = pd.Series({'n_neighbors':n_neighbor, 'train_score':train_score,'test_score':test_score})\n",
    "    score = score.append(row, ignore_index=True)\n",
    "score.sort_values(by='test_score', ascending=False, inplace=True)\n",
    "score.head()"
   ]
  },
  {
   "cell_type": "markdown",
   "metadata": {},
   "source": [
    "#### Linear Regression"
   ]
  },
  {
   "cell_type": "code",
   "execution_count": 58,
   "metadata": {
    "scrolled": true
   },
   "outputs": [
    {
     "name": "stdout",
     "output_type": "stream",
     "text": [
      "Training set score: 0.27\n",
      "test set score: 0.12\n"
     ]
    }
   ],
   "source": [
    "from sklearn.linear_model import LinearRegression\n",
    "lr = LinearRegression().fit(X_train_scaled, y_train)\n",
    "print(\"Training set score: {:.2f}\".format(lr.score(X_train_scaled, y_train)))\n",
    "print(\"test set score: {:.2f}\".format(lr.score(X_test_scaled, y_test)))\n",
    "# cv_score(lr, X_train_standard, y_train, cv=5)"
   ]
  },
  {
   "cell_type": "markdown",
   "metadata": {},
   "source": [
    "Ridge Regression (L2 regulation)."
   ]
  },
  {
   "cell_type": "code",
   "execution_count": 61,
   "metadata": {},
   "outputs": [
    {
     "data": {
      "text/html": [
       "<div>\n",
       "<style>\n",
       "    .dataframe thead tr:only-child th {\n",
       "        text-align: right;\n",
       "    }\n",
       "\n",
       "    .dataframe thead th {\n",
       "        text-align: left;\n",
       "    }\n",
       "\n",
       "    .dataframe tbody tr th {\n",
       "        vertical-align: top;\n",
       "    }\n",
       "</style>\n",
       "<table border=\"1\" class=\"dataframe\">\n",
       "  <thead>\n",
       "    <tr style=\"text-align: right;\">\n",
       "      <th></th>\n",
       "      <th>alpha</th>\n",
       "      <th>train_score</th>\n",
       "      <th>test_score</th>\n",
       "    </tr>\n",
       "  </thead>\n",
       "  <tbody>\n",
       "    <tr>\n",
       "      <th>3</th>\n",
       "      <td>10.00</td>\n",
       "      <td>0.246628</td>\n",
       "      <td>0.176497</td>\n",
       "    </tr>\n",
       "    <tr>\n",
       "      <th>2</th>\n",
       "      <td>1.00</td>\n",
       "      <td>0.267919</td>\n",
       "      <td>0.135436</td>\n",
       "    </tr>\n",
       "    <tr>\n",
       "      <th>1</th>\n",
       "      <td>0.10</td>\n",
       "      <td>0.268598</td>\n",
       "      <td>0.119786</td>\n",
       "    </tr>\n",
       "    <tr>\n",
       "      <th>0</th>\n",
       "      <td>0.01</td>\n",
       "      <td>0.268607</td>\n",
       "      <td>0.117880</td>\n",
       "    </tr>\n",
       "    <tr>\n",
       "      <th>4</th>\n",
       "      <td>100.00</td>\n",
       "      <td>0.138438</td>\n",
       "      <td>0.114205</td>\n",
       "    </tr>\n",
       "  </tbody>\n",
       "</table>\n",
       "</div>"
      ],
      "text/plain": [
       "    alpha  train_score  test_score\n",
       "3   10.00     0.246628    0.176497\n",
       "2    1.00     0.267919    0.135436\n",
       "1    0.10     0.268598    0.119786\n",
       "0    0.01     0.268607    0.117880\n",
       "4  100.00     0.138438    0.114205"
      ]
     },
     "execution_count": 61,
     "metadata": {},
     "output_type": "execute_result"
    }
   ],
   "source": [
    "from sklearn.linear_model import Ridge\n",
    "alpha = [0.01, 0.1, 1, 10, 100]\n",
    "score = pd.DataFrame(columns=['alpha','train_score','test_score'])\n",
    "for i in alpha:\n",
    "    ridge = Ridge(alpha=i).fit(X_train_scaled, y_train)\n",
    "    train_score = ridge.score(X_train_scaled, y_train)\n",
    "    test_score = ridge.score(X_test_scaled, y_test)\n",
    "    row = pd.Series({'alpha':i, 'train_score': train_score, 'test_score': test_score})\n",
    "    score = score.append(row, ignore_index=True)\n",
    "score.sort_values(by='test_score', ascending=False, inplace=True)\n",
    "score.head()"
   ]
  },
  {
   "cell_type": "markdown",
   "metadata": {},
   "source": [
    "Lasso Regression (L1 regulation)."
   ]
  },
  {
   "cell_type": "code",
   "execution_count": 64,
   "metadata": {
    "scrolled": true
   },
   "outputs": [
    {
     "data": {
      "text/html": [
       "<div>\n",
       "<style>\n",
       "    .dataframe thead tr:only-child th {\n",
       "        text-align: right;\n",
       "    }\n",
       "\n",
       "    .dataframe thead th {\n",
       "        text-align: left;\n",
       "    }\n",
       "\n",
       "    .dataframe tbody tr th {\n",
       "        vertical-align: top;\n",
       "    }\n",
       "</style>\n",
       "<table border=\"1\" class=\"dataframe\">\n",
       "  <thead>\n",
       "    <tr style=\"text-align: right;\">\n",
       "      <th></th>\n",
       "      <th>alpha</th>\n",
       "      <th>train_score</th>\n",
       "      <th>test_score</th>\n",
       "    </tr>\n",
       "  </thead>\n",
       "  <tbody>\n",
       "    <tr>\n",
       "      <th>1</th>\n",
       "      <td>0.010</td>\n",
       "      <td>0.262541</td>\n",
       "      <td>0.154755</td>\n",
       "    </tr>\n",
       "    <tr>\n",
       "      <th>2</th>\n",
       "      <td>0.100</td>\n",
       "      <td>0.146955</td>\n",
       "      <td>0.132196</td>\n",
       "    </tr>\n",
       "    <tr>\n",
       "      <th>0</th>\n",
       "      <td>0.001</td>\n",
       "      <td>0.268514</td>\n",
       "      <td>0.123379</td>\n",
       "    </tr>\n",
       "    <tr>\n",
       "      <th>3</th>\n",
       "      <td>1.000</td>\n",
       "      <td>0.000000</td>\n",
       "      <td>-0.003215</td>\n",
       "    </tr>\n",
       "    <tr>\n",
       "      <th>4</th>\n",
       "      <td>10.000</td>\n",
       "      <td>0.000000</td>\n",
       "      <td>-0.003215</td>\n",
       "    </tr>\n",
       "  </tbody>\n",
       "</table>\n",
       "</div>"
      ],
      "text/plain": [
       "    alpha  train_score  test_score\n",
       "1   0.010     0.262541    0.154755\n",
       "2   0.100     0.146955    0.132196\n",
       "0   0.001     0.268514    0.123379\n",
       "3   1.000     0.000000   -0.003215\n",
       "4  10.000     0.000000   -0.003215"
      ]
     },
     "execution_count": 64,
     "metadata": {},
     "output_type": "execute_result"
    }
   ],
   "source": [
    "from sklearn.linear_model import Lasso\n",
    "alpha = [0.001, 0.01, 0.1, 1, 10, 100]\n",
    "score = pd.DataFrame(columns=['alpha','train_score','test_score'])\n",
    "for i in alpha:\n",
    "    lasso = Lasso(alpha=i).fit(X_train_scaled, y_train)\n",
    "    train_score = lasso.score(X_train_scaled, y_train)\n",
    "    test_score = lasso.score(X_test_scaled, y_test)\n",
    "    row = pd.Series({'alpha':i, 'train_score': train_score, 'test_score': test_score})\n",
    "    score = score.append(row, ignore_index=True)\n",
    "score.sort_values(by='test_score', ascending=False, inplace=True)\n",
    "score.head()"
   ]
  }
 ],
 "metadata": {
  "kernelspec": {
   "display_name": "Python 3",
   "language": "python",
   "name": "python3"
  },
  "language_info": {
   "codemirror_mode": {
    "name": "ipython",
    "version": 3
   },
   "file_extension": ".py",
   "mimetype": "text/x-python",
   "name": "python",
   "nbconvert_exporter": "python",
   "pygments_lexer": "ipython3",
   "version": "3.6.1"
  }
 },
 "nbformat": 4,
 "nbformat_minor": 2
}
