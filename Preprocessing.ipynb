{
 "cells": [
  {
   "cell_type": "markdown",
   "metadata": {},
   "source": [
    "### Preprocessing rawdata"
   ]
  },
  {
   "cell_type": "code",
   "execution_count": 80,
   "metadata": {
    "collapsed": false
   },
   "outputs": [],
   "source": [
    "import pandas as pd\n",
    "import numpy as np"
   ]
  },
  {
   "cell_type": "code",
   "execution_count": 81,
   "metadata": {
    "collapsed": false
   },
   "outputs": [],
   "source": [
    "#Load data into Mdf and Pdf\n",
    "Mdf = pd.read_csv('student-mat.csv',sep=';')\n",
    "Pdf = pd.read_csv('student-por.csv',sep=';')"
   ]
  },
  {
   "cell_type": "code",
   "execution_count": 82,
   "metadata": {
    "collapsed": false
   },
   "outputs": [],
   "source": [
    "#Add a Subject column for Mdf and Pdf\n",
    "Mdf['Subject'] = 'M'\n",
    "Pdf['Subject'] = 'P'"
   ]
  },
  {
   "cell_type": "code",
   "execution_count": 83,
   "metadata": {
    "collapsed": false
   },
   "outputs": [],
   "source": [
    "#Identify student who took both Math and Portuguese classes\n",
    "df = pd.merge(Mdf,Pdf,on=[\"school\",\"sex\",\"age\",\"address\",\"famsize\",\"Pstatus\",\"Medu\",\"Fedu\",\"Mjob\",\"Fjob\",\"reason\",\"nursery\",\"internet\"], suffixes=('_M','_P'))"
   ]
  },
  {
   "cell_type": "code",
   "execution_count": 104,
   "metadata": {
    "collapsed": false,
    "scrolled": true
   },
   "outputs": [
    {
     "name": "stderr",
     "output_type": "stream",
     "text": [
      "/Users/Jing/anaconda/lib/python3.6/site-packages/pandas/core/generic.py:2773: SettingWithCopyWarning: \n",
      "A value is trying to be set on a copy of a slice from a DataFrame.\n",
      "Try using .loc[row_indexer,col_indexer] = value instead\n",
      "\n",
      "See the caveats in the documentation: http://pandas.pydata.org/pandas-docs/stable/indexing.html#indexing-view-versus-copy\n",
      "  self[name] = value\n"
     ]
    },
    {
     "data": {
      "text/plain": [
       "Dalc           int64\n",
       "Fedu           int64\n",
       "Fjob          object\n",
       "G1             int64\n",
       "G2             int64\n",
       "Medu           int64\n",
       "Mjob          object\n",
       "Pstatus       object\n",
       "Subject       object\n",
       "Walc           int64\n",
       "absences       int64\n",
       "activities    object\n",
       "address       object\n",
       "age            int64\n",
       "failures       int64\n",
       "famrel         int64\n",
       "famsize       object\n",
       "famsup        object\n",
       "freetime       int64\n",
       "goout          int64\n",
       "guardian      object\n",
       "health         int64\n",
       "higher        object\n",
       "internet      object\n",
       "G3             int64\n",
       "nursery       object\n",
       "paid          object\n",
       "reason        object\n",
       "romantic      object\n",
       "school        object\n",
       "schoolsup     object\n",
       "sex           object\n",
       "studytime      int64\n",
       "traveltime     int64\n",
       "dtype: object"
      ]
     },
     "execution_count": 104,
     "metadata": {},
     "output_type": "execute_result"
    }
   ],
   "source": [
    "#In Mdf, replace the values in G3 as an average score of Math and Portuguese. \n",
    "df.loc[:,'new_G3'] = (df.G3_M + df.G3_P)/2\n",
    "#Merge df back with Mdf, so we have a dataset (Mdf4) for students who take math only and who take both classes with G3 representing the average score.\n",
    "Mdf2 = df.drop(['guardian_P', 'traveltime_P',\n",
    "       'studytime_P', 'failures_P', 'schoolsup_P', 'famsup_P', 'paid_P',\n",
    "       'activities_P', 'higher_P', 'romantic_P', 'famrel_P', 'freetime_P',\n",
    "       'goout_P', 'Dalc_P', 'Walc_P', 'health_P', 'absences_P', 'G1_P', 'G2_P',\n",
    "       'G3_P', 'Subject_P'], axis=1)\n",
    "Mdf2.columns = ['school', 'sex', 'age', 'address', 'famsize', 'Pstatus', 'Medu', 'Fedu',\n",
    "       'Mjob', 'Fjob', 'reason', 'guardian', 'traveltime', 'studytime',\n",
    "       'failures', 'schoolsup', 'famsup', 'paid', 'activities',\n",
    "       'nursery', 'higher', 'internet', 'romantic', 'famrel',\n",
    "       'freetime', 'goout', 'Dalc', 'Walc', 'health', 'absences',\n",
    "       'G1', 'G2', 'G3', 'Subject', 'new_G3']\n",
    "Mdf3 = pd.concat([Mdf, Mdf2])\n",
    "Mdf3[['G3','new_G3']]\n",
    "Mdf4 = Mdf3.drop_duplicates(['Dalc', 'Fedu', 'Fjob', 'G1', 'G2', 'G3', 'Medu', 'Mjob', 'Pstatus',\n",
    "       'Subject', 'Walc', 'absences', 'activities', 'address', 'age',\n",
    "       'failures', 'famrel', 'famsize', 'famsup', 'freetime', 'goout',\n",
    "       'guardian', 'health', 'higher', 'internet', 'nursery', 'paid',\n",
    "       'reason', 'romantic', 'school', 'schoolsup', 'sex', 'studytime',\n",
    "       'traveltime'], keep='last')\n",
    "Mdf4.Subject = np.where(Mdf4.new_G3.isnull(), Mdf4.Subject, 'B')\n",
    "Mdf4.new_G3 = np.where(Mdf4.new_G3.isnull(), Mdf4.G3, Mdf4.new_G3)\n",
    "Mdf4 = Mdf4.drop('G3', axis=1)\n",
    "Mdf4 = Mdf4.rename(columns = {'new_G3':'G3'})\n",
    "Mdf4.G3 = Mdf4.G3.astype(int)\n",
    "Mdf4.dtypes"
   ]
  },
  {
   "cell_type": "code",
   "execution_count": 105,
   "metadata": {
    "collapsed": false
   },
   "outputs": [
    {
     "data": {
      "text/plain": [
       "Dalc           int64\n",
       "Fedu           int64\n",
       "Fjob          object\n",
       "G1             int64\n",
       "G2             int64\n",
       "G3             int64\n",
       "Medu           int64\n",
       "Mjob          object\n",
       "Pstatus       object\n",
       "Subject       object\n",
       "Walc           int64\n",
       "absences       int64\n",
       "activities    object\n",
       "address       object\n",
       "age            int64\n",
       "failures       int64\n",
       "famrel         int64\n",
       "famsize       object\n",
       "famsup        object\n",
       "freetime       int64\n",
       "goout          int64\n",
       "guardian      object\n",
       "health         int64\n",
       "higher        object\n",
       "internet      object\n",
       "nursery       object\n",
       "paid          object\n",
       "reason        object\n",
       "romantic      object\n",
       "school        object\n",
       "schoolsup     object\n",
       "sex           object\n",
       "studytime      int64\n",
       "traveltime     int64\n",
       "dtype: object"
      ]
     },
     "execution_count": 105,
     "metadata": {},
     "output_type": "execute_result"
    }
   ],
   "source": [
    "#Identify students who took Portuguese class only (Pdf4).\n",
    "Pdf2 = df.drop(['guardian_M', 'traveltime_M', 'studytime_M',\n",
    "       'failures_M', 'schoolsup_M', 'famsup_M', 'paid_M', 'activities_M',\n",
    "       'higher_M', 'romantic_M', 'famrel_M',\n",
    "       'freetime_M', 'goout_M', 'Dalc_M', 'Walc_M', 'health_M', 'absences_M',\n",
    "       'G1_M', 'G2_M', 'G3_M', 'Subject_M'], axis=1)\n",
    "Pdf2.columns = (['school', 'sex', 'age', 'address', 'famsize', 'Pstatus', 'Medu', 'Fedu',\n",
    "       'Mjob', 'Fjob', 'reason', 'nursery', 'internet', 'guardian',\n",
    "       'traveltime', 'studytime', 'failures', 'schoolsup', 'famsup',\n",
    "       'paid', 'activities', 'higher', 'romantic', 'famrel',\n",
    "       'freetime', 'goout', 'Dalc', 'Walc', 'health', 'absences',\n",
    "       'G1', 'G2', 'G3', 'Subject', 'new_G3'])\n",
    "Pdf3 = pd.concat([Pdf, Pdf2])\n",
    "Pdf4 = Pdf3.drop_duplicates([\"school\",\"sex\",\"age\",\"address\",\"famsize\",\"Pstatus\",\"Medu\",\"Fedu\",\"Mjob\",\"Fjob\",\"reason\",\"nursery\",\"internet\"], keep=False)\n",
    "Pdf4 = Pdf4.drop('new_G3', axis=1)\n",
    "Pdf4.dtypes"
   ]
  },
  {
   "cell_type": "code",
   "execution_count": 108,
   "metadata": {
    "collapsed": false,
    "scrolled": false
   },
   "outputs": [
    {
     "data": {
      "text/plain": [
       "Dalc           int64\n",
       "Fedu           int64\n",
       "Fjob          object\n",
       "G3             int64\n",
       "Medu           int64\n",
       "Mjob          object\n",
       "Pstatus       object\n",
       "Subject       object\n",
       "Walc           int64\n",
       "absences       int64\n",
       "activities    object\n",
       "address       object\n",
       "age            int64\n",
       "failures       int64\n",
       "famrel         int64\n",
       "famsize       object\n",
       "famsup        object\n",
       "freetime       int64\n",
       "goout          int64\n",
       "guardian      object\n",
       "health         int64\n",
       "higher        object\n",
       "internet      object\n",
       "nursery       object\n",
       "reason        object\n",
       "romantic      object\n",
       "school        object\n",
       "schoolsup     object\n",
       "sex           object\n",
       "studytime      int64\n",
       "traveltime     int64\n",
       "dtype: object"
      ]
     },
     "execution_count": 108,
     "metadata": {},
     "output_type": "execute_result"
    }
   ],
   "source": [
    "#Concatenate Mdf4 and Pdft. The new dataset INPUTdf representing students from Math, Portuguese, or both classes with an averag score G3\n",
    "INPUTdf = pd.concat([Mdf4,Pdf4])\n",
    "INPUTdf = INPUTdf.drop(['G1', 'G2', 'paid'], axis=1) #paid - extra paid classes within the course subject (Math or Portuguese) (binary: yes or no)\n",
    "INPUTdf.dtypes"
   ]
  },
  {
   "cell_type": "code",
   "execution_count": 110,
   "metadata": {
    "collapsed": false
   },
   "outputs": [],
   "source": [
    "# #split rawData into trainData and testData\n",
    "from sklearn.model_selection import train_test_split\n",
    "y = INPUTdf['G3']\n",
    "X = INPUTdf[['Dalc', 'Fedu', 'Fjob', 'Medu', 'Mjob', 'Pstatus', 'Subject',\n",
    "       'Walc', 'absences', 'activities', 'address', 'age', 'failures',\n",
    "       'famrel', 'famsize', 'famsup', 'freetime', 'goout', 'guardian',\n",
    "       'health', 'higher', 'internet', 'nursery', 'reason',\n",
    "       'romantic', 'school', 'schoolsup', 'sex', 'studytime', 'traveltime']]\n",
    "X_train, X_test, y_train, y_test = train_test_split(X, y, test_size = 0.1, random_state=42)"
   ]
  },
  {
   "cell_type": "code",
   "execution_count": 112,
   "metadata": {
    "collapsed": false,
    "scrolled": false
   },
   "outputs": [
    {
     "data": {
      "text/html": [
       "<div>\n",
       "<table border=\"1\" class=\"dataframe\">\n",
       "  <thead>\n",
       "    <tr style=\"text-align: right;\">\n",
       "      <th></th>\n",
       "      <th>Dalc</th>\n",
       "      <th>Fedu</th>\n",
       "      <th>Medu</th>\n",
       "      <th>Walc</th>\n",
       "      <th>absences</th>\n",
       "      <th>age</th>\n",
       "      <th>failures</th>\n",
       "      <th>famrel</th>\n",
       "      <th>freetime</th>\n",
       "      <th>goout</th>\n",
       "      <th>...</th>\n",
       "      <th>reason_other</th>\n",
       "      <th>reason_reputation</th>\n",
       "      <th>romantic_no</th>\n",
       "      <th>romantic_yes</th>\n",
       "      <th>school_GP</th>\n",
       "      <th>school_MS</th>\n",
       "      <th>schoolsup_no</th>\n",
       "      <th>schoolsup_yes</th>\n",
       "      <th>sex_F</th>\n",
       "      <th>sex_M</th>\n",
       "    </tr>\n",
       "  </thead>\n",
       "  <tbody>\n",
       "    <tr>\n",
       "      <th>266</th>\n",
       "      <td>1</td>\n",
       "      <td>2</td>\n",
       "      <td>2</td>\n",
       "      <td>1</td>\n",
       "      <td>0</td>\n",
       "      <td>18</td>\n",
       "      <td>0</td>\n",
       "      <td>4</td>\n",
       "      <td>3</td>\n",
       "      <td>3</td>\n",
       "      <td>...</td>\n",
       "      <td>0</td>\n",
       "      <td>0</td>\n",
       "      <td>0</td>\n",
       "      <td>1</td>\n",
       "      <td>1</td>\n",
       "      <td>0</td>\n",
       "      <td>1</td>\n",
       "      <td>0</td>\n",
       "      <td>1</td>\n",
       "      <td>0</td>\n",
       "    </tr>\n",
       "    <tr>\n",
       "      <th>35</th>\n",
       "      <td>1</td>\n",
       "      <td>3</td>\n",
       "      <td>2</td>\n",
       "      <td>1</td>\n",
       "      <td>0</td>\n",
       "      <td>15</td>\n",
       "      <td>0</td>\n",
       "      <td>3</td>\n",
       "      <td>5</td>\n",
       "      <td>1</td>\n",
       "      <td>...</td>\n",
       "      <td>1</td>\n",
       "      <td>0</td>\n",
       "      <td>1</td>\n",
       "      <td>0</td>\n",
       "      <td>1</td>\n",
       "      <td>0</td>\n",
       "      <td>1</td>\n",
       "      <td>0</td>\n",
       "      <td>1</td>\n",
       "      <td>0</td>\n",
       "    </tr>\n",
       "    <tr>\n",
       "      <th>111</th>\n",
       "      <td>1</td>\n",
       "      <td>3</td>\n",
       "      <td>3</td>\n",
       "      <td>1</td>\n",
       "      <td>2</td>\n",
       "      <td>16</td>\n",
       "      <td>0</td>\n",
       "      <td>5</td>\n",
       "      <td>3</td>\n",
       "      <td>3</td>\n",
       "      <td>...</td>\n",
       "      <td>0</td>\n",
       "      <td>0</td>\n",
       "      <td>1</td>\n",
       "      <td>0</td>\n",
       "      <td>1</td>\n",
       "      <td>0</td>\n",
       "      <td>1</td>\n",
       "      <td>0</td>\n",
       "      <td>0</td>\n",
       "      <td>1</td>\n",
       "    </tr>\n",
       "    <tr>\n",
       "      <th>5</th>\n",
       "      <td>1</td>\n",
       "      <td>3</td>\n",
       "      <td>4</td>\n",
       "      <td>2</td>\n",
       "      <td>10</td>\n",
       "      <td>16</td>\n",
       "      <td>0</td>\n",
       "      <td>5</td>\n",
       "      <td>4</td>\n",
       "      <td>2</td>\n",
       "      <td>...</td>\n",
       "      <td>0</td>\n",
       "      <td>1</td>\n",
       "      <td>1</td>\n",
       "      <td>0</td>\n",
       "      <td>1</td>\n",
       "      <td>0</td>\n",
       "      <td>1</td>\n",
       "      <td>0</td>\n",
       "      <td>0</td>\n",
       "      <td>1</td>\n",
       "    </tr>\n",
       "    <tr>\n",
       "      <th>44</th>\n",
       "      <td>2</td>\n",
       "      <td>2</td>\n",
       "      <td>2</td>\n",
       "      <td>2</td>\n",
       "      <td>14</td>\n",
       "      <td>16</td>\n",
       "      <td>1</td>\n",
       "      <td>4</td>\n",
       "      <td>3</td>\n",
       "      <td>3</td>\n",
       "      <td>...</td>\n",
       "      <td>0</td>\n",
       "      <td>0</td>\n",
       "      <td>1</td>\n",
       "      <td>0</td>\n",
       "      <td>1</td>\n",
       "      <td>0</td>\n",
       "      <td>0</td>\n",
       "      <td>1</td>\n",
       "      <td>1</td>\n",
       "      <td>0</td>\n",
       "    </tr>\n",
       "  </tbody>\n",
       "</table>\n",
       "<p>5 rows × 57 columns</p>\n",
       "</div>"
      ],
      "text/plain": [
       "     Dalc  Fedu  Medu  Walc  absences  age  failures  famrel  freetime  goout  \\\n",
       "266     1     2     2     1         0   18         0       4         3      3   \n",
       "35      1     3     2     1         0   15         0       3         5      1   \n",
       "111     1     3     3     1         2   16         0       5         3      3   \n",
       "5       1     3     4     2        10   16         0       5         4      2   \n",
       "44      2     2     2     2        14   16         1       4         3      3   \n",
       "\n",
       "     ...    reason_other  reason_reputation  romantic_no  romantic_yes  \\\n",
       "266  ...               0                  0            0             1   \n",
       "35   ...               1                  0            1             0   \n",
       "111  ...               0                  0            1             0   \n",
       "5    ...               0                  1            1             0   \n",
       "44   ...               0                  0            1             0   \n",
       "\n",
       "     school_GP  school_MS  schoolsup_no  schoolsup_yes  sex_F  sex_M  \n",
       "266          1          0             1              0      1      0  \n",
       "35           1          0             1              0      1      0  \n",
       "111          1          0             1              0      0      1  \n",
       "5            1          0             1              0      0      1  \n",
       "44           1          0             0              1      1      0  \n",
       "\n",
       "[5 rows x 57 columns]"
      ]
     },
     "execution_count": 112,
     "metadata": {},
     "output_type": "execute_result"
    }
   ],
   "source": [
    "#Dummy code categorical variables.\n",
    "X_train = pd.get_dummies(X_train)\n",
    "X_train.head()"
   ]
  },
  {
   "cell_type": "code",
   "execution_count": 113,
   "metadata": {
    "collapsed": false
   },
   "outputs": [
    {
     "data": {
      "text/plain": [
       "array([[1, 2, 2, ..., 0, 1, 0],\n",
       "       [1, 3, 2, ..., 0, 1, 0],\n",
       "       [1, 3, 3, ..., 0, 0, 1],\n",
       "       ..., \n",
       "       [2, 2, 3, ..., 0, 0, 1],\n",
       "       [1, 2, 2, ..., 1, 1, 0],\n",
       "       [1, 2, 2, ..., 0, 1, 0]])"
      ]
     },
     "execution_count": 113,
     "metadata": {},
     "output_type": "execute_result"
    }
   ],
   "source": [
    "#center and scale varialbes\n",
    "from sklearn import preprocessing\n",
    "X = np.array(X_train)\n",
    "X"
   ]
  },
  {
   "cell_type": "code",
   "execution_count": 114,
   "metadata": {
    "collapsed": false,
    "scrolled": true
   },
   "outputs": [
    {
     "name": "stderr",
     "output_type": "stream",
     "text": [
      "/Users/Jing/anaconda/lib/python3.6/site-packages/sklearn/utils/validation.py:429: DataConversionWarning: Data with input dtype int64 was converted to float64 by the scale function.\n",
      "  warnings.warn(msg, _DataConversionWarning)\n"
     ]
    }
   ],
   "source": [
    "X_scaled = preprocessing.scale(X)"
   ]
  },
  {
   "cell_type": "code",
   "execution_count": 115,
   "metadata": {
    "collapsed": false
   },
   "outputs": [
    {
     "data": {
      "text/plain": [
       "array([  8.94139349e-17,   1.60945083e-16,  -9.68650961e-18,\n",
       "         8.79237026e-17,   1.19218580e-17,  -9.35865852e-16,\n",
       "         2.08632515e-17,  -1.01335793e-16,   5.96092899e-17,\n",
       "         1.02826025e-16,   2.98046450e-17,   4.17265029e-17,\n",
       "         1.25179509e-16,  -4.17265029e-17,  -5.06678964e-17,\n",
       "        -2.38437160e-17,   2.68241805e-17,   2.98046450e-17,\n",
       "         3.57655739e-17,  -1.19218580e-17,   8.94139349e-17,\n",
       "        -2.08632515e-17,   7.45116124e-17,  -1.63925547e-17,\n",
       "        -9.68650961e-17,  -3.27851095e-17,   3.57655739e-17,\n",
       "         1.01335793e-16,  -2.08632515e-17,   2.08632515e-17,\n",
       "        -3.57655739e-17,   3.57655739e-17,  -1.01335793e-16,\n",
       "         3.57655739e-17,   8.34530059e-17,  -8.34530059e-17,\n",
       "         8.79237026e-17,   5.51385932e-17,   0.00000000e+00,\n",
       "        -1.19218580e-17,   1.37101367e-16,  -7.22762640e-17,\n",
       "         9.94730025e-17,  -8.34530059e-17,   8.34530059e-17,\n",
       "        -1.78827870e-17,  -1.49023225e-17,  -2.68241805e-17,\n",
       "         8.94139349e-18,  -5.06678964e-17,   5.06678964e-17,\n",
       "        -7.15311479e-17,   3.57655739e-17,   6.70604512e-17,\n",
       "         1.49023225e-18,   2.08632515e-17,  -2.08632515e-17])"
      ]
     },
     "execution_count": 115,
     "metadata": {},
     "output_type": "execute_result"
    }
   ],
   "source": [
    "X_scaled.mean(axis=0)"
   ]
  },
  {
   "cell_type": "code",
   "execution_count": 116,
   "metadata": {
    "collapsed": false
   },
   "outputs": [
    {
     "data": {
      "text/plain": [
       "array([ 1.,  1.,  1.,  1.,  1.,  1.,  1.,  1.,  1.,  1.,  1.,  1.,  1.,\n",
       "        1.,  1.,  1.,  1.,  1.,  1.,  1.,  1.,  1.,  1.,  1.,  1.,  1.,\n",
       "        1.,  1.,  1.,  1.,  1.,  1.,  1.,  1.,  1.,  1.,  1.,  1.,  1.,\n",
       "        1.,  1.,  1.,  1.,  1.,  1.,  1.,  1.,  1.,  1.,  1.,  1.,  1.,\n",
       "        1.,  1.,  1.,  1.,  1.])"
      ]
     },
     "execution_count": 116,
     "metadata": {},
     "output_type": "execute_result"
    }
   ],
   "source": [
    "X_scaled.std(axis=0)"
   ]
  },
  {
   "cell_type": "code",
   "execution_count": 117,
   "metadata": {
    "collapsed": false
   },
   "outputs": [
    {
     "name": "stderr",
     "output_type": "stream",
     "text": [
      "/Users/Jing/anaconda/lib/python3.6/site-packages/sklearn/utils/validation.py:429: DataConversionWarning: Data with input dtype int64 was converted to float64 by the scale function.\n",
      "  warnings.warn(msg, _DataConversionWarning)\n"
     ]
    }
   ],
   "source": [
    "#center variables\n",
    "X_centered = preprocessing.scale(X, with_mean=True, with_std=False)"
   ]
  },
  {
   "cell_type": "code",
   "execution_count": 118,
   "metadata": {
    "collapsed": false,
    "scrolled": true
   },
   "outputs": [
    {
     "data": {
      "text/plain": [
       "array([  3.87460384e-17,   8.34530059e-17,   8.94139349e-18,\n",
       "         1.07296722e-16,   2.38437160e-17,  -1.21602951e-15,\n",
       "         3.57655739e-17,  -1.01335793e-16,   4.76874319e-17,\n",
       "         1.43062296e-16,  -5.96092899e-18,   2.98046450e-17,\n",
       "         8.64334704e-17,   1.26669741e-17,   3.72558062e-18,\n",
       "         2.98046450e-17,  -9.31395155e-18,   1.93730192e-17,\n",
       "         3.42753417e-17,  -1.49023225e-18,   2.23534837e-17,\n",
       "        -2.98046450e-18,   2.98046450e-18,   2.27260418e-17,\n",
       "        -4.76874319e-17,  -5.96092899e-18,  -5.96092899e-18,\n",
       "         3.57655739e-17,  -5.96092899e-18,   5.96092899e-18,\n",
       "        -2.23534837e-17,   2.23534837e-17,  -3.27851095e-17,\n",
       "         5.96092899e-18,   2.38437160e-17,  -2.38437160e-17,\n",
       "         1.19218580e-17,   2.01181353e-17,   1.04316257e-17,\n",
       "        -1.75102289e-17,   4.17265029e-17,  -1.75102289e-17,\n",
       "         4.76874319e-17,  -1.63925547e-17,   3.27851095e-17,\n",
       "        -2.08632515e-17,   1.93730192e-17,   2.83144127e-17,\n",
       "        -4.47069674e-18,  -3.57655739e-17,   3.57655739e-17,\n",
       "        -5.36483609e-17,   1.49023225e-17,   4.54520836e-17,\n",
       "        -1.49023225e-17,   1.49023225e-17,  -1.49023225e-17])"
      ]
     },
     "execution_count": 118,
     "metadata": {},
     "output_type": "execute_result"
    }
   ],
   "source": [
    "X_centered.mean(axis=0)"
   ]
  },
  {
   "cell_type": "code",
   "execution_count": null,
   "metadata": {
    "collapsed": true
   },
   "outputs": [],
   "source": []
  },
  {
   "cell_type": "code",
   "execution_count": null,
   "metadata": {
    "collapsed": true
   },
   "outputs": [],
   "source": []
  },
  {
   "cell_type": "code",
   "execution_count": null,
   "metadata": {
    "collapsed": true
   },
   "outputs": [],
   "source": []
  },
  {
   "cell_type": "code",
   "execution_count": null,
   "metadata": {
    "collapsed": true
   },
   "outputs": [],
   "source": []
  },
  {
   "cell_type": "code",
   "execution_count": null,
   "metadata": {
    "collapsed": true
   },
   "outputs": [],
   "source": []
  },
  {
   "cell_type": "code",
   "execution_count": null,
   "metadata": {
    "collapsed": true
   },
   "outputs": [],
   "source": []
  }
 ],
 "metadata": {
  "kernelspec": {
   "display_name": "Python 3",
   "language": "python",
   "name": "python3"
  },
  "language_info": {
   "codemirror_mode": {
    "name": "ipython",
    "version": 3
   },
   "file_extension": ".py",
   "mimetype": "text/x-python",
   "name": "python",
   "nbconvert_exporter": "python",
   "pygments_lexer": "ipython3",
   "version": "3.6.0"
  }
 },
 "nbformat": 4,
 "nbformat_minor": 2
}
