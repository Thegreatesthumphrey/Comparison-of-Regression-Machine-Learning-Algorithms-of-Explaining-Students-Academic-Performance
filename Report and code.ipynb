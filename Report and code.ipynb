{
 "cells": [
  {
   "cell_type": "markdown",
   "metadata": {
    "collapsed": true
   },
   "source": [
    "# An SVM Analysis on Student Alcohol Consumption Data"
   ]
  },
  {
   "cell_type": "markdown",
   "metadata": {},
   "source": [
    "### Background and Problem to be Solved"
   ]
  },
  {
   "cell_type": "markdown",
   "metadata": {},
   "source": [
    "Alcohol consumption can have many short-term and long-term side effects on young people’s health and bad consequences on life and academic performance. From 1998 through 2005, 1,825 college students between the ages of 18 and 24 die from alcohol-related unintentional injuries, including motor-vehicle crashes.1 Alcohol use is also the major cause of sexual assaults on campus. Students who drink heavily are reported to have poorer performance on a test and high absence rate. 2 For many of us, adolescence is the point when we become independent person and make crucial decisions on our own. I would like to identify the factors that impact the students’ school performance, especially to check if alcohol use will affect students’ grades, with support of real-world data.\n",
    " \n",
    "This project investigates techniques for regression problems and create models that can predict students’ academic performance. Regression is a major type of supervised machine learning (the other is classification). The goal for regression problems is to predict continuous number given a list of attributes. In this project, I will use students’ social characters and alcohol consumption as inputs to predict their academic performance measured in the final grade of Math, Portuguese, or the average of both."
   ]
  },
  {
   "cell_type": "markdown",
   "metadata": {},
   "source": [
    "### Data"
   ]
  },
  {
   "cell_type": "markdown",
   "metadata": {},
   "source": [
    "The data is collected by Fabio Pagnotta and Hossain Mohammad Amran3,4 from University of Camerino. The data can be accessed through UCI Machine Learning Repository:\n",
    " \n",
    "https://archive.ics.uci.edu/ml/datasets/STUDENT+ALCOHOL+CONSUMPTION\n",
    " \n",
    "The data covers alcohol usage of a group of students under secondary education in Portugal along with their social, gender, study time, and school performance information. The dataset consists of two subdatasets with contributes for both Math (student-mat.csv) and Portuguese language (tudent-por.csv) classes. Each dataset has 32 variables with detailed explanation in “student.txt”. There are several (382) students that belong to both datasets."
   ]
  },
  {
   "cell_type": "markdown",
   "metadata": {},
   "source": [
    "Below is the description of variables loaded from \"students.txt\"."
   ]
  },
  {
   "cell_type": "markdown",
   "metadata": {},
   "source": [
    "    Attributes for both student-mat.csv (Math course) and student-por.csv (Portuguese language course) datasets:\n",
    "    1 school - student's school (binary: \"GP\" - Gabriel Pereira or \"MS\" - Mousinho da Silveira)\n",
    "    2 sex - student's sex (binary: \"F\" - female or \"M\" - male)\n",
    "    3 age - student's age (numeric: from 15 to 22)\n",
    "    4 address - student's home address type (binary: \"U\" - urban or \"R\" - rural)\n",
    "    5 famsize - family size (binary: \"LE3\" - less or equal to 3 or \"GT3\" - greater than 3)\n",
    "    6 Pstatus - parent's cohabitation status (binary: \"T\" - living together or \"A\" - apart)\n",
    "    7 Medu - mother's education (numeric: 0 - none,  1 - primary education (4th grade), 2 – 5th to 9th grade, 3 – secondary education or 4 – higher education)\n",
    "    8 Fedu - father's education (numeric: 0 - none,  1 - primary education (4th grade), 2 – 5th to 9th grade, 3 – secondary education or 4 – higher education)\n",
    "    9 Mjob - mother's job (nominal: \"teacher\", \"health\" care related, civil \"services\" (e.g. administrative or police), \"at_home\" or \"other\")\n",
    "    10 Fjob - father's job (nominal: \"teacher\", \"health\" care related, civil \"services\" (e.g. administrative or police), \"at_home\" or \"other\")\n",
    "    11 reason - reason to choose this school (nominal: close to \"home\", school \"reputation\", \"course\" preference or \"other\")\n",
    "    12 guardian - student's guardian (nominal: \"mother\", \"father\" or \"other\")\n",
    "    13 traveltime - home to school travel time (numeric: 1 - <15 min., 2 - 15 to 30 min., 3 - 30 min. to 1 hour, or 4 - >1 hour)\n",
    "    14 studytime - weekly study time (numeric: 1 - <2 hours, 2 - 2 to 5 hours, 3 - 5 to 10 hours, or 4 - >10 hours)\n",
    "    15 failures - number of past class failures (numeric: n if 1<=n<3, else 4)\n",
    "    16 schoolsup - extra educational support (binary: yes or no)\n",
    "    17 famsup - family educational support (binary: yes or no)\n",
    "    18 paid - extra paid classes within the course subject (Math or Portuguese) (binary: yes or no)\n",
    "    19 activities - extra-curricular activities (binary: yes or no)\n",
    "    20 nursery - attended nursery school (binary: yes or no)\n",
    "    21 higher - wants to take higher education (binary: yes or no)\n",
    "    22 internet - Internet access at home (binary: yes or no)\n",
    "    23 romantic - with a romantic relationship (binary: yes or no)\n",
    "    24 famrel - quality of family relationships (numeric: from 1 - very bad to 5 - excellent)\n",
    "    25 freetime - free time after school (numeric: from 1 - very low to 5 - very high)\n",
    "    26 goout - going out with friends (numeric: from 1 - very low to 5 - very high)\n",
    "    27 Dalc - workday alcohol consumption (numeric: from 1 - very low to 5 - very high)\n",
    "    28 Walc - weekend alcohol consumption (numeric: from 1 - very low to 5 - very high)\n",
    "    29 health - current health status (numeric: from 1 - very bad to 5 - very good)\n",
    "    30 absences - number of school absences (numeric: from 0 to 93)\n",
    "\n",
    "    These grades are related with the course subject, Math or Portuguese:\n",
    "    31 G1 - first period grade (numeric: from 0 to 20)\n",
    "    31 G2 - second period grade (numeric: from 0 to 20)\n",
    "    32 G3 - final grade (numeric: from 0 to 20, output target)"
   ]
  },
  {
   "cell_type": "markdown",
   "metadata": {},
   "source": [
    "### Data Wrangling"
   ]
  },
  {
   "cell_type": "markdown",
   "metadata": {},
   "source": [
    "In order to explore any patterns of factors may associated with students’ school performance, I combined the two subdatasets. To avoid the case that same students may appeared twice in the merged datasets, I firstly identified a sub dataset of students that belong to both datasets. G3, the final grade related with the course subject, Math or Portuguese, is used as the indicator of the students’ school performance. For students who took both courses, the average score of the two courses is calculated and being used. \n",
    " \n",
    "Next, I concatenated three sub datasets of students that took Math only, students that took Portuguese only, and students that took both, generating an initial input dataset. \n",
    "\n",
    "New variables created: \n",
    " \n",
    "    “Subject” - measures which course a student was taking. (“M” - Math, “P” - Portuguese, and “B”- both)\n",
    " \n",
    "    “Course”  -  measures how many course a student was taking. (1 - one course, and 2 - two courses)\n",
    " \n",
    "    “Aalc” - measures daily alcohol consumption was generated using formula Aalc = (Dalc*5 + Walc*2)/7. (Dalc - workday alcohol consumption. Walc - weekend alcohol consumption)\n",
    "\n",
    "Any variables that irrelevant to the study were dropped: \n",
    "\n",
    "    They are “G1”, “G2”, “paid”, “Dalc”, and “Walc”. \n",
    " \n",
    "In the new preprocessed data “INPUTdf”, the sum of missing data for each column is zero, meaning there is no missing values. \n",
    " \n",
    "By looking into histograms of G3 and Aalc, the two major continuous variables in the dataset, there is also no outliers. "
   ]
  },
  {
   "cell_type": "markdown",
   "metadata": {},
   "source": [
    "### EDA and Summary Statistics"
   ]
  },
  {
   "cell_type": "markdown",
   "metadata": {},
   "source": [
    "The target variable, G3, the average final score, falls in the range between 0 and 18.5, with an average value of 11.25. The histogram reveals that the sample distribution is close to normal. \n",
    "\n",
    "Bias was generated with the calculation of G3:\n",
    " \n",
    "    For students who only took one of the two classes, G3 can only reflect the performance of the single class they were taking. The final score of one class makes less sense to another, meaning G3_M is not fully comparable to G3_P. From a Seaborn style scatter plot of Subject and G3, it shows that students who took Portuguese class only in general have a lower G3.\n",
    " \n",
    "    For students who took two classes and used the average of final scores, a measurement bias was generated because a student may be good at one subject or another. A student is always better off by taking one the two classes that he or she is better at.\n"
   ]
  },
  {
   "cell_type": "markdown",
   "metadata": {},
   "source": [
    "By plotting the histogram of Aalc, the students’ daily alcohol consumption level, I notice that most students consumed very low levels of alcohol. To study the effect of alcohol use, it may be worth looking into the subset of data with students who had severe alcohol use.\n",
    "\n",
    "No visual relationship has been observed from the plot between time of study and G3, while students number of past failures negatively associated with G3, as reflected in the failures vs G3 scatter plot. Students who didn’t want to take higher education were also unlikely to get higher G3, as shown in scatter plot of higher vs G3. Plotting G3 over absences, it shows a negative correlation."
   ]
  },
  {
   "cell_type": "markdown",
   "metadata": {},
   "source": [
    "### Data Preparation for Modeling\n",
    "The target variable (y) is G3. I include all rest variables as  predictors (X). \n",
    " \n",
    "For binary variables from the original datasets, I replaced “yes”/”no” values with 1/0. The converted variables are listed in below.\n",
    "school - student's school (1 - Gabriel Pereira or 0 - Mousinho da Silveira)\n",
    "\n",
    "    sex - student's sex (1 - female or 0 - male).\n",
    "    address - student's home address type (1 - urban or 0 - rural).\n",
    "    famsize - family size (1 - less or equal to 3 or 0 - greater than 3).\n",
    "    Pstatus - parent's cohabitation status (1- living together or 0 - apart).\n",
    "    schoolsup - extra educational support (1- yes or 0 - no).\n",
    "    famsup - family educational support (1- yes or 0 - no).\n",
    "    activities - extra-curricular activities (1- yes or 0 - no).\n",
    "    nursery - attended nursery school (1- yes or 0 - no).\n",
    "    higher - wants to take higher education (1- yes or 0 - no).\n",
    "    internet - Internet access at home (1- yes or 0 - no).\n",
    "    romantic - with a romantic relationship (1- yes or 0 - no).\n",
    " \n",
    "Next, I dummy coded any nominal categorical variables in X. This will improve SVM performance by eliminating any relationships form the statistical stories of nominal variables. \n",
    "Nominal variables are listed as the following. \n",
    " \n",
    "    Subject - The course a student was taking. (“M” - Math, “P” - Portuguese, and “B”- both).\n",
    "    Mjob - mother's job (\"teacher\", \"health\" care related, civil \"services\" (e.g. administrative or police), \"at_home\" or \"other\").\n",
    "    Fjob - father's job ( \"teacher\", \"health\" care related, civil \"services\" (e.g. administrative or police), \"at_home\" or \"other\").\n",
    "    reason - reason to choose this school (close to \"home\", school \"reputation\", \"course\" preference or \"other\").\n",
    "    guardian - student's guardian ( \"mother\", \"father\" or \"other\").\n",
    "    \n",
    "In the modeling process, I build a model on the training data and then to make predictions on the test data that has the same features as the training set that we used. The goal is to build a model that is able to generalize from training set to test set as accurately as possible. \n",
    "SVM model is very sensitive to the scaling of the data. There are several methods to transform the data that yield more standard ranges. In this project, I will choose one from below that optimize the model accuracy.\n",
    "\n",
    "    The StandardScaler ensures that for each feature the mean is 0 and the variance is 1.\n",
    "    The RobustScaler removes the median and scales the data according to quantile range. Thus it is robust to outliers.\n",
    "    The MinMaxScaler shifts the data such that all features are exactly between 0 and 1.\n",
    "    The Normalizer scales each point that the feature vector has a Euclidean length of 1.\n",
    "\n",
    "In particular, I scaled the non-dummy variables in training dataset, and combined them with dummy variables in the training data set. I followed the same steps to the test dataset. So the datasets are ready for initial modeling. "
   ]
  },
  {
   "cell_type": "markdown",
   "metadata": {},
   "source": [
    "### SVR Model"
   ]
  },
  {
   "cell_type": "markdown",
   "metadata": {},
   "source": [
    "In this project, I use supported vector machines (SVMs) to analyze the regression problem. For regression tasks, the goal is to predict a continuous number, in this case G3, using the given features. In this algorithm, we plot each data point in an n-dimensional space, where n is number of features. \n",
    " \n",
    "The SVR uses the same principles as SVM for classification, by maintaining all the main features that maximize the margin. Linear models are limited to low-dimensional spaces. By using kernel tricks (by directly computing the distance),  we can take low dimensional input space and transform it to a higher dimensional space. The two common ways are polynomial kernel and radial basis function (RBF) kernel, or Gaussian kernel. In this project, I will use RBF. Two parameters are considered when training VVM with RBF kernel: C and gamma. C trades off misclassification against the simplicity of the supported vectors. Gamma measures how much influence a single training point has. \n",
    " \n",
    "I grid search the optimal performance given a range of C and gamma. \n",
    "gamma ∈  [1e-3,1e-1,1e0,1e1,1e10,1e50]\n",
    "C ∈ [1e-3,1e-1,1e0,1e1,1e10,1e50]\n",
    " \n",
    "The score function returns the coefficient of determination R^2 of the prediction. Train score and test score are calculated and reported. In addition, I also use 5-fold cross-validation and average the scores. The C and gamma that gives the highest average cross validation score (0.22) are chosen for the SVR model (gamma = 0.1, C=1e1).\n",
    " "
   ]
  },
  {
   "cell_type": "markdown",
   "metadata": {},
   "source": [
    "### Discussion and Future Work"
   ]
  },
  {
   "cell_type": "markdown",
   "metadata": {},
   "source": [
    "The highest average cross validation of 0.22 suggest the accuracy of the model is not sufficient. Various factors can be considered. The target variable, G3, has a high bias and high noise level. The predictor variables may be cross correlated. There is week connection between features and G3. The 2D scatterplots of the slightly week trend also indicate lack of predictability of the data itself. "
   ]
  },
  {
   "cell_type": "markdown",
   "metadata": {},
   "source": [
    "# Code"
   ]
  },
  {
   "cell_type": "code",
   "execution_count": 1,
   "metadata": {
    "collapsed": false
   },
   "outputs": [
    {
     "name": "stderr",
     "output_type": "stream",
     "text": [
      "/Users/Jing/anaconda/lib/python3.6/site-packages/sklearn/cross_validation.py:44: DeprecationWarning: This module was deprecated in version 0.18 in favor of the model_selection module into which all the refactored classes and functions are moved. Also note that the interface of the new CV iterators are different from that of this module. This module will be removed in 0.20.\n",
      "  \"This module will be removed in 0.20.\", DeprecationWarning)\n"
     ]
    }
   ],
   "source": [
    "#Import modules\n",
    "%matplotlib inline\n",
    "import matplotlib.pyplot as plt\n",
    "import seaborn as sns\n",
    "import pandas as pd\n",
    "import numpy as np\n",
    "from sklearn.model_selection import train_test_split\n",
    "from sklearn import svm\n",
    "from sklearn import cross_validation\n",
    "from sklearn import datasets\n",
    "from sklearn.svm import SVR\n",
    "import statsmodels.api as sm\n",
    "from sklearn.preprocessing import MinMaxScaler\n",
    "from sklearn.preprocessing import StandardScaler\n",
    "from sklearn.preprocessing import RobustScaler \n",
    "from sklearn.preprocessing import Normalizer\n",
    "from sklearn.model_selection import cross_val_score"
   ]
  },
  {
   "cell_type": "code",
   "execution_count": 2,
   "metadata": {
    "collapsed": false
   },
   "outputs": [],
   "source": [
    "#Load data into Mdf and Pdf\n",
    "Mdf = pd.read_csv('student-mat.csv',sep=';')\n",
    "Pdf = pd.read_csv('student-por.csv',sep=';')"
   ]
  },
  {
   "cell_type": "code",
   "execution_count": 3,
   "metadata": {
    "collapsed": false
   },
   "outputs": [],
   "source": [
    "#Add a column \"Subject\" that describes which course the student has taken\n",
    "Mdf['Subject'] = 'M'\n",
    "Pdf['Subject'] = 'P'"
   ]
  },
  {
   "cell_type": "code",
   "execution_count": 4,
   "metadata": {
    "collapsed": false
   },
   "outputs": [],
   "source": [
    "#Identify students who took both Math and Portuguese classes\n",
    "df = pd.merge(Mdf,Pdf,on=[\"school\",\"sex\",\"age\",\"address\",\"famsize\",\"Pstatus\",\"Medu\",\"Fedu\",\"Mjob\",\"Fjob\",\"reason\",\"nursery\",\"internet\"], suffixes=('_M','_P'))"
   ]
  },
  {
   "cell_type": "code",
   "execution_count": 5,
   "metadata": {
    "collapsed": false,
    "scrolled": true
   },
   "outputs": [
    {
     "name": "stderr",
     "output_type": "stream",
     "text": [
      "/Users/Jing/anaconda/lib/python3.6/site-packages/pandas/core/generic.py:2773: SettingWithCopyWarning: \n",
      "A value is trying to be set on a copy of a slice from a DataFrame.\n",
      "Try using .loc[row_indexer,col_indexer] = value instead\n",
      "\n",
      "See the caveats in the documentation: http://pandas.pydata.org/pandas-docs/stable/indexing.html#indexing-view-versus-copy\n",
      "  self[name] = value\n"
     ]
    }
   ],
   "source": [
    "#In df, replace G3 with new_G3, average score of Math and Portuguese \n",
    "df.loc[:,'new_G3'] = (df.G3_M + df.G3_P)/2\n",
    "#Merge df back with Mdf, so we have a dataset (Mdf4) for students who take math only and who take both classes\n",
    "Mdf2 = df.drop(['guardian_P', 'traveltime_P',\n",
    "       'studytime_P', 'failures_P', 'schoolsup_P', 'famsup_P', 'paid_P',\n",
    "       'activities_P', 'higher_P', 'romantic_P', 'famrel_P', 'freetime_P',\n",
    "       'goout_P', 'Dalc_P', 'Walc_P', 'health_P', 'absences_P', 'G1_P', 'G2_P',\n",
    "       'G3_P', 'Subject_P'], axis=1)\n",
    "Mdf2.columns = ['school', 'sex', 'age', 'address', 'famsize', 'Pstatus', 'Medu', 'Fedu',\n",
    "       'Mjob', 'Fjob', 'reason', 'guardian', 'traveltime', 'studytime',\n",
    "       'failures', 'schoolsup', 'famsup', 'paid', 'activities',\n",
    "       'nursery', 'higher', 'internet', 'romantic', 'famrel',\n",
    "       'freetime', 'goout', 'Dalc', 'Walc', 'health', 'absences',\n",
    "       'G1', 'G2', 'G3', 'Subject', 'new_G3']\n",
    "Mdf3 = pd.concat([Mdf, Mdf2])\n",
    "Mdf3[['G3','new_G3']]\n",
    "Mdf4 = Mdf3.drop_duplicates(['Dalc', 'Fedu', 'Fjob', 'G1', 'G2', 'G3', 'Medu', 'Mjob', 'Pstatus',\n",
    "       'Subject', 'Walc', 'absences', 'activities', 'address', 'age',\n",
    "       'failures', 'famrel', 'famsize', 'famsup', 'freetime', 'goout',\n",
    "       'guardian', 'health', 'higher', 'internet', 'nursery', 'paid',\n",
    "       'reason', 'romantic', 'school', 'schoolsup', 'sex', 'studytime',\n",
    "       'traveltime'], keep='last')\n",
    "#For students taking two classes, update Subject value as \"B\"\n",
    "Mdf4.Subject = np.where(Mdf4.new_G3.isnull(), Mdf4.Subject, 'B')\n",
    "#For students only taking Math, the average score (new_G3) is their Math score (G3)\n",
    "Mdf4.new_G3 = np.where(Mdf4.new_G3.isnull(), Mdf4.G3, Mdf4.new_G3)\n",
    "#Drop G3\n",
    "Mdf4 = Mdf4.drop('G3', axis=1)\n",
    "#Rename new_G3 as G3\n",
    "Mdf4 = Mdf4.rename(columns = {'new_G3':'G3'})"
   ]
  },
  {
   "cell_type": "code",
   "execution_count": 6,
   "metadata": {
    "collapsed": false
   },
   "outputs": [],
   "source": [
    "#Identify students who took Portuguese class only as Pdf4\n",
    "#In df (students taking two classes), select columns coming from Pdf and rename columns\n",
    "Pdf2 = df.drop(['guardian_M', 'traveltime_M', 'studytime_M',\n",
    "       'failures_M', 'schoolsup_M', 'famsup_M', 'paid_M', 'activities_M',\n",
    "       'higher_M', 'romantic_M', 'famrel_M',\n",
    "       'freetime_M', 'goout_M', 'Dalc_M', 'Walc_M', 'health_M', 'absences_M',\n",
    "       'G1_M', 'G2_M', 'G3_M', 'Subject_M'], axis=1)\n",
    "Pdf2.columns = (['school', 'sex', 'age', 'address', 'famsize', 'Pstatus', 'Medu', 'Fedu',\n",
    "       'Mjob', 'Fjob', 'reason', 'nursery', 'internet', 'guardian',\n",
    "       'traveltime', 'studytime', 'failures', 'schoolsup', 'famsup',\n",
    "       'paid', 'activities', 'higher', 'romantic', 'famrel',\n",
    "       'freetime', 'goout', 'Dalc', 'Walc', 'health', 'absences',\n",
    "       'G1', 'G2', 'G3', 'Subject', 'new_G3'])\n",
    "#Merge Pdf2 back to Pdf, resulting students taking Portuguese class only, and students taking two classes (appeared twice)\n",
    "#Fully drop duplicates (students taking two classes)\n",
    "Pdf4 = pd.concat([Pdf, Pdf2]).drop_duplicates([\"school\",\"sex\",\"age\",\"address\",\"famsize\",\"Pstatus\",\"Medu\",\"Fedu\",\"Mjob\",\"Fjob\",\"reason\",\"nursery\",\"internet\"], keep=False)\n",
    "#Drop new_G3\n",
    "Pdf4 = Pdf4.drop('new_G3', axis=1)"
   ]
  },
  {
   "cell_type": "code",
   "execution_count": 7,
   "metadata": {
    "collapsed": false,
    "scrolled": false
   },
   "outputs": [],
   "source": [
    "#Concatenate Mdf4 and Pdf4 as INPUTdf\n",
    "#INPUTdf has unique student info per record/row\n",
    "INPUTdf = pd.concat([Mdf4,Pdf4])"
   ]
  },
  {
   "cell_type": "code",
   "execution_count": 8,
   "metadata": {
    "collapsed": true
   },
   "outputs": [],
   "source": [
    "#Create a variable \"Aalc\" measuring average alcohol daily consumption\n",
    "INPUTdf.loc[:, 'Aalc'] = (INPUTdf['Dalc']*5 + INPUTdf['Walc']*2)/7"
   ]
  },
  {
   "cell_type": "code",
   "execution_count": 9,
   "metadata": {
    "collapsed": false
   },
   "outputs": [],
   "source": [
    "#Drop variables not interested\n",
    "INPUTdf = INPUTdf.drop(['G1', 'G2', 'paid', 'Dalc', 'Walc'], axis=1)"
   ]
  },
  {
   "cell_type": "code",
   "execution_count": 10,
   "metadata": {
    "collapsed": false
   },
   "outputs": [
    {
     "data": {
      "text/html": [
       "<div>\n",
       "<table border=\"1\" class=\"dataframe\">\n",
       "  <thead>\n",
       "    <tr style=\"text-align: right;\">\n",
       "      <th></th>\n",
       "      <th>Fedu</th>\n",
       "      <th>Fjob</th>\n",
       "      <th>G3</th>\n",
       "      <th>Medu</th>\n",
       "      <th>Mjob</th>\n",
       "      <th>Pstatus</th>\n",
       "      <th>Subject</th>\n",
       "      <th>absences</th>\n",
       "      <th>activities</th>\n",
       "      <th>address</th>\n",
       "      <th>...</th>\n",
       "      <th>internet</th>\n",
       "      <th>nursery</th>\n",
       "      <th>reason</th>\n",
       "      <th>romantic</th>\n",
       "      <th>school</th>\n",
       "      <th>schoolsup</th>\n",
       "      <th>sex</th>\n",
       "      <th>studytime</th>\n",
       "      <th>traveltime</th>\n",
       "      <th>Aalc</th>\n",
       "    </tr>\n",
       "  </thead>\n",
       "  <tbody>\n",
       "    <tr>\n",
       "      <th>128</th>\n",
       "      <td>2</td>\n",
       "      <td>other</td>\n",
       "      <td>0.0</td>\n",
       "      <td>2</td>\n",
       "      <td>services</td>\n",
       "      <td>T</td>\n",
       "      <td>M</td>\n",
       "      <td>0</td>\n",
       "      <td>yes</td>\n",
       "      <td>R</td>\n",
       "      <td>...</td>\n",
       "      <td>yes</td>\n",
       "      <td>yes</td>\n",
       "      <td>reputation</td>\n",
       "      <td>no</td>\n",
       "      <td>GP</td>\n",
       "      <td>no</td>\n",
       "      <td>M</td>\n",
       "      <td>1</td>\n",
       "      <td>1</td>\n",
       "      <td>1.285714</td>\n",
       "    </tr>\n",
       "    <tr>\n",
       "      <th>161</th>\n",
       "      <td>2</td>\n",
       "      <td>other</td>\n",
       "      <td>7.0</td>\n",
       "      <td>3</td>\n",
       "      <td>other</td>\n",
       "      <td>T</td>\n",
       "      <td>M</td>\n",
       "      <td>6</td>\n",
       "      <td>no</td>\n",
       "      <td>R</td>\n",
       "      <td>...</td>\n",
       "      <td>yes</td>\n",
       "      <td>yes</td>\n",
       "      <td>course</td>\n",
       "      <td>yes</td>\n",
       "      <td>GP</td>\n",
       "      <td>yes</td>\n",
       "      <td>M</td>\n",
       "      <td>2</td>\n",
       "      <td>2</td>\n",
       "      <td>1.857143</td>\n",
       "    </tr>\n",
       "    <tr>\n",
       "      <th>162</th>\n",
       "      <td>2</td>\n",
       "      <td>other</td>\n",
       "      <td>0.0</td>\n",
       "      <td>1</td>\n",
       "      <td>other</td>\n",
       "      <td>T</td>\n",
       "      <td>M</td>\n",
       "      <td>0</td>\n",
       "      <td>yes</td>\n",
       "      <td>U</td>\n",
       "      <td>...</td>\n",
       "      <td>no</td>\n",
       "      <td>yes</td>\n",
       "      <td>course</td>\n",
       "      <td>no</td>\n",
       "      <td>GP</td>\n",
       "      <td>no</td>\n",
       "      <td>M</td>\n",
       "      <td>1</td>\n",
       "      <td>2</td>\n",
       "      <td>2.571429</td>\n",
       "    </tr>\n",
       "    <tr>\n",
       "      <th>163</th>\n",
       "      <td>3</td>\n",
       "      <td>services</td>\n",
       "      <td>10.0</td>\n",
       "      <td>1</td>\n",
       "      <td>at_home</td>\n",
       "      <td>T</td>\n",
       "      <td>M</td>\n",
       "      <td>2</td>\n",
       "      <td>no</td>\n",
       "      <td>U</td>\n",
       "      <td>...</td>\n",
       "      <td>yes</td>\n",
       "      <td>yes</td>\n",
       "      <td>course</td>\n",
       "      <td>no</td>\n",
       "      <td>GP</td>\n",
       "      <td>no</td>\n",
       "      <td>M</td>\n",
       "      <td>1</td>\n",
       "      <td>1</td>\n",
       "      <td>1.857143</td>\n",
       "    </tr>\n",
       "    <tr>\n",
       "      <th>165</th>\n",
       "      <td>2</td>\n",
       "      <td>services</td>\n",
       "      <td>12.0</td>\n",
       "      <td>3</td>\n",
       "      <td>services</td>\n",
       "      <td>T</td>\n",
       "      <td>M</td>\n",
       "      <td>16</td>\n",
       "      <td>yes</td>\n",
       "      <td>U</td>\n",
       "      <td>...</td>\n",
       "      <td>no</td>\n",
       "      <td>no</td>\n",
       "      <td>course</td>\n",
       "      <td>no</td>\n",
       "      <td>GP</td>\n",
       "      <td>no</td>\n",
       "      <td>M</td>\n",
       "      <td>1</td>\n",
       "      <td>2</td>\n",
       "      <td>1.000000</td>\n",
       "    </tr>\n",
       "  </tbody>\n",
       "</table>\n",
       "<p>5 rows × 30 columns</p>\n",
       "</div>"
      ],
      "text/plain": [
       "     Fedu      Fjob    G3  Medu      Mjob Pstatus Subject  absences  \\\n",
       "128     2     other   0.0     2  services       T       M         0   \n",
       "161     2     other   7.0     3     other       T       M         6   \n",
       "162     2     other   0.0     1     other       T       M         0   \n",
       "163     3  services  10.0     1   at_home       T       M         2   \n",
       "165     2  services  12.0     3  services       T       M        16   \n",
       "\n",
       "    activities address    ...     internet  nursery      reason romantic  \\\n",
       "128        yes       R    ...          yes      yes  reputation       no   \n",
       "161         no       R    ...          yes      yes      course      yes   \n",
       "162        yes       U    ...           no      yes      course       no   \n",
       "163         no       U    ...          yes      yes      course       no   \n",
       "165        yes       U    ...           no       no      course       no   \n",
       "\n",
       "    school  schoolsup  sex studytime  traveltime      Aalc  \n",
       "128     GP         no    M         1           1  1.285714  \n",
       "161     GP        yes    M         2           2  1.857143  \n",
       "162     GP         no    M         1           2  2.571429  \n",
       "163     GP         no    M         1           1  1.857143  \n",
       "165     GP         no    M         1           2  1.000000  \n",
       "\n",
       "[5 rows x 30 columns]"
      ]
     },
     "execution_count": 10,
     "metadata": {},
     "output_type": "execute_result"
    }
   ],
   "source": [
    "#print the first five rows of INPUTdf\n",
    "INPUTdf.head()"
   ]
  },
  {
   "cell_type": "code",
   "execution_count": 11,
   "metadata": {
    "collapsed": false
   },
   "outputs": [
    {
     "data": {
      "text/plain": [
       "Fedu          0\n",
       "Fjob          0\n",
       "G3            0\n",
       "Medu          0\n",
       "Mjob          0\n",
       "Pstatus       0\n",
       "Subject       0\n",
       "absences      0\n",
       "activities    0\n",
       "address       0\n",
       "age           0\n",
       "failures      0\n",
       "famrel        0\n",
       "famsize       0\n",
       "famsup        0\n",
       "freetime      0\n",
       "goout         0\n",
       "guardian      0\n",
       "health        0\n",
       "higher        0\n",
       "internet      0\n",
       "nursery       0\n",
       "reason        0\n",
       "romantic      0\n",
       "school        0\n",
       "schoolsup     0\n",
       "sex           0\n",
       "studytime     0\n",
       "traveltime    0\n",
       "Aalc          0\n",
       "dtype: int64"
      ]
     },
     "execution_count": 11,
     "metadata": {},
     "output_type": "execute_result"
    }
   ],
   "source": [
    "#check if any missing values in the dataset\n",
    "INPUTdf.isnull().sum()"
   ]
  },
  {
   "cell_type": "code",
   "execution_count": 12,
   "metadata": {
    "collapsed": false,
    "scrolled": true
   },
   "outputs": [
    {
     "data": {
      "text/html": [
       "<div>\n",
       "<table border=\"1\" class=\"dataframe\">\n",
       "  <thead>\n",
       "    <tr style=\"text-align: right;\">\n",
       "      <th></th>\n",
       "      <th>Fedu</th>\n",
       "      <th>G3</th>\n",
       "      <th>Medu</th>\n",
       "      <th>absences</th>\n",
       "      <th>age</th>\n",
       "      <th>failures</th>\n",
       "      <th>famrel</th>\n",
       "      <th>freetime</th>\n",
       "      <th>goout</th>\n",
       "      <th>health</th>\n",
       "      <th>studytime</th>\n",
       "      <th>traveltime</th>\n",
       "      <th>Aalc</th>\n",
       "    </tr>\n",
       "  </thead>\n",
       "  <tbody>\n",
       "    <tr>\n",
       "      <th>count</th>\n",
       "      <td>663.000000</td>\n",
       "      <td>663.000000</td>\n",
       "      <td>663.000000</td>\n",
       "      <td>663.000000</td>\n",
       "      <td>663.000000</td>\n",
       "      <td>663.000000</td>\n",
       "      <td>663.000000</td>\n",
       "      <td>663.000000</td>\n",
       "      <td>663.000000</td>\n",
       "      <td>663.000000</td>\n",
       "      <td>663.000000</td>\n",
       "      <td>663.000000</td>\n",
       "      <td>663.000000</td>\n",
       "    </tr>\n",
       "    <tr>\n",
       "      <th>mean</th>\n",
       "      <td>2.300151</td>\n",
       "      <td>11.251885</td>\n",
       "      <td>2.497738</td>\n",
       "      <td>4.926094</td>\n",
       "      <td>16.817496</td>\n",
       "      <td>0.336350</td>\n",
       "      <td>3.941176</td>\n",
       "      <td>3.182504</td>\n",
       "      <td>3.171946</td>\n",
       "      <td>3.532428</td>\n",
       "      <td>1.923077</td>\n",
       "      <td>1.562594</td>\n",
       "      <td>1.728291</td>\n",
       "    </tr>\n",
       "    <tr>\n",
       "      <th>std</th>\n",
       "      <td>1.097422</td>\n",
       "      <td>3.396047</td>\n",
       "      <td>1.130293</td>\n",
       "      <td>6.853823</td>\n",
       "      <td>1.267129</td>\n",
       "      <td>0.722945</td>\n",
       "      <td>0.934975</td>\n",
       "      <td>1.060779</td>\n",
       "      <td>1.162349</td>\n",
       "      <td>1.434919</td>\n",
       "      <td>0.827288</td>\n",
       "      <td>0.742691</td>\n",
       "      <td>0.934679</td>\n",
       "    </tr>\n",
       "    <tr>\n",
       "      <th>min</th>\n",
       "      <td>0.000000</td>\n",
       "      <td>0.000000</td>\n",
       "      <td>0.000000</td>\n",
       "      <td>0.000000</td>\n",
       "      <td>15.000000</td>\n",
       "      <td>0.000000</td>\n",
       "      <td>1.000000</td>\n",
       "      <td>1.000000</td>\n",
       "      <td>1.000000</td>\n",
       "      <td>1.000000</td>\n",
       "      <td>1.000000</td>\n",
       "      <td>1.000000</td>\n",
       "      <td>1.000000</td>\n",
       "    </tr>\n",
       "    <tr>\n",
       "      <th>25%</th>\n",
       "      <td>1.000000</td>\n",
       "      <td>9.500000</td>\n",
       "      <td>2.000000</td>\n",
       "      <td>0.000000</td>\n",
       "      <td>16.000000</td>\n",
       "      <td>0.000000</td>\n",
       "      <td>4.000000</td>\n",
       "      <td>3.000000</td>\n",
       "      <td>2.000000</td>\n",
       "      <td>2.000000</td>\n",
       "      <td>1.000000</td>\n",
       "      <td>1.000000</td>\n",
       "      <td>1.000000</td>\n",
       "    </tr>\n",
       "    <tr>\n",
       "      <th>50%</th>\n",
       "      <td>2.000000</td>\n",
       "      <td>11.000000</td>\n",
       "      <td>2.000000</td>\n",
       "      <td>3.000000</td>\n",
       "      <td>17.000000</td>\n",
       "      <td>0.000000</td>\n",
       "      <td>4.000000</td>\n",
       "      <td>3.000000</td>\n",
       "      <td>3.000000</td>\n",
       "      <td>4.000000</td>\n",
       "      <td>2.000000</td>\n",
       "      <td>1.000000</td>\n",
       "      <td>1.285714</td>\n",
       "    </tr>\n",
       "    <tr>\n",
       "      <th>75%</th>\n",
       "      <td>3.000000</td>\n",
       "      <td>13.500000</td>\n",
       "      <td>4.000000</td>\n",
       "      <td>8.000000</td>\n",
       "      <td>18.000000</td>\n",
       "      <td>0.000000</td>\n",
       "      <td>5.000000</td>\n",
       "      <td>4.000000</td>\n",
       "      <td>4.000000</td>\n",
       "      <td>5.000000</td>\n",
       "      <td>2.000000</td>\n",
       "      <td>2.000000</td>\n",
       "      <td>2.214286</td>\n",
       "    </tr>\n",
       "    <tr>\n",
       "      <th>max</th>\n",
       "      <td>4.000000</td>\n",
       "      <td>18.500000</td>\n",
       "      <td>4.000000</td>\n",
       "      <td>75.000000</td>\n",
       "      <td>22.000000</td>\n",
       "      <td>3.000000</td>\n",
       "      <td>5.000000</td>\n",
       "      <td>5.000000</td>\n",
       "      <td>5.000000</td>\n",
       "      <td>5.000000</td>\n",
       "      <td>4.000000</td>\n",
       "      <td>4.000000</td>\n",
       "      <td>5.000000</td>\n",
       "    </tr>\n",
       "  </tbody>\n",
       "</table>\n",
       "</div>"
      ],
      "text/plain": [
       "             Fedu          G3        Medu    absences         age    failures  \\\n",
       "count  663.000000  663.000000  663.000000  663.000000  663.000000  663.000000   \n",
       "mean     2.300151   11.251885    2.497738    4.926094   16.817496    0.336350   \n",
       "std      1.097422    3.396047    1.130293    6.853823    1.267129    0.722945   \n",
       "min      0.000000    0.000000    0.000000    0.000000   15.000000    0.000000   \n",
       "25%      1.000000    9.500000    2.000000    0.000000   16.000000    0.000000   \n",
       "50%      2.000000   11.000000    2.000000    3.000000   17.000000    0.000000   \n",
       "75%      3.000000   13.500000    4.000000    8.000000   18.000000    0.000000   \n",
       "max      4.000000   18.500000    4.000000   75.000000   22.000000    3.000000   \n",
       "\n",
       "           famrel    freetime       goout      health   studytime  traveltime  \\\n",
       "count  663.000000  663.000000  663.000000  663.000000  663.000000  663.000000   \n",
       "mean     3.941176    3.182504    3.171946    3.532428    1.923077    1.562594   \n",
       "std      0.934975    1.060779    1.162349    1.434919    0.827288    0.742691   \n",
       "min      1.000000    1.000000    1.000000    1.000000    1.000000    1.000000   \n",
       "25%      4.000000    3.000000    2.000000    2.000000    1.000000    1.000000   \n",
       "50%      4.000000    3.000000    3.000000    4.000000    2.000000    1.000000   \n",
       "75%      5.000000    4.000000    4.000000    5.000000    2.000000    2.000000   \n",
       "max      5.000000    5.000000    5.000000    5.000000    4.000000    4.000000   \n",
       "\n",
       "             Aalc  \n",
       "count  663.000000  \n",
       "mean     1.728291  \n",
       "std      0.934679  \n",
       "min      1.000000  \n",
       "25%      1.000000  \n",
       "50%      1.285714  \n",
       "75%      2.214286  \n",
       "max      5.000000  "
      ]
     },
     "execution_count": 12,
     "metadata": {},
     "output_type": "execute_result"
    }
   ],
   "source": [
    "INPUTdf.describe()"
   ]
  },
  {
   "cell_type": "code",
   "execution_count": 13,
   "metadata": {
    "collapsed": false,
    "scrolled": true
   },
   "outputs": [
    {
     "data": {
      "text/plain": [
       "<matplotlib.text.Text at 0x1139f52b0>"
      ]
     },
     "execution_count": 13,
     "metadata": {},
     "output_type": "execute_result"
    },
    {
     "data": {
      "image/png": "[encoded data removed]",
      "text/plain": [
       "<matplotlib.figure.Figure at 0x1105e3d30>"
      ]
     },
     "metadata": {},
     "output_type": "display_data"
    }
   ],
   "source": [
    "plt.hist(INPUTdf['G3'], bins=20)\n",
    "plt.xlabel('Final Grade (Average Score of Math and Portuguese)')\n",
    "plt.ylabel('Frequency')\n",
    "plt.title('G3')"
   ]
  },
  {
   "cell_type": "code",
   "execution_count": 14,
   "metadata": {
    "collapsed": false
   },
   "outputs": [
    {
     "data": {
      "text/plain": [
       "<matplotlib.axes._subplots.AxesSubplot at 0x113aa2fd0>"
      ]
     },
     "execution_count": 14,
     "metadata": {},
     "output_type": "execute_result"
    },
    {
     "data": {
      "image/png": "[encoded data removed]",
      "text/plain": [
       "<matplotlib.figure.Figure at 0x1105e36a0>"
      ]
     },
     "metadata": {},
     "output_type": "display_data"
    }
   ],
   "source": [
    "sns.swarmplot(x=\"Subject\", y=\"G3\", data=INPUTdf)"
   ]
  },
  {
   "cell_type": "code",
   "execution_count": 15,
   "metadata": {
    "collapsed": false,
    "scrolled": false
   },
   "outputs": [
    {
     "data": {
      "text/plain": [
       "<matplotlib.text.Text at 0x113c87cc0>"
      ]
     },
     "execution_count": 15,
     "metadata": {},
     "output_type": "execute_result"
    },
    {
     "data": {
      "image/png": "[encoded data removed]",
      "text/plain": [
       "<matplotlib.figure.Figure at 0x113ad9240>"
      ]
     },
     "metadata": {},
     "output_type": "display_data"
    }
   ],
   "source": [
    "plt.hist(INPUTdf['Aalc'], bins=10)\n",
    "plt.xlabel('Aalc: Daily Aalc Consumption')\n",
    "plt.ylabel('Frequency')\n",
    "plt.title('Aalc')"
   ]
  },
  {
   "cell_type": "code",
   "execution_count": 16,
   "metadata": {
    "collapsed": false,
    "scrolled": false
   },
   "outputs": [
    {
     "data": {
      "text/plain": [
       "<matplotlib.axes._subplots.AxesSubplot at 0x113d86518>"
      ]
     },
     "execution_count": 16,
     "metadata": {},
     "output_type": "execute_result"
    },
    {
     "data": {
      "image/png": "[encoded data removed]",
      "text/plain": [
       "<matplotlib.figure.Figure at 0x113d6fef0>"
      ]
     },
     "metadata": {},
     "output_type": "display_data"
    }
   ],
   "source": [
    "sns.swarmplot(x=\"studytime\", y=\"G3\", data=INPUTdf)"
   ]
  },
  {
   "cell_type": "code",
   "execution_count": 17,
   "metadata": {
    "collapsed": false,
    "scrolled": true
   },
   "outputs": [
    {
     "data": {
      "text/plain": [
       "<matplotlib.axes._subplots.AxesSubplot at 0x113c6d550>"
      ]
     },
     "execution_count": 17,
     "metadata": {},
     "output_type": "execute_result"
    },
    {
     "data": {
      "image/png": "[encoded data removed]",
      "text/plain": [
       "<matplotlib.figure.Figure at 0x113efc550>"
      ]
     },
     "metadata": {},
     "output_type": "display_data"
    }
   ],
   "source": [
    "sns.swarmplot(x=\"failures\", y=\"G3\", data=INPUTdf)"
   ]
  },
  {
   "cell_type": "code",
   "execution_count": 18,
   "metadata": {
    "collapsed": false
   },
   "outputs": [
    {
     "data": {
      "text/plain": [
       "<matplotlib.axes._subplots.AxesSubplot at 0x113fdf4e0>"
      ]
     },
     "execution_count": 18,
     "metadata": {},
     "output_type": "execute_result"
    },
    {
     "data": {
      "image/png": "[encoded data removed]",
      "text/plain": [
       "<matplotlib.figure.Figure at 0x113c149e8>"
      ]
     },
     "metadata": {},
     "output_type": "display_data"
    }
   ],
   "source": [
    "sns.swarmplot(x=\"higher\", y=\"G3\", data=INPUTdf)"
   ]
  },
  {
   "cell_type": "code",
   "execution_count": 19,
   "metadata": {
    "collapsed": false,
    "scrolled": true
   },
   "outputs": [
    {
     "data": {
      "text/plain": [
       "<matplotlib.axes._subplots.AxesSubplot at 0x114061c18>"
      ]
     },
     "execution_count": 19,
     "metadata": {},
     "output_type": "execute_result"
    },
    {
     "data": {
      "image/png": "[encoded data removed]",
      "text/plain": [
       "<matplotlib.figure.Figure at 0x113b25860>"
      ]
     },
     "metadata": {},
     "output_type": "display_data"
    }
   ],
   "source": [
    "sns.swarmplot(x=\"absences\", y=\"G3\", data=INPUTdf)"
   ]
  },
  {
   "cell_type": "code",
   "execution_count": 20,
   "metadata": {
    "collapsed": false
   },
   "outputs": [
    {
     "data": {
      "text/plain": [
       "<matplotlib.axes._subplots.AxesSubplot at 0x114329d68>"
      ]
     },
     "execution_count": 20,
     "metadata": {},
     "output_type": "execute_result"
    },
    {
     "data": {
      "image/png": "[encoded data removed]",
      "text/plain": [
       "<matplotlib.figure.Figure at 0x1143713c8>"
      ]
     },
     "metadata": {},
     "output_type": "display_data"
    }
   ],
   "source": [
    "sns.regplot(x=\"Aalc\", y=\"G3\", data=INPUTdf, x_bins=4)"
   ]
  },
  {
   "cell_type": "markdown",
   "metadata": {
    "collapsed": true
   },
   "source": [
    "### Data Preparation for Modeling"
   ]
  },
  {
   "cell_type": "code",
   "execution_count": 21,
   "metadata": {
    "collapsed": false
   },
   "outputs": [],
   "source": [
    "#Identify target variable (y) and predictor variables(X)\n",
    "y = INPUTdf['G3']\n",
    "X = INPUTdf[['Fedu','Fjob', 'Medu', 'Mjob', 'Pstatus', 'Subject', 'absences',\n",
    "       'activities', 'address', 'age', 'failures', 'famrel', 'famsize',\n",
    "       'famsup', 'freetime', 'goout', 'guardian', 'health', 'higher',\n",
    "       'internet', 'nursery', 'reason', 'romantic', 'school', 'schoolsup',\n",
    "       'sex', 'studytime', 'traveltime', 'Aalc']]"
   ]
  },
  {
   "cell_type": "code",
   "execution_count": 22,
   "metadata": {
    "collapsed": false
   },
   "outputs": [
    {
     "name": "stderr",
     "output_type": "stream",
     "text": [
      "/Users/Jing/anaconda/lib/python3.6/site-packages/pandas/core/generic.py:2773: SettingWithCopyWarning: \n",
      "A value is trying to be set on a copy of a slice from a DataFrame.\n",
      "Try using .loc[row_indexer,col_indexer] = value instead\n",
      "\n",
      "See the caveats in the documentation: http://pandas.pydata.org/pandas-docs/stable/indexing.html#indexing-view-versus-copy\n",
      "  self[name] = value\n"
     ]
    }
   ],
   "source": [
    "#Convert dummy variables values into 0/1\n",
    "X.school = X['school'].replace(['GP', 'MS'], [1,0])\n",
    "X.sex = X['sex'].replace(['F','M'],[1,0])\n",
    "X.address = X['address'].replace(['U','R'], [1,0])\n",
    "X.famsize = X['famsize'].replace(['LE3','GT3'], [1,0])\n",
    "X.Pstatus = X['Pstatus'].replace(['T','A'], [1,0])\n",
    "X.schoolsup = X['schoolsup'].replace(['yes','no'],[1,0])\n",
    "X.famsup = X['famsup'].replace(['yes','no'],[1,0])\n",
    "X.activities = X['activities'].replace(['yes','no'],[1,0])\n",
    "X.nursery = X['nursery'].replace(['yes','no'],[1,0])\n",
    "X.higher = X['higher'].replace(['yes','no'],[1,0])\n",
    "X.internet = X['internet'].replace(['yes','no'],[1,0])\n",
    "X.romantic = X['romantic'].replace(['yes','no'],[1,0])"
   ]
  },
  {
   "cell_type": "code",
   "execution_count": 23,
   "metadata": {
    "collapsed": false,
    "scrolled": false
   },
   "outputs": [
    {
     "data": {
      "text/html": [
       "<div>\n",
       "<table border=\"1\" class=\"dataframe\">\n",
       "  <thead>\n",
       "    <tr style=\"text-align: right;\">\n",
       "      <th></th>\n",
       "      <th>Fedu</th>\n",
       "      <th>Medu</th>\n",
       "      <th>Pstatus</th>\n",
       "      <th>absences</th>\n",
       "      <th>activities</th>\n",
       "      <th>address</th>\n",
       "      <th>age</th>\n",
       "      <th>failures</th>\n",
       "      <th>famrel</th>\n",
       "      <th>famsize</th>\n",
       "      <th>...</th>\n",
       "      <th>Subject_B</th>\n",
       "      <th>Subject_M</th>\n",
       "      <th>Subject_P</th>\n",
       "      <th>reason_course</th>\n",
       "      <th>reason_home</th>\n",
       "      <th>reason_other</th>\n",
       "      <th>reason_reputation</th>\n",
       "      <th>guardian_father</th>\n",
       "      <th>guardian_mother</th>\n",
       "      <th>guardian_other</th>\n",
       "    </tr>\n",
       "  </thead>\n",
       "  <tbody>\n",
       "    <tr>\n",
       "      <th>128</th>\n",
       "      <td>2</td>\n",
       "      <td>2</td>\n",
       "      <td>1</td>\n",
       "      <td>0</td>\n",
       "      <td>1</td>\n",
       "      <td>0</td>\n",
       "      <td>18</td>\n",
       "      <td>2</td>\n",
       "      <td>3</td>\n",
       "      <td>0</td>\n",
       "      <td>...</td>\n",
       "      <td>0</td>\n",
       "      <td>1</td>\n",
       "      <td>0</td>\n",
       "      <td>0</td>\n",
       "      <td>0</td>\n",
       "      <td>0</td>\n",
       "      <td>1</td>\n",
       "      <td>0</td>\n",
       "      <td>1</td>\n",
       "      <td>0</td>\n",
       "    </tr>\n",
       "    <tr>\n",
       "      <th>161</th>\n",
       "      <td>2</td>\n",
       "      <td>3</td>\n",
       "      <td>1</td>\n",
       "      <td>6</td>\n",
       "      <td>0</td>\n",
       "      <td>0</td>\n",
       "      <td>15</td>\n",
       "      <td>2</td>\n",
       "      <td>4</td>\n",
       "      <td>0</td>\n",
       "      <td>...</td>\n",
       "      <td>0</td>\n",
       "      <td>1</td>\n",
       "      <td>0</td>\n",
       "      <td>1</td>\n",
       "      <td>0</td>\n",
       "      <td>0</td>\n",
       "      <td>0</td>\n",
       "      <td>0</td>\n",
       "      <td>1</td>\n",
       "      <td>0</td>\n",
       "    </tr>\n",
       "    <tr>\n",
       "      <th>162</th>\n",
       "      <td>2</td>\n",
       "      <td>1</td>\n",
       "      <td>1</td>\n",
       "      <td>0</td>\n",
       "      <td>1</td>\n",
       "      <td>1</td>\n",
       "      <td>16</td>\n",
       "      <td>1</td>\n",
       "      <td>4</td>\n",
       "      <td>1</td>\n",
       "      <td>...</td>\n",
       "      <td>0</td>\n",
       "      <td>1</td>\n",
       "      <td>0</td>\n",
       "      <td>1</td>\n",
       "      <td>0</td>\n",
       "      <td>0</td>\n",
       "      <td>0</td>\n",
       "      <td>0</td>\n",
       "      <td>1</td>\n",
       "      <td>0</td>\n",
       "    </tr>\n",
       "    <tr>\n",
       "      <th>163</th>\n",
       "      <td>3</td>\n",
       "      <td>1</td>\n",
       "      <td>1</td>\n",
       "      <td>2</td>\n",
       "      <td>0</td>\n",
       "      <td>1</td>\n",
       "      <td>17</td>\n",
       "      <td>0</td>\n",
       "      <td>5</td>\n",
       "      <td>0</td>\n",
       "      <td>...</td>\n",
       "      <td>0</td>\n",
       "      <td>1</td>\n",
       "      <td>0</td>\n",
       "      <td>1</td>\n",
       "      <td>0</td>\n",
       "      <td>0</td>\n",
       "      <td>0</td>\n",
       "      <td>1</td>\n",
       "      <td>0</td>\n",
       "      <td>0</td>\n",
       "    </tr>\n",
       "    <tr>\n",
       "      <th>165</th>\n",
       "      <td>2</td>\n",
       "      <td>3</td>\n",
       "      <td>1</td>\n",
       "      <td>16</td>\n",
       "      <td>1</td>\n",
       "      <td>1</td>\n",
       "      <td>16</td>\n",
       "      <td>1</td>\n",
       "      <td>4</td>\n",
       "      <td>0</td>\n",
       "      <td>...</td>\n",
       "      <td>0</td>\n",
       "      <td>1</td>\n",
       "      <td>0</td>\n",
       "      <td>1</td>\n",
       "      <td>0</td>\n",
       "      <td>0</td>\n",
       "      <td>0</td>\n",
       "      <td>0</td>\n",
       "      <td>1</td>\n",
       "      <td>0</td>\n",
       "    </tr>\n",
       "  </tbody>\n",
       "</table>\n",
       "<p>5 rows × 44 columns</p>\n",
       "</div>"
      ],
      "text/plain": [
       "     Fedu  Medu  Pstatus  absences  activities  address  age  failures  \\\n",
       "128     2     2        1         0           1        0   18         2   \n",
       "161     2     3        1         6           0        0   15         2   \n",
       "162     2     1        1         0           1        1   16         1   \n",
       "163     3     1        1         2           0        1   17         0   \n",
       "165     2     3        1        16           1        1   16         1   \n",
       "\n",
       "     famrel  famsize       ...        Subject_B  Subject_M  Subject_P  \\\n",
       "128       3        0       ...                0          1          0   \n",
       "161       4        0       ...                0          1          0   \n",
       "162       4        1       ...                0          1          0   \n",
       "163       5        0       ...                0          1          0   \n",
       "165       4        0       ...                0          1          0   \n",
       "\n",
       "     reason_course  reason_home  reason_other  reason_reputation  \\\n",
       "128              0            0             0                  1   \n",
       "161              1            0             0                  0   \n",
       "162              1            0             0                  0   \n",
       "163              1            0             0                  0   \n",
       "165              1            0             0                  0   \n",
       "\n",
       "     guardian_father  guardian_mother  guardian_other  \n",
       "128                0                1               0  \n",
       "161                0                1               0  \n",
       "162                0                1               0  \n",
       "163                1                0               0  \n",
       "165                0                1               0  \n",
       "\n",
       "[5 rows x 44 columns]"
      ]
     },
     "execution_count": 23,
     "metadata": {},
     "output_type": "execute_result"
    }
   ],
   "source": [
    "#Identify norminal variables\n",
    "norminal_vars = ['Fjob', 'Mjob', 'Subject', 'reason','guardian']\n",
    "#Convert norminal variables to dummy variables\n",
    "X = pd.get_dummies(X, columns= norminal_vars)\n",
    "# Show the dummy coded dataframe\n",
    "X.head()"
   ]
  },
  {
   "cell_type": "code",
   "execution_count": 24,
   "metadata": {
    "collapsed": false,
    "scrolled": true
   },
   "outputs": [
    {
     "data": {
      "text/plain": [
       "Fedu                   int64\n",
       "Medu                   int64\n",
       "Pstatus                int64\n",
       "absences               int64\n",
       "activities             int64\n",
       "address                int64\n",
       "age                    int64\n",
       "failures               int64\n",
       "famrel                 int64\n",
       "famsize                int64\n",
       "famsup                 int64\n",
       "freetime               int64\n",
       "goout                  int64\n",
       "health                 int64\n",
       "higher                 int64\n",
       "internet               int64\n",
       "nursery                int64\n",
       "romantic               int64\n",
       "school                 int64\n",
       "schoolsup              int64\n",
       "sex                    int64\n",
       "studytime              int64\n",
       "traveltime             int64\n",
       "Aalc                 float64\n",
       "Fjob_at_home           uint8\n",
       "Fjob_health            uint8\n",
       "Fjob_other             uint8\n",
       "Fjob_services          uint8\n",
       "Fjob_teacher           uint8\n",
       "Mjob_at_home           uint8\n",
       "Mjob_health            uint8\n",
       "Mjob_other             uint8\n",
       "Mjob_services          uint8\n",
       "Mjob_teacher           uint8\n",
       "Subject_B              uint8\n",
       "Subject_M              uint8\n",
       "Subject_P              uint8\n",
       "reason_course          uint8\n",
       "reason_home            uint8\n",
       "reason_other           uint8\n",
       "reason_reputation      uint8\n",
       "guardian_father        uint8\n",
       "guardian_mother        uint8\n",
       "guardian_other         uint8\n",
       "dtype: object"
      ]
     },
     "execution_count": 24,
     "metadata": {},
     "output_type": "execute_result"
    }
   ],
   "source": [
    "#check data types for each variable\n",
    "X.dtypes"
   ]
  },
  {
   "cell_type": "code",
   "execution_count": 25,
   "metadata": {
    "collapsed": false
   },
   "outputs": [
    {
     "data": {
      "text/plain": [
       "Index(['Fedu', 'Medu', 'Pstatus', 'absences', 'activities', 'address', 'age',\n",
       "       'failures', 'famrel', 'famsize', 'famsup', 'freetime', 'goout',\n",
       "       'health', 'higher', 'internet', 'nursery', 'romantic', 'school',\n",
       "       'schoolsup', 'sex', 'studytime', 'traveltime', 'Aalc', 'Fjob_at_home',\n",
       "       'Fjob_health', 'Fjob_other', 'Fjob_services', 'Fjob_teacher',\n",
       "       'Mjob_at_home', 'Mjob_health', 'Mjob_other', 'Mjob_services',\n",
       "       'Mjob_teacher', 'Subject_B', 'Subject_M', 'Subject_P', 'reason_course',\n",
       "       'reason_home', 'reason_other', 'reason_reputation', 'guardian_father',\n",
       "       'guardian_mother', 'guardian_other'],\n",
       "      dtype='object')"
      ]
     },
     "execution_count": 25,
     "metadata": {},
     "output_type": "execute_result"
    }
   ],
   "source": [
    "X.columns"
   ]
  },
  {
   "cell_type": "code",
   "execution_count": 26,
   "metadata": {
    "collapsed": false
   },
   "outputs": [],
   "source": [
    "#Split data set into trainData and testData\n",
    "X_train, X_test, y_train, y_test = train_test_split(X, y, test_size = 0.3, random_state=42)"
   ]
  },
  {
   "cell_type": "code",
   "execution_count": 27,
   "metadata": {
    "collapsed": false
   },
   "outputs": [],
   "source": [
    "#Split X_train and X_test into sub dataframes consists of dummy columns only and non-dummy columns only\n",
    "X_train_nondummies = X_train[['Fedu', 'Medu', 'absences',  'age',\n",
    "       'failures', 'famrel', 'freetime', 'goout',\n",
    "       'health', 'studytime', 'traveltime', 'Aalc']]\n",
    "X_train_dummies = X_train[['Pstatus','activities', 'address','famsize', 'famsup','higher', 'internet', 'nursery', 'romantic', 'school',\n",
    "       'schoolsup', 'sex', 'Fjob_at_home',\n",
    "       'Fjob_health', 'Fjob_other', 'Fjob_services', 'Fjob_teacher',\n",
    "       'Mjob_at_home', 'Mjob_health', 'Mjob_other', 'Mjob_services',\n",
    "       'Mjob_teacher', 'Subject_B', 'Subject_M', 'Subject_P', 'reason_course',\n",
    "       'reason_home', 'reason_other', 'reason_reputation', 'guardian_father',\n",
    "       'guardian_mother', 'guardian_other']]\n",
    "X_test_nondummies = X_test[['Fedu', 'Medu', 'absences',  'age',\n",
    "       'failures', 'famrel', 'freetime', 'goout',\n",
    "       'health', 'studytime', 'traveltime', 'Aalc']]\n",
    "X_test_dummies = X_test[['Pstatus','activities', 'address','famsize', 'famsup','higher', 'internet', 'nursery', 'romantic', 'school',\n",
    "       'schoolsup', 'sex', 'Fjob_at_home',\n",
    "       'Fjob_health', 'Fjob_other', 'Fjob_services', 'Fjob_teacher',\n",
    "       'Mjob_at_home', 'Mjob_health', 'Mjob_other', 'Mjob_services',\n",
    "       'Mjob_teacher', 'Subject_B', 'Subject_M', 'Subject_P', 'reason_course',\n",
    "       'reason_home', 'reason_other', 'reason_reputation', 'guardian_father',\n",
    "       'guardian_mother', 'guardian_other']]"
   ]
  },
  {
   "cell_type": "code",
   "execution_count": 28,
   "metadata": {
    "collapsed": false
   },
   "outputs": [
    {
     "data": {
      "text/plain": [
       "[StandardScaler(copy=True, with_mean=True, with_std=True),\n",
       " MinMaxScaler(copy=True, feature_range=(0, 1)),\n",
       " RobustScaler(copy=True, quantile_range=(25.0, 75.0), with_centering=True,\n",
       "        with_scaling=True),\n",
       " Normalizer(copy=True, norm='l2')]"
      ]
     },
     "execution_count": 28,
     "metadata": {},
     "output_type": "execute_result"
    }
   ],
   "source": [
    "scalers = [StandardScaler(), MinMaxScaler(), RobustScaler(), Normalizer()]\n",
    "scalers"
   ]
  },
  {
   "cell_type": "code",
   "execution_count": 29,
   "metadata": {
    "collapsed": false
   },
   "outputs": [],
   "source": [
    "#scale the training and test sets using StandardScaler\n",
    "scaler = scalers[0]\n",
    "scaler.fit(X_train_nondummies)\n",
    "\n",
    "X_train_nondummies_standard = scaler.transform(X_train_nondummies)\n",
    "X_train_standard = np.concatenate((X_train_nondummies_standard, X_train_dummies.values), axis=1)\n",
    "\n",
    "X_test_nondummies_standard = scaler.transform(X_test_nondummies) \n",
    "X_test_standard= np.concatenate((X_test_nondummies_standard, X_test_dummies.values), axis=1)"
   ]
  },
  {
   "cell_type": "markdown",
   "metadata": {
    "collapsed": true
   },
   "source": [
    "### SVR Analysis and Results"
   ]
  },
  {
   "cell_type": "markdown",
   "metadata": {},
   "source": [
    "Initial SVR Model and Tuning"
   ]
  },
  {
   "cell_type": "code",
   "execution_count": 33,
   "metadata": {
    "collapsed": false,
    "scrolled": false
   },
   "outputs": [
    {
     "data": {
      "text/html": [
       "<div>\n",
       "<table border=\"1\" class=\"dataframe\">\n",
       "  <thead>\n",
       "    <tr style=\"text-align: right;\">\n",
       "      <th></th>\n",
       "      <th>gamma</th>\n",
       "      <th>C</th>\n",
       "      <th>train_score</th>\n",
       "      <th>test_score</th>\n",
       "      <th>cv1</th>\n",
       "      <th>cv2</th>\n",
       "      <th>cv3</th>\n",
       "      <th>cv4</th>\n",
       "      <th>cv5</th>\n",
       "      <th>cv_avg</th>\n",
       "    </tr>\n",
       "  </thead>\n",
       "  <tbody>\n",
       "    <tr>\n",
       "      <th>9</th>\n",
       "      <td>0.100</td>\n",
       "      <td>1.000000e+01</td>\n",
       "      <td>0.974312</td>\n",
       "      <td>0.260012</td>\n",
       "      <td>0.316065</td>\n",
       "      <td>0.239906</td>\n",
       "      <td>0.084873</td>\n",
       "      <td>0.177174</td>\n",
       "      <td>0.259913</td>\n",
       "      <td>0.215586</td>\n",
       "    </tr>\n",
       "    <tr>\n",
       "      <th>10</th>\n",
       "      <td>0.100</td>\n",
       "      <td>1.000000e+10</td>\n",
       "      <td>0.999102</td>\n",
       "      <td>0.239353</td>\n",
       "      <td>0.307861</td>\n",
       "      <td>0.249073</td>\n",
       "      <td>0.078932</td>\n",
       "      <td>0.172524</td>\n",
       "      <td>0.243581</td>\n",
       "      <td>0.210394</td>\n",
       "    </tr>\n",
       "    <tr>\n",
       "      <th>11</th>\n",
       "      <td>0.100</td>\n",
       "      <td>1.000000e+50</td>\n",
       "      <td>0.999102</td>\n",
       "      <td>0.239353</td>\n",
       "      <td>0.307861</td>\n",
       "      <td>0.249073</td>\n",
       "      <td>0.078932</td>\n",
       "      <td>0.172524</td>\n",
       "      <td>0.243581</td>\n",
       "      <td>0.210394</td>\n",
       "    </tr>\n",
       "    <tr>\n",
       "      <th>3</th>\n",
       "      <td>0.001</td>\n",
       "      <td>1.000000e+01</td>\n",
       "      <td>0.249127</td>\n",
       "      <td>0.208409</td>\n",
       "      <td>0.245470</td>\n",
       "      <td>0.186687</td>\n",
       "      <td>0.132649</td>\n",
       "      <td>0.112275</td>\n",
       "      <td>0.201621</td>\n",
       "      <td>0.175740</td>\n",
       "    </tr>\n",
       "    <tr>\n",
       "      <th>8</th>\n",
       "      <td>0.100</td>\n",
       "      <td>1.000000e+00</td>\n",
       "      <td>0.457197</td>\n",
       "      <td>0.211895</td>\n",
       "      <td>0.212466</td>\n",
       "      <td>0.169736</td>\n",
       "      <td>0.125519</td>\n",
       "      <td>0.118111</td>\n",
       "      <td>0.194993</td>\n",
       "      <td>0.164165</td>\n",
       "    </tr>\n",
       "  </tbody>\n",
       "</table>\n",
       "</div>"
      ],
      "text/plain": [
       "    gamma             C  train_score  test_score       cv1       cv2  \\\n",
       "9   0.100  1.000000e+01     0.974312    0.260012  0.316065  0.239906   \n",
       "10  0.100  1.000000e+10     0.999102    0.239353  0.307861  0.249073   \n",
       "11  0.100  1.000000e+50     0.999102    0.239353  0.307861  0.249073   \n",
       "3   0.001  1.000000e+01     0.249127    0.208409  0.245470  0.186687   \n",
       "8   0.100  1.000000e+00     0.457197    0.211895  0.212466  0.169736   \n",
       "\n",
       "         cv3       cv4       cv5    cv_avg  \n",
       "9   0.084873  0.177174  0.259913  0.215586  \n",
       "10  0.078932  0.172524  0.243581  0.210394  \n",
       "11  0.078932  0.172524  0.243581  0.210394  \n",
       "3   0.132649  0.112275  0.201621  0.175740  \n",
       "8   0.125519  0.118111  0.194993  0.164165  "
      ]
     },
     "execution_count": 33,
     "metadata": {},
     "output_type": "execute_result"
    }
   ],
   "source": [
    "score = pd.DataFrame(columns=['gamma','C','train_score','test_score','cv1', 'cv2', 'cv3', 'cv4', 'cv5','cv_avg'])\n",
    "for gamma in [1e-3,1e-1,1e0,1e1,1e10,1e50]:\n",
    "    for C in [1e-3,1e-1,1e0,1e1,1e10,1e50]:\n",
    "        svm = SVR(kernel='rbf', gamma=gamma, C=C)\n",
    "        svm.fit(X_train_standard, y_train)\n",
    "        train_score = svm.score(X_train_standard, y_train)\n",
    "        test_score = svm.score(X_test_standard, y_test)\n",
    "        cv_score = cross_val_score (svm, X_train_standard, y_train, cv=5)\n",
    "        row = pd.Series({'gamma':gamma, 'C':C, 'train_score':train_score,'test_score':test_score,'cv1':cv_score[0], 'cv2':cv_score[1], 'cv3':cv_score[2], 'cv4':cv_score[3], 'cv5':cv_score[4], 'cv_avg': cv_score.mean()})\n",
    "        score = score.append(row, ignore_index=True)\n",
    "score.sort_values(by='cv_avg', ascending=False, inplace=True)\n",
    "score.head()"
   ]
  },
  {
   "cell_type": "markdown",
   "metadata": {},
   "source": [
    "SVR based on \"Subject\" (M, P, and B)"
   ]
  },
  {
   "cell_type": "code",
   "execution_count": 34,
   "metadata": {
    "collapsed": false,
    "scrolled": true
   },
   "outputs": [],
   "source": [
    "X_M = X.loc[X['Subject_M']==1]\n",
    "X_P = X.loc[X['Subject_P']==1]\n",
    "X_B = X.loc[X['Subject_B']==1]\n",
    "\n",
    "y_M = INPUTdf.loc[INPUTdf['Subject']=='M', 'G3']\n",
    "y_P = INPUTdf.loc[INPUTdf['Subject']=='P', 'G3']\n",
    "y_B = INPUTdf.loc[INPUTdf['Subject']=='B', 'G3']\n",
    "\n",
    "X_M_train, X_M_test, y_M_train, y_M_test = train_test_split(X_M, y_M, test_size = 0.3, random_state=42)\n",
    "X_P_train, X_P_test, y_P_train, y_P_test = train_test_split(X_P, y_P, test_size = 0.3, random_state=42)\n",
    "X_B_train, X_B_test, y_B_train, y_B_test = train_test_split(X_B, y_B, test_size = 0.3, random_state=42)"
   ]
  },
  {
   "cell_type": "code",
   "execution_count": 36,
   "metadata": {
    "collapsed": true
   },
   "outputs": [],
   "source": [
    "#Split X_train and X_test into sub dataframes consists of dummy columns only and non-dummy columns only\n",
    "def test (Xtrain, Xtest, ytrain, ytest):\n",
    "    Xtrain_nondummies = Xtrain[['Fedu', 'Medu', 'absences',  'age',\n",
    "       'failures', 'famrel', 'freetime', 'goout',\n",
    "       'health', 'studytime', 'traveltime', 'Aalc']]\n",
    "    Xtrain_dummies = Xtrain[['Pstatus','activities', 'address','famsize', 'famsup','higher', 'internet', 'nursery', 'romantic', 'school',\n",
    "       'schoolsup', 'sex', 'Fjob_at_home',\n",
    "       'Fjob_health', 'Fjob_other', 'Fjob_services', 'Fjob_teacher',\n",
    "       'Mjob_at_home', 'Mjob_health', 'Mjob_other', 'Mjob_services',\n",
    "       'Mjob_teacher', 'Subject_B', 'Subject_M', 'Subject_P', 'reason_course',\n",
    "       'reason_home', 'reason_other', 'reason_reputation', 'guardian_father',\n",
    "       'guardian_mother', 'guardian_other']]\n",
    "    Xtest_nondummies = Xtest[['Fedu', 'Medu', 'absences',  'age',\n",
    "       'failures', 'famrel', 'freetime', 'goout',\n",
    "       'health', 'studytime', 'traveltime', 'Aalc']]\n",
    "    Xtest_dummies = Xtest[['Pstatus','activities', 'address','famsize', 'famsup','higher', 'internet', 'nursery', 'romantic', 'school',\n",
    "       'schoolsup', 'sex', 'Fjob_at_home',\n",
    "       'Fjob_health', 'Fjob_other', 'Fjob_services', 'Fjob_teacher',\n",
    "       'Mjob_at_home', 'Mjob_health', 'Mjob_other', 'Mjob_services',\n",
    "       'Mjob_teacher', 'Subject_B', 'Subject_M', 'Subject_P', 'reason_course',\n",
    "       'reason_home', 'reason_other', 'reason_reputation', 'guardian_father',\n",
    "       'guardian_mother', 'guardian_other']]\n",
    "\n",
    "    scaler.fit(Xtrain_nondummies)\n",
    "\n",
    "    Xtrain_nondummies_standard = scaler.transform(Xtrain_nondummies)\n",
    "    Xtrain_standard = np.concatenate((Xtrain_nondummies_standard, Xtrain_dummies.values), axis=1)\n",
    "\n",
    "    Xtest_nondummies_standard = scaler.transform(Xtest_nondummies) \n",
    "    Xtest_standard= np.concatenate((Xtest_nondummies_standard, Xtest_dummies.values), axis=1)\n",
    "\n",
    "    score= pd.DataFrame(columns=['gamma','C','train_score','test_score','cv1', 'cv2', 'cv3', 'cv4', 'cv5','cv_avg'])\n",
    "    for gamma in [1e-3,1e-1,1e0,1e1,1e10,1e50]:\n",
    "        for C in [1e-3,1e-1,1e0,1e1,1e10,1e50]:\n",
    "            svm = SVR(kernel='rbf', gamma=gamma, C=C)\n",
    "            svm.fit(Xtrain_standard, ytrain)\n",
    "            train_score = svm.score(Xtrain_standard, ytrain)\n",
    "            test_score = svm.score(Xtest_standard, ytest)\n",
    "            cv_score = cross_val_score (svm, Xtrain_standard, ytrain, cv=5)\n",
    "            row = pd.Series({'gamma':gamma, 'C':C, 'train_score':train_score,'test_score':test_score,'cv1':cv_score[0], 'cv2':cv_score[1], 'cv3':cv_score[2], 'cv4':cv_score[3], 'cv5':cv_score[4], 'cv_avg': cv_score.mean()})\n",
    "            score = score.append(row, ignore_index=True)\n",
    "    score.sort_values(by='cv_avg', ascending=False, inplace=True)\n",
    "    return score.head()"
   ]
  },
  {
   "cell_type": "code",
   "execution_count": 37,
   "metadata": {
    "collapsed": false
   },
   "outputs": [
    {
     "data": {
      "text/html": [
       "<div>\n",
       "<table border=\"1\" class=\"dataframe\">\n",
       "  <thead>\n",
       "    <tr style=\"text-align: right;\">\n",
       "      <th></th>\n",
       "      <th>gamma</th>\n",
       "      <th>C</th>\n",
       "      <th>train_score</th>\n",
       "      <th>test_score</th>\n",
       "      <th>cv1</th>\n",
       "      <th>cv2</th>\n",
       "      <th>cv3</th>\n",
       "      <th>cv4</th>\n",
       "      <th>cv5</th>\n",
       "      <th>cv_avg</th>\n",
       "    </tr>\n",
       "  </thead>\n",
       "  <tbody>\n",
       "    <tr>\n",
       "      <th>3</th>\n",
       "      <td>0.001</td>\n",
       "      <td>10.000</td>\n",
       "      <td>0.034664</td>\n",
       "      <td>-0.463490</td>\n",
       "      <td>-0.503868</td>\n",
       "      <td>-1.736394</td>\n",
       "      <td>-1.546849</td>\n",
       "      <td>-0.668147</td>\n",
       "      <td>-13.068233</td>\n",
       "      <td>-3.504699</td>\n",
       "    </tr>\n",
       "    <tr>\n",
       "      <th>2</th>\n",
       "      <td>0.001</td>\n",
       "      <td>1.000</td>\n",
       "      <td>-0.042338</td>\n",
       "      <td>-0.395520</td>\n",
       "      <td>-0.535953</td>\n",
       "      <td>-1.576194</td>\n",
       "      <td>-1.512316</td>\n",
       "      <td>-0.767460</td>\n",
       "      <td>-13.810833</td>\n",
       "      <td>-3.640551</td>\n",
       "    </tr>\n",
       "    <tr>\n",
       "      <th>1</th>\n",
       "      <td>0.001</td>\n",
       "      <td>0.100</td>\n",
       "      <td>-0.051084</td>\n",
       "      <td>-0.389923</td>\n",
       "      <td>-0.539275</td>\n",
       "      <td>-1.568733</td>\n",
       "      <td>-1.501168</td>\n",
       "      <td>-0.777704</td>\n",
       "      <td>-14.021397</td>\n",
       "      <td>-3.681655</td>\n",
       "    </tr>\n",
       "    <tr>\n",
       "      <th>0</th>\n",
       "      <td>0.001</td>\n",
       "      <td>0.001</td>\n",
       "      <td>-0.052052</td>\n",
       "      <td>-0.389310</td>\n",
       "      <td>-0.539645</td>\n",
       "      <td>-1.568007</td>\n",
       "      <td>-1.500012</td>\n",
       "      <td>-0.778835</td>\n",
       "      <td>-14.044715</td>\n",
       "      <td>-3.686243</td>\n",
       "    </tr>\n",
       "    <tr>\n",
       "      <th>6</th>\n",
       "      <td>0.100</td>\n",
       "      <td>0.001</td>\n",
       "      <td>-0.051816</td>\n",
       "      <td>-0.389454</td>\n",
       "      <td>-0.539543</td>\n",
       "      <td>-1.567092</td>\n",
       "      <td>-1.500127</td>\n",
       "      <td>-0.778720</td>\n",
       "      <td>-14.048238</td>\n",
       "      <td>-3.686744</td>\n",
       "    </tr>\n",
       "  </tbody>\n",
       "</table>\n",
       "</div>"
      ],
      "text/plain": [
       "   gamma       C  train_score  test_score       cv1       cv2       cv3  \\\n",
       "3  0.001  10.000     0.034664   -0.463490 -0.503868 -1.736394 -1.546849   \n",
       "2  0.001   1.000    -0.042338   -0.395520 -0.535953 -1.576194 -1.512316   \n",
       "1  0.001   0.100    -0.051084   -0.389923 -0.539275 -1.568733 -1.501168   \n",
       "0  0.001   0.001    -0.052052   -0.389310 -0.539645 -1.568007 -1.500012   \n",
       "6  0.100   0.001    -0.051816   -0.389454 -0.539543 -1.567092 -1.500127   \n",
       "\n",
       "        cv4        cv5    cv_avg  \n",
       "3 -0.668147 -13.068233 -3.504699  \n",
       "2 -0.767460 -13.810833 -3.640551  \n",
       "1 -0.777704 -14.021397 -3.681655  \n",
       "0 -0.778835 -14.044715 -3.686243  \n",
       "6 -0.778720 -14.048238 -3.686744  "
      ]
     },
     "execution_count": 37,
     "metadata": {},
     "output_type": "execute_result"
    }
   ],
   "source": [
    "test(X_M_train, X_M_test, y_M_train, y_M_test)"
   ]
  },
  {
   "cell_type": "code",
   "execution_count": 38,
   "metadata": {
    "collapsed": false
   },
   "outputs": [
    {
     "data": {
      "text/html": [
       "<div>\n",
       "<table border=\"1\" class=\"dataframe\">\n",
       "  <thead>\n",
       "    <tr style=\"text-align: right;\">\n",
       "      <th></th>\n",
       "      <th>gamma</th>\n",
       "      <th>C</th>\n",
       "      <th>train_score</th>\n",
       "      <th>test_score</th>\n",
       "      <th>cv1</th>\n",
       "      <th>cv2</th>\n",
       "      <th>cv3</th>\n",
       "      <th>cv4</th>\n",
       "      <th>cv5</th>\n",
       "      <th>cv_avg</th>\n",
       "    </tr>\n",
       "  </thead>\n",
       "  <tbody>\n",
       "    <tr>\n",
       "      <th>9</th>\n",
       "      <td>0.100</td>\n",
       "      <td>1.000000e+01</td>\n",
       "      <td>0.966862</td>\n",
       "      <td>0.179177</td>\n",
       "      <td>0.090953</td>\n",
       "      <td>0.253472</td>\n",
       "      <td>0.168112</td>\n",
       "      <td>0.066128</td>\n",
       "      <td>0.350916</td>\n",
       "      <td>0.185916</td>\n",
       "    </tr>\n",
       "    <tr>\n",
       "      <th>10</th>\n",
       "      <td>0.100</td>\n",
       "      <td>1.000000e+10</td>\n",
       "      <td>0.999131</td>\n",
       "      <td>0.150689</td>\n",
       "      <td>0.070258</td>\n",
       "      <td>0.262786</td>\n",
       "      <td>0.148097</td>\n",
       "      <td>0.085030</td>\n",
       "      <td>0.288227</td>\n",
       "      <td>0.170880</td>\n",
       "    </tr>\n",
       "    <tr>\n",
       "      <th>11</th>\n",
       "      <td>0.100</td>\n",
       "      <td>1.000000e+50</td>\n",
       "      <td>0.999131</td>\n",
       "      <td>0.150689</td>\n",
       "      <td>0.070258</td>\n",
       "      <td>0.262786</td>\n",
       "      <td>0.148097</td>\n",
       "      <td>0.085030</td>\n",
       "      <td>0.288227</td>\n",
       "      <td>0.170880</td>\n",
       "    </tr>\n",
       "    <tr>\n",
       "      <th>3</th>\n",
       "      <td>0.001</td>\n",
       "      <td>1.000000e+01</td>\n",
       "      <td>0.211324</td>\n",
       "      <td>0.153406</td>\n",
       "      <td>0.098673</td>\n",
       "      <td>0.119604</td>\n",
       "      <td>0.140844</td>\n",
       "      <td>0.081811</td>\n",
       "      <td>0.248065</td>\n",
       "      <td>0.137799</td>\n",
       "    </tr>\n",
       "    <tr>\n",
       "      <th>8</th>\n",
       "      <td>0.100</td>\n",
       "      <td>1.000000e+00</td>\n",
       "      <td>0.416912</td>\n",
       "      <td>0.170345</td>\n",
       "      <td>0.098852</td>\n",
       "      <td>0.100635</td>\n",
       "      <td>0.122263</td>\n",
       "      <td>0.083721</td>\n",
       "      <td>0.198320</td>\n",
       "      <td>0.120758</td>\n",
       "    </tr>\n",
       "  </tbody>\n",
       "</table>\n",
       "</div>"
      ],
      "text/plain": [
       "    gamma             C  train_score  test_score       cv1       cv2  \\\n",
       "9   0.100  1.000000e+01     0.966862    0.179177  0.090953  0.253472   \n",
       "10  0.100  1.000000e+10     0.999131    0.150689  0.070258  0.262786   \n",
       "11  0.100  1.000000e+50     0.999131    0.150689  0.070258  0.262786   \n",
       "3   0.001  1.000000e+01     0.211324    0.153406  0.098673  0.119604   \n",
       "8   0.100  1.000000e+00     0.416912    0.170345  0.098852  0.100635   \n",
       "\n",
       "         cv3       cv4       cv5    cv_avg  \n",
       "9   0.168112  0.066128  0.350916  0.185916  \n",
       "10  0.148097  0.085030  0.288227  0.170880  \n",
       "11  0.148097  0.085030  0.288227  0.170880  \n",
       "3   0.140844  0.081811  0.248065  0.137799  \n",
       "8   0.122263  0.083721  0.198320  0.120758  "
      ]
     },
     "execution_count": 38,
     "metadata": {},
     "output_type": "execute_result"
    }
   ],
   "source": [
    "test(X_P_train, X_P_test, y_P_train, y_P_test)"
   ]
  },
  {
   "cell_type": "code",
   "execution_count": 39,
   "metadata": {
    "collapsed": false,
    "scrolled": true
   },
   "outputs": [
    {
     "data": {
      "text/html": [
       "<div>\n",
       "<table border=\"1\" class=\"dataframe\">\n",
       "  <thead>\n",
       "    <tr style=\"text-align: right;\">\n",
       "      <th></th>\n",
       "      <th>gamma</th>\n",
       "      <th>C</th>\n",
       "      <th>train_score</th>\n",
       "      <th>test_score</th>\n",
       "      <th>cv1</th>\n",
       "      <th>cv2</th>\n",
       "      <th>cv3</th>\n",
       "      <th>cv4</th>\n",
       "      <th>cv5</th>\n",
       "      <th>cv_avg</th>\n",
       "    </tr>\n",
       "  </thead>\n",
       "  <tbody>\n",
       "    <tr>\n",
       "      <th>3</th>\n",
       "      <td>0.001</td>\n",
       "      <td>1.000000e+01</td>\n",
       "      <td>0.251807</td>\n",
       "      <td>0.168409</td>\n",
       "      <td>0.229178</td>\n",
       "      <td>0.170677</td>\n",
       "      <td>0.111468</td>\n",
       "      <td>0.176299</td>\n",
       "      <td>0.229674</td>\n",
       "      <td>0.183459</td>\n",
       "    </tr>\n",
       "    <tr>\n",
       "      <th>9</th>\n",
       "      <td>0.100</td>\n",
       "      <td>1.000000e+01</td>\n",
       "      <td>0.993613</td>\n",
       "      <td>0.197146</td>\n",
       "      <td>0.149467</td>\n",
       "      <td>0.128295</td>\n",
       "      <td>0.052867</td>\n",
       "      <td>0.176747</td>\n",
       "      <td>0.294797</td>\n",
       "      <td>0.160435</td>\n",
       "    </tr>\n",
       "    <tr>\n",
       "      <th>10</th>\n",
       "      <td>0.100</td>\n",
       "      <td>1.000000e+10</td>\n",
       "      <td>0.999086</td>\n",
       "      <td>0.188802</td>\n",
       "      <td>0.146030</td>\n",
       "      <td>0.132169</td>\n",
       "      <td>0.049322</td>\n",
       "      <td>0.168080</td>\n",
       "      <td>0.288748</td>\n",
       "      <td>0.156870</td>\n",
       "    </tr>\n",
       "    <tr>\n",
       "      <th>11</th>\n",
       "      <td>0.100</td>\n",
       "      <td>1.000000e+50</td>\n",
       "      <td>0.999086</td>\n",
       "      <td>0.188802</td>\n",
       "      <td>0.146030</td>\n",
       "      <td>0.132169</td>\n",
       "      <td>0.049322</td>\n",
       "      <td>0.168080</td>\n",
       "      <td>0.288748</td>\n",
       "      <td>0.156870</td>\n",
       "    </tr>\n",
       "    <tr>\n",
       "      <th>8</th>\n",
       "      <td>0.100</td>\n",
       "      <td>1.000000e+00</td>\n",
       "      <td>0.435161</td>\n",
       "      <td>0.163944</td>\n",
       "      <td>0.112402</td>\n",
       "      <td>0.091788</td>\n",
       "      <td>0.049957</td>\n",
       "      <td>0.136323</td>\n",
       "      <td>0.144417</td>\n",
       "      <td>0.106977</td>\n",
       "    </tr>\n",
       "  </tbody>\n",
       "</table>\n",
       "</div>"
      ],
      "text/plain": [
       "    gamma             C  train_score  test_score       cv1       cv2  \\\n",
       "3   0.001  1.000000e+01     0.251807    0.168409  0.229178  0.170677   \n",
       "9   0.100  1.000000e+01     0.993613    0.197146  0.149467  0.128295   \n",
       "10  0.100  1.000000e+10     0.999086    0.188802  0.146030  0.132169   \n",
       "11  0.100  1.000000e+50     0.999086    0.188802  0.146030  0.132169   \n",
       "8   0.100  1.000000e+00     0.435161    0.163944  0.112402  0.091788   \n",
       "\n",
       "         cv3       cv4       cv5    cv_avg  \n",
       "3   0.111468  0.176299  0.229674  0.183459  \n",
       "9   0.052867  0.176747  0.294797  0.160435  \n",
       "10  0.049322  0.168080  0.288748  0.156870  \n",
       "11  0.049322  0.168080  0.288748  0.156870  \n",
       "8   0.049957  0.136323  0.144417  0.106977  "
      ]
     },
     "execution_count": 39,
     "metadata": {},
     "output_type": "execute_result"
    }
   ],
   "source": [
    "test(X_B_train, X_B_test, y_B_train, y_B_test)"
   ]
  },
  {
   "cell_type": "code",
   "execution_count": null,
   "metadata": {
    "collapsed": true
   },
   "outputs": [],
   "source": []
  },
  {
   "cell_type": "code",
   "execution_count": null,
   "metadata": {
    "collapsed": true
   },
   "outputs": [],
   "source": []
  },
  {
   "cell_type": "code",
   "execution_count": null,
   "metadata": {
    "collapsed": true
   },
   "outputs": [],
   "source": []
  },
  {
   "cell_type": "code",
   "execution_count": null,
   "metadata": {
    "collapsed": true
   },
   "outputs": [],
   "source": []
  },
  {
   "cell_type": "code",
   "execution_count": null,
   "metadata": {
    "collapsed": true
   },
   "outputs": [],
   "source": []
  }
 ],
 "metadata": {
  "kernelspec": {
   "display_name": "Python 3",
   "language": "python",
   "name": "python3"
  },
  "language_info": {
   "codemirror_mode": {
    "name": "ipython",
    "version": 3
   },
   "file_extension": ".py",
   "mimetype": "text/x-python",
   "name": "python",
   "nbconvert_exporter": "python",
   "pygments_lexer": "ipython3",
   "version": "3.6.0"
  }
 },
 "nbformat": 4,
 "nbformat_minor": 2
}
